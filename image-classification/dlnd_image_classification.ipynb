{
 "cells": [
  {
   "cell_type": "markdown",
   "metadata": {
    "collapsed": true
   },
   "source": [
    "# Image Classification\n",
    "In this project, you'll classify images from the [CIFAR-10 dataset](https://www.cs.toronto.edu/~kriz/cifar.html).  The dataset consists of airplanes, dogs, cats, and other objects. You'll preprocess the images, then train a convolutional neural network on all the samples. The images need to be normalized and the labels need to be one-hot encoded.  You'll get to apply what you learned and build a convolutional, max pooling, dropout, and fully connected layers.  At the end, you'll get to see your neural network's predictions on the sample images.\n",
    "## Get the Data\n",
    "Run the following cell to download the [CIFAR-10 dataset for python](https://www.cs.toronto.edu/~kriz/cifar-10-python.tar.gz)."
   ]
  },
  {
   "cell_type": "code",
   "execution_count": 1,
   "metadata": {},
   "outputs": [
    {
     "name": "stdout",
     "output_type": "stream",
     "text": [
      "All files found!\n"
     ]
    }
   ],
   "source": [
    "\"\"\"\n",
    "DON'T MODIFY ANYTHING IN THIS CELL THAT IS BELOW THIS LINE\n",
    "\"\"\"\n",
    "from urllib.request import urlretrieve\n",
    "from os.path import isfile, isdir\n",
    "from tqdm import tqdm\n",
    "import problem_unittests as tests\n",
    "import tarfile\n",
    "\n",
    "cifar10_dataset_folder_path = 'cifar-10-batches-py'\n",
    "\n",
    "# Use Floyd's cifar-10 dataset if present\n",
    "floyd_cifar10_location = '/input/cifar-10/python.tar.gz'\n",
    "if isfile(floyd_cifar10_location):\n",
    "    tar_gz_path = floyd_cifar10_location\n",
    "else:\n",
    "    tar_gz_path = 'cifar-10-python.tar.gz'\n",
    "\n",
    "class DLProgress(tqdm):\n",
    "    last_block = 0\n",
    "\n",
    "    def hook(self, block_num=1, block_size=1, total_size=None):\n",
    "        self.total = total_size\n",
    "        self.update((block_num - self.last_block) * block_size)\n",
    "        self.last_block = block_num\n",
    "\n",
    "if not isfile(tar_gz_path):\n",
    "    with DLProgress(unit='B', unit_scale=True, miniters=1, desc='CIFAR-10 Dataset') as pbar:\n",
    "        urlretrieve(\n",
    "            'https://www.cs.toronto.edu/~kriz/cifar-10-python.tar.gz',\n",
    "            tar_gz_path,\n",
    "            pbar.hook)\n",
    "\n",
    "if not isdir(cifar10_dataset_folder_path):\n",
    "    with tarfile.open(tar_gz_path) as tar:\n",
    "        tar.extractall()\n",
    "        tar.close()\n",
    "\n",
    "\n",
    "tests.test_folder_path(cifar10_dataset_folder_path)"
   ]
  },
  {
   "cell_type": "markdown",
   "metadata": {},
   "source": [
    "## Explore the Data\n",
    "The dataset is broken into batches to prevent your machine from running out of memory.  The CIFAR-10 dataset consists of 5 batches, named `data_batch_1`, `data_batch_2`, etc.. Each batch contains the labels and images that are one of the following:\n",
    "* airplane\n",
    "* automobile\n",
    "* bird\n",
    "* cat\n",
    "* deer\n",
    "* dog\n",
    "* frog\n",
    "* horse\n",
    "* ship\n",
    "* truck\n",
    "\n",
    "Understanding a dataset is part of making predictions on the data.  Play around with the code cell below by changing the `batch_id` and `sample_id`. The `batch_id` is the id for a batch (1-5). The `sample_id` is the id for a image and label pair in the batch.\n",
    "\n",
    "Ask yourself \"What are all possible labels?\", \"What is the range of values for the image data?\", \"Are the labels in order or random?\".  Answers to questions like these will help you preprocess the data and end up with better predictions."
   ]
  },
  {
   "cell_type": "code",
   "execution_count": 2,
   "metadata": {},
   "outputs": [
    {
     "name": "stdout",
     "output_type": "stream",
     "text": [
      "\n",
      "Stats of batch 1:\n",
      "Samples: 10000\n",
      "Label Counts: {0: 1005, 1: 974, 2: 1032, 3: 1016, 4: 999, 5: 937, 6: 1030, 7: 1001, 8: 1025, 9: 981}\n",
      "First 20 Labels: [6, 9, 9, 4, 1, 1, 2, 7, 8, 3, 4, 7, 7, 2, 9, 9, 9, 3, 2, 6]\n",
      "\n",
      "Example of Image 5:\n",
      "Image - Min Value: 0 Max Value: 252\n",
      "Image - Shape: (32, 32, 3)\n",
      "Label - Label Id: 1 Name: automobile\n"
     ]
    },
    {
     "data": {
      "image/png": "[encoded data removed]",
      "text/plain": [
       "<matplotlib.figure.Figure at 0x7f067880dcc0>"
      ]
     },
     "metadata": {
      "image/png": {
       "height": 250,
       "width": 253
      }
     },
     "output_type": "display_data"
    }
   ],
   "source": [
    "%matplotlib inline\n",
    "%config InlineBackend.figure_format = 'retina'\n",
    "\n",
    "import helper\n",
    "import numpy as np\n",
    "\n",
    "# Explore the dataset\n",
    "batch_id = 1\n",
    "sample_id = 5\n",
    "helper.display_stats(cifar10_dataset_folder_path, batch_id, sample_id)"
   ]
  },
  {
   "cell_type": "markdown",
   "metadata": {},
   "source": [
    "## Implement Preprocess Functions\n",
    "### Normalize\n",
    "In the cell below, implement the `normalize` function to take in image data, `x`, and return it as a normalized Numpy array. The values should be in the range of 0 to 1, inclusive.  The return object should be the same shape as `x`."
   ]
  },
  {
   "cell_type": "code",
   "execution_count": 3,
   "metadata": {},
   "outputs": [
    {
     "name": "stdout",
     "output_type": "stream",
     "text": [
      "Tests Passed\n"
     ]
    }
   ],
   "source": [
    "def normalize(x):\n",
    "    \"\"\"\n",
    "    Normalize a list of sample image data in the range of 0 to 1\n",
    "    : x: List of image data.  The image shape is (32, 32, 3)\n",
    "    : return: Numpy array of normalize data\n",
    "    \"\"\"\n",
    "    # TODO: Implement Function\n",
    "    return (x / 255.0)\n",
    "\n",
    "\n",
    "\"\"\"\n",
    "DON'T MODIFY ANYTHING IN THIS CELL THAT IS BELOW THIS LINE\n",
    "\"\"\"\n",
    "tests.test_normalize(normalize)"
   ]
  },
  {
   "cell_type": "markdown",
   "metadata": {},
   "source": [
    "### One-hot encode\n",
    "Just like the previous code cell, you'll be implementing a function for preprocessing.  This time, you'll implement the `one_hot_encode` function. The input, `x`, are a list of labels.  Implement the function to return the list of labels as One-Hot encoded Numpy array.  The possible values for labels are 0 to 9. The one-hot encoding function should return the same encoding for each value between each call to `one_hot_encode`.  Make sure to save the map of encodings outside the function.\n",
    "\n",
    "Hint: Don't reinvent the wheel."
   ]
  },
  {
   "cell_type": "code",
   "execution_count": 4,
   "metadata": {},
   "outputs": [
    {
     "name": "stdout",
     "output_type": "stream",
     "text": [
      "Tests Passed\n"
     ]
    }
   ],
   "source": [
    "def one_hot_encode(x):\n",
    "    \"\"\"\n",
    "    One hot encode a list of sample labels. Return a one-hot encoded vector for each label.\n",
    "    : x: List of sample Labels\n",
    "    : return: Numpy array of one-hot encoded labels\n",
    "    \"\"\"\n",
    "    # TODO: Implement Function\n",
    "    return np.eye(10)[x]\n",
    "\n",
    "\n",
    "\"\"\"\n",
    "DON'T MODIFY ANYTHING IN THIS CELL THAT IS BELOW THIS LINE\n",
    "\"\"\"\n",
    "tests.test_one_hot_encode(one_hot_encode)"
   ]
  },
  {
   "cell_type": "markdown",
   "metadata": {},
   "source": [
    "### Randomize Data\n",
    "As you saw from exploring the data above, the order of the samples are randomized.  It doesn't hurt to randomize it again, but you don't need to for this dataset."
   ]
  },
  {
   "cell_type": "markdown",
   "metadata": {},
   "source": [
    "## Preprocess all the data and save it\n",
    "Running the code cell below will preprocess all the CIFAR-10 data and save it to file. The code below also uses 10% of the training data for validation."
   ]
  },
  {
   "cell_type": "code",
   "execution_count": 5,
   "metadata": {},
   "outputs": [],
   "source": [
    "\"\"\"\n",
    "DON'T MODIFY ANYTHING IN THIS CELL\n",
    "\"\"\"\n",
    "# Preprocess Training, Validation, and Testing Data\n",
    "helper.preprocess_and_save_data(cifar10_dataset_folder_path, normalize, one_hot_encode)"
   ]
  },
  {
   "cell_type": "markdown",
   "metadata": {},
   "source": [
    "# Check Point\n",
    "This is your first checkpoint.  If you ever decide to come back to this notebook or have to restart the notebook, you can start from here.  The preprocessed data has been saved to disk."
   ]
  },
  {
   "cell_type": "code",
   "execution_count": 6,
   "metadata": {
    "collapsed": true
   },
   "outputs": [],
   "source": [
    "\"\"\"\n",
    "DON'T MODIFY ANYTHING IN THIS CELL\n",
    "\"\"\"\n",
    "import pickle\n",
    "import problem_unittests as tests\n",
    "import helper\n",
    "\n",
    "# Load the Preprocessed Validation data\n",
    "valid_features, valid_labels = pickle.load(open('preprocess_validation.p', mode='rb'))"
   ]
  },
  {
   "cell_type": "markdown",
   "metadata": {},
   "source": [
    "## Build the network\n",
    "For the neural network, you'll build each layer into a function.  Most of the code you've seen has been outside of functions. To test your code more thoroughly, we require that you put each layer in a function.  This allows us to give you better feedback and test for simple mistakes using our unittests before you submit your project.\n",
    "\n",
    ">**Note:** If you're finding it hard to dedicate enough time for this course each week, we've provided a small shortcut to this part of the project. In the next couple of problems, you'll have the option to use classes from the [TensorFlow Layers](https://www.tensorflow.org/api_docs/python/tf/layers) or [TensorFlow Layers (contrib)](https://www.tensorflow.org/api_guides/python/contrib.layers) packages to build each layer, except the layers you build in the \"Convolutional and Max Pooling Layer\" section.  TF Layers is similar to Keras's and TFLearn's abstraction to layers, so it's easy to pickup.\n",
    "\n",
    ">However, if you would like to get the most out of this course, try to solve all the problems _without_ using anything from the TF Layers packages. You **can** still use classes from other packages that happen to have the same name as ones you find in TF Layers! For example, instead of using the TF Layers version of the `conv2d` class, [tf.layers.conv2d](https://www.tensorflow.org/api_docs/python/tf/layers/conv2d), you would want to use the TF Neural Network version of `conv2d`, [tf.nn.conv2d](https://www.tensorflow.org/api_docs/python/tf/nn/conv2d). \n",
    "\n",
    "Let's begin!\n",
    "\n",
    "### Input\n",
    "The neural network needs to read the image data, one-hot encoded labels, and dropout keep probability. Implement the following functions\n",
    "* Implement `neural_net_image_input`\n",
    " * Return a [TF Placeholder](https://www.tensorflow.org/api_docs/python/tf/placeholder)\n",
    " * Set the shape using `image_shape` with batch size set to `None`.\n",
    " * Name the TensorFlow placeholder \"x\" using the TensorFlow `name` parameter in the [TF Placeholder](https://www.tensorflow.org/api_docs/python/tf/placeholder).\n",
    "* Implement `neural_net_label_input`\n",
    " * Return a [TF Placeholder](https://www.tensorflow.org/api_docs/python/tf/placeholder)\n",
    " * Set the shape using `n_classes` with batch size set to `None`.\n",
    " * Name the TensorFlow placeholder \"y\" using the TensorFlow `name` parameter in the [TF Placeholder](https://www.tensorflow.org/api_docs/python/tf/placeholder).\n",
    "* Implement `neural_net_keep_prob_input`\n",
    " * Return a [TF Placeholder](https://www.tensorflow.org/api_docs/python/tf/placeholder) for dropout keep probability.\n",
    " * Name the TensorFlow placeholder \"keep_prob\" using the TensorFlow `name` parameter in the [TF Placeholder](https://www.tensorflow.org/api_docs/python/tf/placeholder).\n",
    "\n",
    "These names will be used at the end of the project to load your saved model.\n",
    "\n",
    "Note: `None` for shapes in TensorFlow allow for a dynamic size."
   ]
  },
  {
   "cell_type": "code",
   "execution_count": 7,
   "metadata": {},
   "outputs": [
    {
     "name": "stdout",
     "output_type": "stream",
     "text": [
      "Image Input Tests Passed.\n",
      "Label Input Tests Passed.\n",
      "Keep Prob Tests Passed.\n"
     ]
    }
   ],
   "source": [
    "import tensorflow as tf\n",
    "\n",
    "def neural_net_image_input(image_shape):\n",
    "    \"\"\"\n",
    "    Return a Tensor for a bach of image input\n",
    "    : image_shape: Shape of the images\n",
    "    : return: Tensor for image input.\n",
    "    \"\"\"\n",
    "    # TODO: Implement Function\n",
    "    return tf.placeholder(tf.float32, [None, image_shape[0], image_shape[1], image_shape[2]], name='x')\n",
    "\n",
    "\n",
    "def neural_net_label_input(n_classes):\n",
    "    \"\"\"\n",
    "    Return a Tensor for a batch of label input\n",
    "    : n_classes: Number of classes\n",
    "    : return: Tensor for label input.\n",
    "    \"\"\"\n",
    "    # TODO: Implement Function\n",
    "    return tf.placeholder(tf.float32, [None, n_classes], name='y')\n",
    "\n",
    "\n",
    "def neural_net_keep_prob_input():\n",
    "    \"\"\"\n",
    "    Return a Tensor for keep probability\n",
    "    : return: Tensor for keep probability.\n",
    "    \"\"\"\n",
    "    # TODO: Implement Function\n",
    "    return tf.placeholder(tf.float32, name='keep_prob')\n",
    "\n",
    "\n",
    "\"\"\"\n",
    "DON'T MODIFY ANYTHING IN THIS CELL THAT IS BELOW THIS LINE\n",
    "\"\"\"\n",
    "tf.reset_default_graph()\n",
    "tests.test_nn_image_inputs(neural_net_image_input)\n",
    "tests.test_nn_label_inputs(neural_net_label_input)\n",
    "tests.test_nn_keep_prob_inputs(neural_net_keep_prob_input)"
   ]
  },
  {
   "cell_type": "markdown",
   "metadata": {},
   "source": [
    "### Convolution and Max Pooling Layer\n",
    "Convolution layers have a lot of success with images. For this code cell, you should implement the function `conv2d_maxpool` to apply convolution then max pooling:\n",
    "* Create the weight and bias using `conv_ksize`, `conv_num_outputs` and the shape of `x_tensor`.\n",
    "* Apply a convolution to `x_tensor` using weight and `conv_strides`.\n",
    " * We recommend you use same padding, but you're welcome to use any padding.\n",
    "* Add bias\n",
    "* Add a nonlinear activation to the convolution.\n",
    "* Apply Max Pooling using `pool_ksize` and `pool_strides`.\n",
    " * We recommend you use same padding, but you're welcome to use any padding.\n",
    "\n",
    "**Note:** You **can't** use [TensorFlow Layers](https://www.tensorflow.org/api_docs/python/tf/layers) or [TensorFlow Layers (contrib)](https://www.tensorflow.org/api_guides/python/contrib.layers) for **this** layer, but you can still use TensorFlow's [Neural Network](https://www.tensorflow.org/api_docs/python/tf/nn) package. You may still use the shortcut option for all the **other** layers."
   ]
  },
  {
   "cell_type": "code",
   "execution_count": 8,
   "metadata": {},
   "outputs": [
    {
     "name": "stdout",
     "output_type": "stream",
     "text": [
      "Tests Passed\n"
     ]
    }
   ],
   "source": [
    "def conv2d_maxpool(x_tensor, conv_num_outputs, conv_ksize, conv_strides, pool_ksize, pool_strides):\n",
    "    \"\"\"\n",
    "    Apply convolution then max pooling to x_tensor\n",
    "    :param x_tensor: TensorFlow Tensor\n",
    "    :param conv_num_outputs: Number of outputs for the convolutional layer\n",
    "    :param conv_ksize: kernal size 2-D Tuple for the convolutional layer\n",
    "    :param conv_strides: Stride 2-D Tuple for convolution\n",
    "    :param pool_ksize: kernal size 2-D Tuple for pool\n",
    "    :param pool_strides: Stride 2-D Tuple for pool\n",
    "    : return: A tensor that represents convolution and max pooling of x_tensor\n",
    "    \"\"\"\n",
    "    # TODO: Implement Function    \n",
    "    (batch, in_height, in_width, in_channels) = x_tensor.shape\n",
    "    # convolution kernel weights.shape [filter_height, filter_width, in_channels, out_channels]    \n",
    "    weights_shape = [conv_ksize[0], conv_ksize[1], int(in_channels), conv_num_outputs]\n",
    "    weights_stddev = np.prod(weights_shape[:-1])**-0.5    \n",
    "    conv_weights = tf.Variable(tf.truncated_normal(weights_shape, stddev=weights_stddev), name='conv_weights')    \n",
    "    conv_bias = tf.Variable(tf.zeros([conv_num_outputs]), name='conv_bias')\n",
    "    \n",
    "    conv_layer = tf.nn.conv2d(x_tensor, conv_weights, [1, conv_strides[0], conv_strides[1], 1], 'SAME')        \n",
    "    conv_layer = tf.nn.relu(tf.nn.bias_add(conv_layer, conv_bias), name='conv_layer')\n",
    "    pool_layer = tf.nn.max_pool(conv_layer, [1, pool_ksize[0], pool_ksize[1], 1], \\\n",
    "                                [1, pool_strides[0], pool_strides[1], 1], 'SAME', name='pool_layer')\n",
    "    return pool_layer\n",
    "\n",
    "\n",
    "\"\"\"\n",
    "DON'T MODIFY ANYTHING IN THIS CELL THAT IS BELOW THIS LINE\n",
    "\"\"\"\n",
    "tests.test_con_pool(conv2d_maxpool)"
   ]
  },
  {
   "cell_type": "markdown",
   "metadata": {},
   "source": [
    "### Flatten Layer\n",
    "Implement the `flatten` function to change the dimension of `x_tensor` from a 4-D tensor to a 2-D tensor.  The output should be the shape (*Batch Size*, *Flattened Image Size*). Shortcut option: you can use classes from the [TensorFlow Layers](https://www.tensorflow.org/api_docs/python/tf/layers) or [TensorFlow Layers (contrib)](https://www.tensorflow.org/api_guides/python/contrib.layers) packages for this layer. For more of a challenge, only use other TensorFlow packages."
   ]
  },
  {
   "cell_type": "code",
   "execution_count": 9,
   "metadata": {},
   "outputs": [
    {
     "name": "stdout",
     "output_type": "stream",
     "text": [
      "Tests Passed\n"
     ]
    }
   ],
   "source": [
    "def flatten(x_tensor):\n",
    "    \"\"\"\n",
    "    Flatten x_tensor to (Batch Size, Flattened Image Size)\n",
    "    : x_tensor: A tensor of size (Batch Size, ...), where ... are the image dimensions.\n",
    "    : return: A tensor of size (Batch Size, Flattened Image Size).\n",
    "    \"\"\"\n",
    "    # TODO: Implement Function\n",
    "    dim = int(np.prod(x_tensor.shape[1:]))    \n",
    "    return tf.reshape(x_tensor, [-1, dim])\n",
    "\n",
    "\n",
    "\"\"\"\n",
    "DON'T MODIFY ANYTHING IN THIS CELL THAT IS BELOW THIS LINE\n",
    "\"\"\"\n",
    "tests.test_flatten(flatten)"
   ]
  },
  {
   "cell_type": "markdown",
   "metadata": {},
   "source": [
    "### Fully-Connected Layer\n",
    "Implement the `fully_conn` function to apply a fully connected layer to `x_tensor` with the shape (*Batch Size*, *num_outputs*). Shortcut option: you can use classes from the [TensorFlow Layers](https://www.tensorflow.org/api_docs/python/tf/layers) or [TensorFlow Layers (contrib)](https://www.tensorflow.org/api_guides/python/contrib.layers) packages for this layer. For more of a challenge, only use other TensorFlow packages."
   ]
  },
  {
   "cell_type": "code",
   "execution_count": 10,
   "metadata": {},
   "outputs": [
    {
     "name": "stdout",
     "output_type": "stream",
     "text": [
      "Tests Passed\n"
     ]
    }
   ],
   "source": [
    "def fully_conn(x_tensor, num_outputs):\n",
    "    \"\"\"\n",
    "    Apply a fully connected layer to x_tensor using weight and bias\n",
    "    : x_tensor: A 2-D tensor where the first dimension is batch size.\n",
    "    : num_outputs: The number of output that the new tensor should be.\n",
    "    : return: A 2-D tensor where the second dimension is num_outputs.\n",
    "    \"\"\"\n",
    "    # TODO: Implement Function\n",
    "    n_inputs = int(x_tensor.shape[1])\n",
    "    fc_weights = tf.Variable(tf.truncated_normal((n_inputs, num_outputs), stddev=n_inputs**-0.5), name='fc_weights')\n",
    "    fc_bias = tf.Variable(tf.zeros((num_outputs)), name='fc_bias')\n",
    "    fc_layer = tf.nn.relu(tf.add(tf.matmul(x_tensor, fc_weights), fc_bias), name='fc_layer')\n",
    "    return fc_layer\n",
    "\n",
    "\n",
    "\"\"\"\n",
    "DON'T MODIFY ANYTHING IN THIS CELL THAT IS BELOW THIS LINE\n",
    "\"\"\"\n",
    "tests.test_fully_conn(fully_conn)"
   ]
  },
  {
   "cell_type": "markdown",
   "metadata": {},
   "source": [
    "### Output Layer\n",
    "Implement the `output` function to apply a fully connected layer to `x_tensor` with the shape (*Batch Size*, *num_outputs*). Shortcut option: you can use classes from the [TensorFlow Layers](https://www.tensorflow.org/api_docs/python/tf/layers) or [TensorFlow Layers (contrib)](https://www.tensorflow.org/api_guides/python/contrib.layers) packages for this layer. For more of a challenge, only use other TensorFlow packages.\n",
    "\n",
    "**Note:** Activation, softmax, or cross entropy should **not** be applied to this."
   ]
  },
  {
   "cell_type": "code",
   "execution_count": 11,
   "metadata": {},
   "outputs": [
    {
     "name": "stdout",
     "output_type": "stream",
     "text": [
      "Tests Passed\n"
     ]
    }
   ],
   "source": [
    "def output(x_tensor, num_outputs):\n",
    "    \"\"\"\n",
    "    Apply a output layer to x_tensor using weight and bias\n",
    "    : x_tensor: A 2-D tensor where the first dimension is batch size.\n",
    "    : num_outputs: The number of output that the new tensor should be.\n",
    "    : return: A 2-D tensor where the second dimension is num_outputs.\n",
    "    \"\"\"\n",
    "    # TODO: Implement Function\n",
    "    n_inputs = int(x_tensor.shape[1])\n",
    "    out_weights = tf.Variable(tf.truncated_normal((n_inputs, num_outputs),stddev=n_inputs**-0.5), name='out_weights')\n",
    "    out_bias = tf.Variable(tf.zeros((num_outputs)), name='out_bias')\n",
    "    out_layer = tf.add(tf.matmul(x_tensor, out_weights), out_bias, name='out_layer')\n",
    "    return out_layer\n",
    "\n",
    "\n",
    "\"\"\"\n",
    "DON'T MODIFY ANYTHING IN THIS CELL THAT IS BELOW THIS LINE\n",
    "\"\"\"\n",
    "tests.test_output(output)"
   ]
  },
  {
   "cell_type": "markdown",
   "metadata": {},
   "source": [
    "### Create Convolutional Model\n",
    "Implement the function `conv_net` to create a convolutional neural network model. The function takes in a batch of images, `x`, and outputs logits.  Use the layers you created above to create this model:\n",
    "\n",
    "* Apply 1, 2, or 3 Convolution and Max Pool layers\n",
    "* Apply a Flatten Layer\n",
    "* Apply 1, 2, or 3 Fully Connected Layers\n",
    "* Apply an Output Layer\n",
    "* Return the output\n",
    "* Apply [TensorFlow's Dropout](https://www.tensorflow.org/api_docs/python/tf/nn/dropout) to one or more layers in the model using `keep_prob`. "
   ]
  },
  {
   "cell_type": "code",
   "execution_count": 55,
   "metadata": {},
   "outputs": [
    {
     "name": "stdout",
     "output_type": "stream",
     "text": [
      "Neural Network Built!\n"
     ]
    }
   ],
   "source": [
    "def conv_net(x, keep_prob):\n",
    "    \"\"\"\n",
    "    Create a convolutional neural network model\n",
    "    : x: Placeholder tensor that holds image data.\n",
    "    : keep_prob: Placeholder tensor that hold dropout keep probability.\n",
    "    : return: Tensor that represents logits\n",
    "    \"\"\"\n",
    "    # TODO: Apply 1, 2, or 3 Convolution and Max Pool layers\n",
    "    #    Play around with different number of outputs, kernel size and stride\n",
    "    # Function Definition from Above:\n",
    "    #    conv2d_maxpool(x_tensor, conv_num_outputs, conv_ksize, conv_strides, pool_ksize, pool_strides)\n",
    "    with tf.name_scope('conv'):\n",
    "        conv = tf.identity(conv2d_maxpool(x, 12, (5,5), (1,1), (1,1), (1,1)), name='layer_conv1')\n",
    "        conv = tf.nn.dropout(conv, keep_prob=keep_prob, name='layer_dropout_conv1')\n",
    "        conv = tf.identity(conv2d_maxpool(conv, 32, (5,5), (1,1), (2,2), (1,1)), name='layer_conv2')\n",
    "        conv = tf.nn.dropout(conv, keep_prob=keep_prob, name='layer_dropout_conv2')\n",
    "        # conv = tf.identity(conv2d_maxpool(conv, 64, (3,3), (1,1), (2,2), (1,1)), name='layer_conv3')\n",
    "        # conv = tf.nn.dropout(conv, keep_prob=keep_prob, name='layer_dropout_conv3')\n",
    "    \n",
    "\n",
    "    # TODO: Apply a Flatten Layer\n",
    "    # Function Definition from Above:\n",
    "    #   flatten(x_tensor)\n",
    "    with tf.name_scope('flatten'):\n",
    "        flat = tf.identity(flatten(conv), name=\"layer_conv_flat\")\n",
    "    \n",
    "\n",
    "    # TODO: Apply 1, 2, or 3 Fully Connected Layers\n",
    "    #    Play around with different number of outputs\n",
    "    # Function Definition from Above:\n",
    "    #   fully_conn(x_tensor, num_outputs)\n",
    "    with tf.name_scope('fully_connected'):\n",
    "        fullyconn = tf.identity(fully_conn(flat, 100), name='layer_fullyconn1')\n",
    "        # fullyconn = tf.nn.dropout(fullyconn, keep_prob=keep_prob, name='layer_dropout_fullyconn1')\n",
    "        fullyconn = tf.identity(fully_conn(fullyconn, 100), name='layer_fullyconn2')\n",
    "        # fullyconn = tf.nn.dropout(fullyconn, keep_prob=keep_prob, name='layer_dropout_fullyconn2')\n",
    "    \n",
    "    \n",
    "    # TODO: Apply an Output Layer\n",
    "    #    Set this to the number of classes\n",
    "    # Function Definition from Above:\n",
    "    #   output(x_tensor, num_outputs)\n",
    "    with tf.name_scope('output'):\n",
    "        out = tf.identity(output(fullyconn, 10), name='layer_out')\n",
    "    \n",
    "    \n",
    "    # TODO: return output\n",
    "    return out\n",
    "\n",
    "\n",
    "\"\"\"\n",
    "DON'T MODIFY ANYTHING IN THIS CELL THAT IS BELOW THIS LINE\n",
    "\"\"\"\n",
    "\n",
    "##############################\n",
    "## Build the Neural Network ##\n",
    "##############################\n",
    "\n",
    "# Remove previous weights, bias, inputs, etc..\n",
    "tf.reset_default_graph()\n",
    "\n",
    "# Inputs\n",
    "x = neural_net_image_input((32, 32, 3))\n",
    "y = neural_net_label_input(10)\n",
    "keep_prob = neural_net_keep_prob_input()\n",
    "\n",
    "# Model\n",
    "logits = conv_net(x, keep_prob)\n",
    "\n",
    "# Name logits Tensor, so that is can be loaded from disk after training\n",
    "logits = tf.identity(logits, name='logits')\n",
    "\n",
    "# Loss and Optimizer\n",
    "cost = tf.reduce_mean(tf.nn.softmax_cross_entropy_with_logits(logits=logits, labels=y))\n",
    "optimizer = tf.train.AdamOptimizer().minimize(cost)\n",
    "\n",
    "# Accuracy\n",
    "correct_pred = tf.equal(tf.argmax(logits, 1), tf.argmax(y, 1))\n",
    "accuracy = tf.reduce_mean(tf.cast(correct_pred, tf.float32), name='accuracy')\n",
    "\n",
    "tests.test_conv_net(conv_net)"
   ]
  },
  {
   "cell_type": "markdown",
   "metadata": {},
   "source": [
    "## Train the Neural Network\n",
    "### Single Optimization\n",
    "Implement the function `train_neural_network` to do a single optimization.  The optimization should use `optimizer` to optimize in `session` with a `feed_dict` of the following:\n",
    "* `x` for image input\n",
    "* `y` for labels\n",
    "* `keep_prob` for keep probability for dropout\n",
    "\n",
    "This function will be called for each batch, so `tf.global_variables_initializer()` has already been called.\n",
    "\n",
    "Note: Nothing needs to be returned. This function is only optimizing the neural network."
   ]
  },
  {
   "cell_type": "code",
   "execution_count": 56,
   "metadata": {},
   "outputs": [
    {
     "name": "stdout",
     "output_type": "stream",
     "text": [
      "Tests Passed\n"
     ]
    }
   ],
   "source": [
    "def train_neural_network(session, optimizer, keep_probability, feature_batch, label_batch):\n",
    "    \"\"\"\n",
    "    Optimize the session on a batch of images and labels\n",
    "    : session: Current TensorFlow session\n",
    "    : optimizer: TensorFlow optimizer function\n",
    "    : keep_probability: keep probability\n",
    "    : feature_batch: Batch of Numpy image data\n",
    "    : label_batch: Batch of Numpy label data\n",
    "    \"\"\"\n",
    "    # TODO: Implement Function\n",
    "    session.run(optimizer, feed_dict={x:feature_batch, y:label_batch, keep_prob: keep_probability})\n",
    "\n",
    "\n",
    "\"\"\"\n",
    "DON'T MODIFY ANYTHING IN THIS CELL THAT IS BELOW THIS LINE\n",
    "\"\"\"\n",
    "tests.test_train_nn(train_neural_network)"
   ]
  },
  {
   "cell_type": "markdown",
   "metadata": {},
   "source": [
    "### Show Stats\n",
    "Implement the function `print_stats` to print loss and validation accuracy.  Use the global variables `valid_features` and `valid_labels` to calculate validation accuracy.  Use a keep probability of `1.0` to calculate the loss and validation accuracy."
   ]
  },
  {
   "cell_type": "code",
   "execution_count": 57,
   "metadata": {},
   "outputs": [],
   "source": [
    "def print_stats(session, feature_batch, label_batch, cost, accuracy):\n",
    "    \"\"\"\n",
    "    Print information about loss and validation accuracy\n",
    "    : session: Current TensorFlow session\n",
    "    : feature_batch: Batch of Numpy image data\n",
    "    : label_batch: Batch of Numpy label data\n",
    "    : cost: TensorFlow cost function\n",
    "    : accuracy: TensorFlow accuracy function\n",
    "    \"\"\"\n",
    "    # TODO: Implement Function\n",
    "    loss, validation_accuracy = session.run([cost, accuracy], feed_dict={x:feature_batch, y:label_batch, keep_prob:1.0})\n",
    "    print('loss: {0}\\t accuracy: {1:.3f}'.format(loss, validation_accuracy))"
   ]
  },
  {
   "cell_type": "markdown",
   "metadata": {},
   "source": [
    "### Hyperparameters\n",
    "Tune the following parameters:\n",
    "* Set `epochs` to the number of iterations until the network stops learning or start overfitting\n",
    "* Set `batch_size` to the highest number that your machine has memory for.  Most people set them to common sizes of memory:\n",
    " * 64\n",
    " * 128\n",
    " * 256\n",
    " * ...\n",
    "* Set `keep_probability` to the probability of keeping a node using dropout"
   ]
  },
  {
   "cell_type": "code",
   "execution_count": 60,
   "metadata": {
    "collapsed": true
   },
   "outputs": [],
   "source": [
    "# TODO: Tune Parameters\n",
    "epochs = 50\n",
    "batch_size = 128\n",
    "keep_probability = 0.5"
   ]
  },
  {
   "cell_type": "markdown",
   "metadata": {},
   "source": [
    "### Train on a Single CIFAR-10 Batch\n",
    "Instead of training the neural network on all the CIFAR-10 batches of data, let's use a single batch. This should save time while you iterate on the model to get a better accuracy.  Once the final validation accuracy is 50% or greater, run the model on all the data in the next section."
   ]
  },
  {
   "cell_type": "code",
   "execution_count": 61,
   "metadata": {},
   "outputs": [
    {
     "name": "stdout",
     "output_type": "stream",
     "text": [
      "Checking the Training on a Single Batch...\n",
      "Epoch  1, CIFAR-10 Batch 1:  loss: 2.1596951484680176\t accuracy: 0.300\n",
      "Epoch  2, CIFAR-10 Batch 1:  loss: 1.9327995777130127\t accuracy: 0.375\n",
      "Epoch  3, CIFAR-10 Batch 1:  loss: 1.7691341638565063\t accuracy: 0.400\n",
      "Epoch  4, CIFAR-10 Batch 1:  loss: 1.6292835474014282\t accuracy: 0.425\n",
      "Epoch  5, CIFAR-10 Batch 1:  loss: 1.5179466009140015\t accuracy: 0.525\n",
      "Epoch  6, CIFAR-10 Batch 1:  loss: 1.3945003747940063\t accuracy: 0.550\n",
      "Epoch  7, CIFAR-10 Batch 1:  loss: 1.286702036857605\t accuracy: 0.600\n",
      "Epoch  8, CIFAR-10 Batch 1:  loss: 1.1705176830291748\t accuracy: 0.650\n",
      "Epoch  9, CIFAR-10 Batch 1:  loss: 1.1177469491958618\t accuracy: 0.625\n",
      "Epoch 10, CIFAR-10 Batch 1:  loss: 1.0018333196640015\t accuracy: 0.750\n",
      "Epoch 11, CIFAR-10 Batch 1:  loss: 0.8836061954498291\t accuracy: 0.775\n",
      "Epoch 12, CIFAR-10 Batch 1:  loss: 0.7768160104751587\t accuracy: 0.825\n",
      "Epoch 13, CIFAR-10 Batch 1:  loss: 0.6608414649963379\t accuracy: 0.875\n",
      "Epoch 14, CIFAR-10 Batch 1:  loss: 0.5695241093635559\t accuracy: 0.900\n",
      "Epoch 15, CIFAR-10 Batch 1:  loss: 0.44579237699508667\t accuracy: 0.975\n",
      "Epoch 16, CIFAR-10 Batch 1:  loss: 0.4101588726043701\t accuracy: 0.950\n",
      "Epoch 17, CIFAR-10 Batch 1:  loss: 0.3693596124649048\t accuracy: 0.950\n",
      "Epoch 18, CIFAR-10 Batch 1:  loss: 0.32643336057662964\t accuracy: 1.000\n",
      "Epoch 19, CIFAR-10 Batch 1:  loss: 0.3011937439441681\t accuracy: 0.975\n",
      "Epoch 20, CIFAR-10 Batch 1:  loss: 0.2755799889564514\t accuracy: 1.000\n",
      "Epoch 21, CIFAR-10 Batch 1:  loss: 0.2595730423927307\t accuracy: 1.000\n",
      "Epoch 22, CIFAR-10 Batch 1:  loss: 0.22569972276687622\t accuracy: 0.975\n",
      "Epoch 23, CIFAR-10 Batch 1:  loss: 0.19393648207187653\t accuracy: 0.975\n",
      "Epoch 24, CIFAR-10 Batch 1:  loss: 0.22236989438533783\t accuracy: 1.000\n",
      "Epoch 25, CIFAR-10 Batch 1:  loss: 0.1497679203748703\t accuracy: 1.000\n",
      "Epoch 26, CIFAR-10 Batch 1:  loss: 0.14762774109840393\t accuracy: 1.000\n",
      "Epoch 27, CIFAR-10 Batch 1:  loss: 0.12518861889839172\t accuracy: 1.000\n",
      "Epoch 28, CIFAR-10 Batch 1:  loss: 0.139193594455719\t accuracy: 1.000\n",
      "Epoch 29, CIFAR-10 Batch 1:  loss: 0.11468788236379623\t accuracy: 1.000\n",
      "Epoch 30, CIFAR-10 Batch 1:  loss: 0.12257334589958191\t accuracy: 0.975\n",
      "Epoch 31, CIFAR-10 Batch 1:  loss: 0.1031503975391388\t accuracy: 1.000\n",
      "Epoch 32, CIFAR-10 Batch 1:  loss: 0.10052628815174103\t accuracy: 1.000\n",
      "Epoch 33, CIFAR-10 Batch 1:  loss: 0.1070907711982727\t accuracy: 1.000\n",
      "Epoch 34, CIFAR-10 Batch 1:  loss: 0.08169150352478027\t accuracy: 1.000\n",
      "Epoch 35, CIFAR-10 Batch 1:  loss: 0.06975807249546051\t accuracy: 1.000\n",
      "Epoch 36, CIFAR-10 Batch 1:  loss: 0.05864625424146652\t accuracy: 1.000\n",
      "Epoch 37, CIFAR-10 Batch 1:  loss: 0.05267102271318436\t accuracy: 1.000\n",
      "Epoch 38, CIFAR-10 Batch 1:  loss: 0.06595443189144135\t accuracy: 1.000\n",
      "Epoch 39, CIFAR-10 Batch 1:  loss: 0.060551099479198456\t accuracy: 1.000\n",
      "Epoch 40, CIFAR-10 Batch 1:  loss: 0.068329356610775\t accuracy: 1.000\n",
      "Epoch 41, CIFAR-10 Batch 1:  loss: 0.05775437504053116\t accuracy: 1.000\n",
      "Epoch 42, CIFAR-10 Batch 1:  loss: 0.06060329079627991\t accuracy: 1.000\n",
      "Epoch 43, CIFAR-10 Batch 1:  loss: 0.06176755204796791\t accuracy: 1.000\n",
      "Epoch 44, CIFAR-10 Batch 1:  loss: 0.055662691593170166\t accuracy: 1.000\n",
      "Epoch 45, CIFAR-10 Batch 1:  loss: 0.07922516018152237\t accuracy: 0.975\n",
      "Epoch 46, CIFAR-10 Batch 1:  loss: 0.0668078064918518\t accuracy: 1.000\n",
      "Epoch 47, CIFAR-10 Batch 1:  loss: 0.03394879028201103\t accuracy: 1.000\n",
      "Epoch 48, CIFAR-10 Batch 1:  loss: 0.040507011115550995\t accuracy: 1.000\n",
      "Epoch 49, CIFAR-10 Batch 1:  loss: 0.0462314747273922\t accuracy: 1.000\n",
      "Epoch 50, CIFAR-10 Batch 1:  loss: 0.039714716374874115\t accuracy: 1.000\n"
     ]
    }
   ],
   "source": [
    "\"\"\"\n",
    "DON'T MODIFY ANYTHING IN THIS CELL\n",
    "\"\"\"\n",
    "print('Checking the Training on a Single Batch...')\n",
    "with tf.Session() as sess:\n",
    "    # Initializing the variables\n",
    "    sess.run(tf.global_variables_initializer())\n",
    "    \n",
    "    # Training cycle\n",
    "    for epoch in range(epochs):\n",
    "        batch_i = 1\n",
    "        for batch_features, batch_labels in helper.load_preprocess_training_batch(batch_i, batch_size):\n",
    "            train_neural_network(sess, optimizer, keep_probability, batch_features, batch_labels)\n",
    "        print('Epoch {:>2}, CIFAR-10 Batch {}:  '.format(epoch + 1, batch_i), end='')\n",
    "        print_stats(sess, batch_features, batch_labels, cost, accuracy)"
   ]
  },
  {
   "cell_type": "markdown",
   "metadata": {},
   "source": [
    "### Fully Train the Model\n",
    "Now that you got a good accuracy with a single CIFAR-10 batch, try it with all five batches."
   ]
  },
  {
   "cell_type": "code",
   "execution_count": 62,
   "metadata": {},
   "outputs": [
    {
     "name": "stdout",
     "output_type": "stream",
     "text": [
      "Training...\n",
      "Epoch  1, CIFAR-10 Batch 1:  loss: 2.1990745067596436\t accuracy: 0.200\n",
      "Epoch  1, CIFAR-10 Batch 2:  loss: 1.910423755645752\t accuracy: 0.300\n",
      "Epoch  1, CIFAR-10 Batch 3:  loss: 1.8071303367614746\t accuracy: 0.425\n",
      "Epoch  1, CIFAR-10 Batch 4:  loss: 1.6714818477630615\t accuracy: 0.350\n",
      "Epoch  1, CIFAR-10 Batch 5:  loss: 1.6633481979370117\t accuracy: 0.400\n",
      "Epoch  2, CIFAR-10 Batch 1:  loss: 1.7264602184295654\t accuracy: 0.475\n",
      "Epoch  2, CIFAR-10 Batch 2:  loss: 1.4430195093154907\t accuracy: 0.425\n",
      "Epoch  2, CIFAR-10 Batch 3:  loss: 1.3290592432022095\t accuracy: 0.475\n",
      "Epoch  2, CIFAR-10 Batch 4:  loss: 1.4172027111053467\t accuracy: 0.425\n",
      "Epoch  2, CIFAR-10 Batch 5:  loss: 1.4374029636383057\t accuracy: 0.475\n",
      "Epoch  3, CIFAR-10 Batch 1:  loss: 1.509683609008789\t accuracy: 0.500\n",
      "Epoch  3, CIFAR-10 Batch 2:  loss: 1.2142127752304077\t accuracy: 0.550\n",
      "Epoch  3, CIFAR-10 Batch 3:  loss: 1.1473803520202637\t accuracy: 0.500\n",
      "Epoch  3, CIFAR-10 Batch 4:  loss: 1.2194052934646606\t accuracy: 0.600\n",
      "Epoch  3, CIFAR-10 Batch 5:  loss: 1.2897179126739502\t accuracy: 0.625\n",
      "Epoch  4, CIFAR-10 Batch 1:  loss: 1.3386120796203613\t accuracy: 0.575\n",
      "Epoch  4, CIFAR-10 Batch 2:  loss: 1.054061770439148\t accuracy: 0.675\n",
      "Epoch  4, CIFAR-10 Batch 3:  loss: 1.0590513944625854\t accuracy: 0.525\n",
      "Epoch  4, CIFAR-10 Batch 4:  loss: 1.0910500288009644\t accuracy: 0.625\n",
      "Epoch  4, CIFAR-10 Batch 5:  loss: 1.1449058055877686\t accuracy: 0.600\n",
      "Epoch  5, CIFAR-10 Batch 1:  loss: 1.2226027250289917\t accuracy: 0.625\n",
      "Epoch  5, CIFAR-10 Batch 2:  loss: 0.9593523740768433\t accuracy: 0.675\n",
      "Epoch  5, CIFAR-10 Batch 3:  loss: 0.9232862591743469\t accuracy: 0.675\n",
      "Epoch  5, CIFAR-10 Batch 4:  loss: 0.983936607837677\t accuracy: 0.650\n",
      "Epoch  5, CIFAR-10 Batch 5:  loss: 1.0291168689727783\t accuracy: 0.650\n",
      "Epoch  6, CIFAR-10 Batch 1:  loss: 1.1555588245391846\t accuracy: 0.650\n",
      "Epoch  6, CIFAR-10 Batch 2:  loss: 0.9432473182678223\t accuracy: 0.725\n",
      "Epoch  6, CIFAR-10 Batch 3:  loss: 0.8125138282775879\t accuracy: 0.725\n",
      "Epoch  6, CIFAR-10 Batch 4:  loss: 0.959656298160553\t accuracy: 0.675\n",
      "Epoch  6, CIFAR-10 Batch 5:  loss: 0.929027259349823\t accuracy: 0.750\n",
      "Epoch  7, CIFAR-10 Batch 1:  loss: 0.9417124390602112\t accuracy: 0.800\n",
      "Epoch  7, CIFAR-10 Batch 2:  loss: 0.8244916200637817\t accuracy: 0.750\n",
      "Epoch  7, CIFAR-10 Batch 3:  loss: 0.7027260065078735\t accuracy: 0.800\n",
      "Epoch  7, CIFAR-10 Batch 4:  loss: 0.8446153402328491\t accuracy: 0.725\n",
      "Epoch  7, CIFAR-10 Batch 5:  loss: 0.8155947327613831\t accuracy: 0.775\n",
      "Epoch  8, CIFAR-10 Batch 1:  loss: 0.9059790372848511\t accuracy: 0.725\n",
      "Epoch  8, CIFAR-10 Batch 2:  loss: 0.7798599004745483\t accuracy: 0.725\n",
      "Epoch  8, CIFAR-10 Batch 3:  loss: 0.5750155448913574\t accuracy: 0.825\n",
      "Epoch  8, CIFAR-10 Batch 4:  loss: 0.8281019926071167\t accuracy: 0.800\n",
      "Epoch  8, CIFAR-10 Batch 5:  loss: 0.7361166477203369\t accuracy: 0.825\n",
      "Epoch  9, CIFAR-10 Batch 1:  loss: 0.8385238647460938\t accuracy: 0.800\n",
      "Epoch  9, CIFAR-10 Batch 2:  loss: 0.71710205078125\t accuracy: 0.775\n",
      "Epoch  9, CIFAR-10 Batch 3:  loss: 0.5600767135620117\t accuracy: 0.825\n",
      "Epoch  9, CIFAR-10 Batch 4:  loss: 0.6663811206817627\t accuracy: 0.825\n",
      "Epoch  9, CIFAR-10 Batch 5:  loss: 0.6574831604957581\t accuracy: 0.850\n",
      "Epoch 10, CIFAR-10 Batch 1:  loss: 0.745783269405365\t accuracy: 0.800\n",
      "Epoch 10, CIFAR-10 Batch 2:  loss: 0.728298544883728\t accuracy: 0.800\n",
      "Epoch 10, CIFAR-10 Batch 3:  loss: 0.5238466262817383\t accuracy: 0.850\n",
      "Epoch 10, CIFAR-10 Batch 4:  loss: 0.7232983708381653\t accuracy: 0.800\n",
      "Epoch 10, CIFAR-10 Batch 5:  loss: 0.543120801448822\t accuracy: 0.900\n",
      "Epoch 11, CIFAR-10 Batch 1:  loss: 0.6542174816131592\t accuracy: 0.825\n",
      "Epoch 11, CIFAR-10 Batch 2:  loss: 0.638268232345581\t accuracy: 0.850\n",
      "Epoch 11, CIFAR-10 Batch 3:  loss: 0.46252351999282837\t accuracy: 0.850\n",
      "Epoch 11, CIFAR-10 Batch 4:  loss: 0.6712742447853088\t accuracy: 0.825\n",
      "Epoch 11, CIFAR-10 Batch 5:  loss: 0.5219825506210327\t accuracy: 0.925\n",
      "Epoch 12, CIFAR-10 Batch 1:  loss: 0.6311793327331543\t accuracy: 0.875\n",
      "Epoch 12, CIFAR-10 Batch 2:  loss: 0.587761402130127\t accuracy: 0.825\n",
      "Epoch 12, CIFAR-10 Batch 3:  loss: 0.41334593296051025\t accuracy: 0.900\n",
      "Epoch 12, CIFAR-10 Batch 4:  loss: 0.6007668375968933\t accuracy: 0.825\n",
      "Epoch 12, CIFAR-10 Batch 5:  loss: 0.4966352581977844\t accuracy: 0.950\n",
      "Epoch 13, CIFAR-10 Batch 1:  loss: 0.5686862468719482\t accuracy: 0.825\n",
      "Epoch 13, CIFAR-10 Batch 2:  loss: 0.5823314785957336\t accuracy: 0.900\n",
      "Epoch 13, CIFAR-10 Batch 3:  loss: 0.4234846234321594\t accuracy: 0.875\n",
      "Epoch 13, CIFAR-10 Batch 4:  loss: 0.5115721225738525\t accuracy: 0.900\n",
      "Epoch 13, CIFAR-10 Batch 5:  loss: 0.42821210622787476\t accuracy: 0.950\n",
      "Epoch 14, CIFAR-10 Batch 1:  loss: 0.5269339680671692\t accuracy: 0.875\n",
      "Epoch 14, CIFAR-10 Batch 2:  loss: 0.5490612983703613\t accuracy: 0.850\n",
      "Epoch 14, CIFAR-10 Batch 3:  loss: 0.36534202098846436\t accuracy: 0.875\n",
      "Epoch 14, CIFAR-10 Batch 4:  loss: 0.5864353775978088\t accuracy: 0.800\n",
      "Epoch 14, CIFAR-10 Batch 5:  loss: 0.4286879599094391\t accuracy: 0.925\n",
      "Epoch 15, CIFAR-10 Batch 1:  loss: 0.43780145049095154\t accuracy: 0.925\n",
      "Epoch 15, CIFAR-10 Batch 2:  loss: 0.5179034471511841\t accuracy: 0.925\n",
      "Epoch 15, CIFAR-10 Batch 3:  loss: 0.37842217087745667\t accuracy: 0.925\n",
      "Epoch 15, CIFAR-10 Batch 4:  loss: 0.4994840621948242\t accuracy: 0.825\n",
      "Epoch 15, CIFAR-10 Batch 5:  loss: 0.3980746567249298\t accuracy: 0.950\n",
      "Epoch 16, CIFAR-10 Batch 1:  loss: 0.43884846568107605\t accuracy: 0.900\n",
      "Epoch 16, CIFAR-10 Batch 2:  loss: 0.4773629903793335\t accuracy: 0.925\n",
      "Epoch 16, CIFAR-10 Batch 3:  loss: 0.35656431317329407\t accuracy: 0.900\n",
      "Epoch 16, CIFAR-10 Batch 4:  loss: 0.4607388377189636\t accuracy: 0.850\n",
      "Epoch 16, CIFAR-10 Batch 5:  loss: 0.438397079706192\t accuracy: 0.925\n",
      "Epoch 17, CIFAR-10 Batch 1:  loss: 0.43330591917037964\t accuracy: 0.900\n",
      "Epoch 17, CIFAR-10 Batch 2:  loss: 0.46484923362731934\t accuracy: 0.950\n",
      "Epoch 17, CIFAR-10 Batch 3:  loss: 0.33280429244041443\t accuracy: 0.925\n",
      "Epoch 17, CIFAR-10 Batch 4:  loss: 0.4145246148109436\t accuracy: 0.875\n",
      "Epoch 17, CIFAR-10 Batch 5:  loss: 0.3844505846500397\t accuracy: 0.925\n",
      "Epoch 18, CIFAR-10 Batch 1:  loss: 0.3704478442668915\t accuracy: 0.975\n",
      "Epoch 18, CIFAR-10 Batch 2:  loss: 0.4068407416343689\t accuracy: 0.925\n",
      "Epoch 18, CIFAR-10 Batch 3:  loss: 0.3334099352359772\t accuracy: 0.925\n",
      "Epoch 18, CIFAR-10 Batch 4:  loss: 0.41072243452072144\t accuracy: 0.875\n",
      "Epoch 18, CIFAR-10 Batch 5:  loss: 0.346623957157135\t accuracy: 0.950\n",
      "Epoch 19, CIFAR-10 Batch 1:  loss: 0.3431984782218933\t accuracy: 0.950\n",
      "Epoch 19, CIFAR-10 Batch 2:  loss: 0.4167097806930542\t accuracy: 0.900\n",
      "Epoch 19, CIFAR-10 Batch 3:  loss: 0.27154093980789185\t accuracy: 0.975\n",
      "Epoch 19, CIFAR-10 Batch 4:  loss: 0.41026225686073303\t accuracy: 0.875\n",
      "Epoch 19, CIFAR-10 Batch 5:  loss: 0.3252902030944824\t accuracy: 0.950\n",
      "Epoch 20, CIFAR-10 Batch 1:  loss: 0.33367469906806946\t accuracy: 0.950\n",
      "Epoch 20, CIFAR-10 Batch 2:  loss: 0.3846564292907715\t accuracy: 0.925\n",
      "Epoch 20, CIFAR-10 Batch 3:  loss: 0.30244606733322144\t accuracy: 0.975\n",
      "Epoch 20, CIFAR-10 Batch 4:  loss: 0.37643277645111084\t accuracy: 0.850\n",
      "Epoch 20, CIFAR-10 Batch 5:  loss: 0.30549508333206177\t accuracy: 0.975\n",
      "Epoch 21, CIFAR-10 Batch 1:  loss: 0.29738709330558777\t accuracy: 0.950\n",
      "Epoch 21, CIFAR-10 Batch 2:  loss: 0.33315080404281616\t accuracy: 0.925\n",
      "Epoch 21, CIFAR-10 Batch 3:  loss: 0.29042187333106995\t accuracy: 0.950\n",
      "Epoch 21, CIFAR-10 Batch 4:  loss: 0.36421138048171997\t accuracy: 0.900\n",
      "Epoch 21, CIFAR-10 Batch 5:  loss: 0.27952027320861816\t accuracy: 0.975\n",
      "Epoch 22, CIFAR-10 Batch 1:  loss: 0.2653847336769104\t accuracy: 0.950\n",
      "Epoch 22, CIFAR-10 Batch 2:  loss: 0.29142695665359497\t accuracy: 0.925\n",
      "Epoch 22, CIFAR-10 Batch 3:  loss: 0.27903711795806885\t accuracy: 0.950\n",
      "Epoch 22, CIFAR-10 Batch 4:  loss: 0.40358150005340576\t accuracy: 0.875\n",
      "Epoch 22, CIFAR-10 Batch 5:  loss: 0.24708795547485352\t accuracy: 1.000\n",
      "Epoch 23, CIFAR-10 Batch 1:  loss: 0.2717575430870056\t accuracy: 0.925\n",
      "Epoch 23, CIFAR-10 Batch 2:  loss: 0.31361591815948486\t accuracy: 0.950\n",
      "Epoch 23, CIFAR-10 Batch 3:  loss: 0.2716469168663025\t accuracy: 1.000\n",
      "Epoch 23, CIFAR-10 Batch 4:  loss: 0.3443779945373535\t accuracy: 0.925\n",
      "Epoch 23, CIFAR-10 Batch 5:  loss: 0.2802756428718567\t accuracy: 0.975\n",
      "Epoch 24, CIFAR-10 Batch 1:  loss: 0.2724978029727936\t accuracy: 0.975\n"
     ]
    },
    {
     "name": "stdout",
     "output_type": "stream",
     "text": [
      "Epoch 24, CIFAR-10 Batch 2:  loss: 0.30627167224884033\t accuracy: 0.950\n",
      "Epoch 24, CIFAR-10 Batch 3:  loss: 0.26863810420036316\t accuracy: 0.925\n",
      "Epoch 24, CIFAR-10 Batch 4:  loss: 0.3039269745349884\t accuracy: 0.950\n",
      "Epoch 24, CIFAR-10 Batch 5:  loss: 0.2331833392381668\t accuracy: 0.975\n",
      "Epoch 25, CIFAR-10 Batch 1:  loss: 0.23190641403198242\t accuracy: 1.000\n",
      "Epoch 25, CIFAR-10 Batch 2:  loss: 0.2734697461128235\t accuracy: 0.950\n",
      "Epoch 25, CIFAR-10 Batch 3:  loss: 0.24288590252399445\t accuracy: 0.950\n",
      "Epoch 25, CIFAR-10 Batch 4:  loss: 0.31465601921081543\t accuracy: 0.900\n",
      "Epoch 25, CIFAR-10 Batch 5:  loss: 0.2740117907524109\t accuracy: 0.975\n",
      "Epoch 26, CIFAR-10 Batch 1:  loss: 0.2787479758262634\t accuracy: 0.925\n",
      "Epoch 26, CIFAR-10 Batch 2:  loss: 0.28393298387527466\t accuracy: 0.950\n",
      "Epoch 26, CIFAR-10 Batch 3:  loss: 0.261409193277359\t accuracy: 0.925\n",
      "Epoch 26, CIFAR-10 Batch 4:  loss: 0.3321278989315033\t accuracy: 0.925\n",
      "Epoch 26, CIFAR-10 Batch 5:  loss: 0.28193363547325134\t accuracy: 0.975\n",
      "Epoch 27, CIFAR-10 Batch 1:  loss: 0.2227785885334015\t accuracy: 0.975\n",
      "Epoch 27, CIFAR-10 Batch 2:  loss: 0.25712549686431885\t accuracy: 0.950\n",
      "Epoch 27, CIFAR-10 Batch 3:  loss: 0.211083322763443\t accuracy: 0.975\n",
      "Epoch 27, CIFAR-10 Batch 4:  loss: 0.2948390543460846\t accuracy: 0.950\n",
      "Epoch 27, CIFAR-10 Batch 5:  loss: 0.21786735951900482\t accuracy: 0.975\n",
      "Epoch 28, CIFAR-10 Batch 1:  loss: 0.20964151620864868\t accuracy: 0.975\n",
      "Epoch 28, CIFAR-10 Batch 2:  loss: 0.24981294572353363\t accuracy: 0.950\n",
      "Epoch 28, CIFAR-10 Batch 3:  loss: 0.2268349528312683\t accuracy: 0.975\n",
      "Epoch 28, CIFAR-10 Batch 4:  loss: 0.2738792300224304\t accuracy: 0.925\n",
      "Epoch 28, CIFAR-10 Batch 5:  loss: 0.20284534990787506\t accuracy: 1.000\n",
      "Epoch 29, CIFAR-10 Batch 1:  loss: 0.2779088616371155\t accuracy: 0.925\n",
      "Epoch 29, CIFAR-10 Batch 2:  loss: 0.24425795674324036\t accuracy: 0.950\n",
      "Epoch 29, CIFAR-10 Batch 3:  loss: 0.2112160623073578\t accuracy: 0.975\n",
      "Epoch 29, CIFAR-10 Batch 4:  loss: 0.23177281022071838\t accuracy: 0.950\n",
      "Epoch 29, CIFAR-10 Batch 5:  loss: 0.2586636245250702\t accuracy: 0.975\n",
      "Epoch 30, CIFAR-10 Batch 1:  loss: 0.20695848762989044\t accuracy: 0.950\n",
      "Epoch 30, CIFAR-10 Batch 2:  loss: 0.20667706429958344\t accuracy: 0.975\n",
      "Epoch 30, CIFAR-10 Batch 3:  loss: 0.1924094259738922\t accuracy: 0.950\n",
      "Epoch 30, CIFAR-10 Batch 4:  loss: 0.25044432282447815\t accuracy: 0.975\n",
      "Epoch 30, CIFAR-10 Batch 5:  loss: 0.20168623328208923\t accuracy: 0.975\n",
      "Epoch 31, CIFAR-10 Batch 1:  loss: 0.22990182042121887\t accuracy: 0.975\n",
      "Epoch 31, CIFAR-10 Batch 2:  loss: 0.1783578246831894\t accuracy: 1.000\n",
      "Epoch 31, CIFAR-10 Batch 3:  loss: 0.18909958004951477\t accuracy: 0.975\n",
      "Epoch 31, CIFAR-10 Batch 4:  loss: 0.23125579953193665\t accuracy: 0.950\n",
      "Epoch 31, CIFAR-10 Batch 5:  loss: 0.2616361379623413\t accuracy: 0.975\n",
      "Epoch 32, CIFAR-10 Batch 1:  loss: 0.21689695119857788\t accuracy: 1.000\n",
      "Epoch 32, CIFAR-10 Batch 2:  loss: 0.2016466110944748\t accuracy: 0.975\n",
      "Epoch 32, CIFAR-10 Batch 3:  loss: 0.19871588051319122\t accuracy: 0.950\n",
      "Epoch 32, CIFAR-10 Batch 4:  loss: 0.25568199157714844\t accuracy: 0.950\n",
      "Epoch 32, CIFAR-10 Batch 5:  loss: 0.19551290571689606\t accuracy: 1.000\n",
      "Epoch 33, CIFAR-10 Batch 1:  loss: 0.22123266756534576\t accuracy: 0.975\n",
      "Epoch 33, CIFAR-10 Batch 2:  loss: 0.20658378303050995\t accuracy: 0.975\n",
      "Epoch 33, CIFAR-10 Batch 3:  loss: 0.1923563927412033\t accuracy: 0.975\n",
      "Epoch 33, CIFAR-10 Batch 4:  loss: 0.2929501533508301\t accuracy: 0.900\n",
      "Epoch 33, CIFAR-10 Batch 5:  loss: 0.17214351892471313\t accuracy: 1.000\n",
      "Epoch 34, CIFAR-10 Batch 1:  loss: 0.2133866548538208\t accuracy: 1.000\n",
      "Epoch 34, CIFAR-10 Batch 2:  loss: 0.1796894669532776\t accuracy: 1.000\n",
      "Epoch 34, CIFAR-10 Batch 3:  loss: 0.20765450596809387\t accuracy: 1.000\n",
      "Epoch 34, CIFAR-10 Batch 4:  loss: 0.2902030050754547\t accuracy: 0.950\n",
      "Epoch 34, CIFAR-10 Batch 5:  loss: 0.21607697010040283\t accuracy: 0.950\n",
      "Epoch 35, CIFAR-10 Batch 1:  loss: 0.1869879961013794\t accuracy: 1.000\n",
      "Epoch 35, CIFAR-10 Batch 2:  loss: 0.19645041227340698\t accuracy: 0.975\n",
      "Epoch 35, CIFAR-10 Batch 3:  loss: 0.19261351227760315\t accuracy: 1.000\n",
      "Epoch 35, CIFAR-10 Batch 4:  loss: 0.24521717429161072\t accuracy: 0.925\n",
      "Epoch 35, CIFAR-10 Batch 5:  loss: 0.1971580684185028\t accuracy: 0.975\n",
      "Epoch 36, CIFAR-10 Batch 1:  loss: 0.28489118814468384\t accuracy: 0.950\n",
      "Epoch 36, CIFAR-10 Batch 2:  loss: 0.18856462836265564\t accuracy: 0.950\n",
      "Epoch 36, CIFAR-10 Batch 3:  loss: 0.14538423717021942\t accuracy: 1.000\n",
      "Epoch 36, CIFAR-10 Batch 4:  loss: 0.24621127545833588\t accuracy: 0.925\n",
      "Epoch 36, CIFAR-10 Batch 5:  loss: 0.19987119734287262\t accuracy: 0.975\n",
      "Epoch 37, CIFAR-10 Batch 1:  loss: 0.2045716941356659\t accuracy: 1.000\n",
      "Epoch 37, CIFAR-10 Batch 2:  loss: 0.18209543824195862\t accuracy: 0.975\n",
      "Epoch 37, CIFAR-10 Batch 3:  loss: 0.1545548439025879\t accuracy: 1.000\n",
      "Epoch 37, CIFAR-10 Batch 4:  loss: 0.19325457513332367\t accuracy: 0.950\n",
      "Epoch 37, CIFAR-10 Batch 5:  loss: 0.17415258288383484\t accuracy: 0.975\n",
      "Epoch 38, CIFAR-10 Batch 1:  loss: 0.18455946445465088\t accuracy: 0.975\n",
      "Epoch 38, CIFAR-10 Batch 2:  loss: 0.22810505330562592\t accuracy: 0.975\n",
      "Epoch 38, CIFAR-10 Batch 3:  loss: 0.19611087441444397\t accuracy: 0.950\n",
      "Epoch 38, CIFAR-10 Batch 4:  loss: 0.22872331738471985\t accuracy: 0.950\n",
      "Epoch 38, CIFAR-10 Batch 5:  loss: 0.2321658730506897\t accuracy: 0.950\n",
      "Epoch 39, CIFAR-10 Batch 1:  loss: 0.23216107487678528\t accuracy: 1.000\n",
      "Epoch 39, CIFAR-10 Batch 2:  loss: 0.1691485345363617\t accuracy: 1.000\n",
      "Epoch 39, CIFAR-10 Batch 3:  loss: 0.1645926833152771\t accuracy: 0.975\n",
      "Epoch 39, CIFAR-10 Batch 4:  loss: 0.20414495468139648\t accuracy: 0.950\n",
      "Epoch 39, CIFAR-10 Batch 5:  loss: 0.21220794320106506\t accuracy: 1.000\n",
      "Epoch 40, CIFAR-10 Batch 1:  loss: 0.1772908717393875\t accuracy: 0.975\n",
      "Epoch 40, CIFAR-10 Batch 2:  loss: 0.1583498865365982\t accuracy: 1.000\n",
      "Epoch 40, CIFAR-10 Batch 3:  loss: 0.15179118514060974\t accuracy: 1.000\n",
      "Epoch 40, CIFAR-10 Batch 4:  loss: 0.2246754914522171\t accuracy: 0.900\n",
      "Epoch 40, CIFAR-10 Batch 5:  loss: 0.19336867332458496\t accuracy: 0.975\n",
      "Epoch 41, CIFAR-10 Batch 1:  loss: 0.17654071748256683\t accuracy: 0.975\n",
      "Epoch 41, CIFAR-10 Batch 2:  loss: 0.15071864426136017\t accuracy: 1.000\n",
      "Epoch 41, CIFAR-10 Batch 3:  loss: 0.12439101189374924\t accuracy: 1.000\n",
      "Epoch 41, CIFAR-10 Batch 4:  loss: 0.22012558579444885\t accuracy: 0.950\n",
      "Epoch 41, CIFAR-10 Batch 5:  loss: 0.18883001804351807\t accuracy: 0.950\n",
      "Epoch 42, CIFAR-10 Batch 1:  loss: 0.149300217628479\t accuracy: 0.975\n",
      "Epoch 42, CIFAR-10 Batch 2:  loss: 0.15956345200538635\t accuracy: 1.000\n",
      "Epoch 42, CIFAR-10 Batch 3:  loss: 0.12449987232685089\t accuracy: 1.000\n",
      "Epoch 42, CIFAR-10 Batch 4:  loss: 0.20834589004516602\t accuracy: 0.950\n",
      "Epoch 42, CIFAR-10 Batch 5:  loss: 0.2232147455215454\t accuracy: 0.975\n",
      "Epoch 43, CIFAR-10 Batch 1:  loss: 0.15852786600589752\t accuracy: 1.000\n",
      "Epoch 43, CIFAR-10 Batch 2:  loss: 0.1388247311115265\t accuracy: 1.000\n",
      "Epoch 43, CIFAR-10 Batch 3:  loss: 0.1489160656929016\t accuracy: 1.000\n",
      "Epoch 43, CIFAR-10 Batch 4:  loss: 0.17784012854099274\t accuracy: 0.975\n",
      "Epoch 43, CIFAR-10 Batch 5:  loss: 0.17473402619361877\t accuracy: 0.950\n",
      "Epoch 44, CIFAR-10 Batch 1:  loss: 0.16518829762935638\t accuracy: 1.000\n",
      "Epoch 44, CIFAR-10 Batch 2:  loss: 0.14755655825138092\t accuracy: 0.950\n",
      "Epoch 44, CIFAR-10 Batch 3:  loss: 0.1510794311761856\t accuracy: 0.975\n",
      "Epoch 44, CIFAR-10 Batch 4:  loss: 0.16763010621070862\t accuracy: 0.975\n",
      "Epoch 44, CIFAR-10 Batch 5:  loss: 0.20953218638896942\t accuracy: 0.950\n",
      "Epoch 45, CIFAR-10 Batch 1:  loss: 0.13809654116630554\t accuracy: 1.000\n",
      "Epoch 45, CIFAR-10 Batch 2:  loss: 0.10803312063217163\t accuracy: 1.000\n",
      "Epoch 45, CIFAR-10 Batch 3:  loss: 0.1263628602027893\t accuracy: 1.000\n",
      "Epoch 45, CIFAR-10 Batch 4:  loss: 0.18399964272975922\t accuracy: 0.950\n",
      "Epoch 45, CIFAR-10 Batch 5:  loss: 0.17880412936210632\t accuracy: 1.000\n",
      "Epoch 46, CIFAR-10 Batch 1:  loss: 0.14052852988243103\t accuracy: 1.000\n",
      "Epoch 46, CIFAR-10 Batch 2:  loss: 0.18155132234096527\t accuracy: 0.950\n",
      "Epoch 46, CIFAR-10 Batch 3:  loss: 0.14273789525032043\t accuracy: 1.000\n",
      "Epoch 46, CIFAR-10 Batch 4:  loss: 0.20116010308265686\t accuracy: 0.950\n",
      "Epoch 46, CIFAR-10 Batch 5:  loss: 0.22072036564350128\t accuracy: 0.975\n",
      "Epoch 47, CIFAR-10 Batch 1:  loss: 0.171062633395195\t accuracy: 1.000\n"
     ]
    },
    {
     "name": "stdout",
     "output_type": "stream",
     "text": [
      "Epoch 47, CIFAR-10 Batch 2:  loss: 0.12437718361616135\t accuracy: 1.000\n",
      "Epoch 47, CIFAR-10 Batch 3:  loss: 0.15312418341636658\t accuracy: 0.975\n",
      "Epoch 47, CIFAR-10 Batch 4:  loss: 0.2165980041027069\t accuracy: 0.925\n",
      "Epoch 47, CIFAR-10 Batch 5:  loss: 0.2025160789489746\t accuracy: 0.950\n",
      "Epoch 48, CIFAR-10 Batch 1:  loss: 0.11093120276927948\t accuracy: 1.000\n",
      "Epoch 48, CIFAR-10 Batch 2:  loss: 0.11795763671398163\t accuracy: 1.000\n",
      "Epoch 48, CIFAR-10 Batch 3:  loss: 0.10660538077354431\t accuracy: 1.000\n",
      "Epoch 48, CIFAR-10 Batch 4:  loss: 0.21648943424224854\t accuracy: 0.950\n",
      "Epoch 48, CIFAR-10 Batch 5:  loss: 0.19327469170093536\t accuracy: 0.975\n",
      "Epoch 49, CIFAR-10 Batch 1:  loss: 0.17085593938827515\t accuracy: 1.000\n",
      "Epoch 49, CIFAR-10 Batch 2:  loss: 0.09354216605424881\t accuracy: 1.000\n",
      "Epoch 49, CIFAR-10 Batch 3:  loss: 0.13775062561035156\t accuracy: 0.975\n",
      "Epoch 49, CIFAR-10 Batch 4:  loss: 0.17748481035232544\t accuracy: 0.975\n",
      "Epoch 49, CIFAR-10 Batch 5:  loss: 0.17749665677547455\t accuracy: 0.975\n",
      "Epoch 50, CIFAR-10 Batch 1:  loss: 0.10229307413101196\t accuracy: 1.000\n",
      "Epoch 50, CIFAR-10 Batch 2:  loss: 0.12151126563549042\t accuracy: 1.000\n",
      "Epoch 50, CIFAR-10 Batch 3:  loss: 0.12309150397777557\t accuracy: 1.000\n",
      "Epoch 50, CIFAR-10 Batch 4:  loss: 0.16494765877723694\t accuracy: 1.000\n",
      "Epoch 50, CIFAR-10 Batch 5:  loss: 0.14415782690048218\t accuracy: 1.000\n"
     ]
    }
   ],
   "source": [
    "\"\"\"\n",
    "DON'T MODIFY ANYTHING IN THIS CELL\n",
    "\"\"\"\n",
    "save_model_path = './image_classification'\n",
    "\n",
    "print('Training...')\n",
    "with tf.Session() as sess:\n",
    "    # Initializing the variables\n",
    "    sess.run(tf.global_variables_initializer())\n",
    "    \n",
    "    # Training cycle\n",
    "    for epoch in range(epochs):\n",
    "        # Loop over all batches\n",
    "        n_batches = 5\n",
    "        for batch_i in range(1, n_batches + 1):\n",
    "            for batch_features, batch_labels in helper.load_preprocess_training_batch(batch_i, batch_size):\n",
    "                train_neural_network(sess, optimizer, keep_probability, batch_features, batch_labels)\n",
    "            print('Epoch {:>2}, CIFAR-10 Batch {}:  '.format(epoch + 1, batch_i), end='')\n",
    "            print_stats(sess, batch_features, batch_labels, cost, accuracy)\n",
    "            \n",
    "    # Save Model\n",
    "    saver = tf.train.Saver()\n",
    "    save_path = saver.save(sess, save_model_path)"
   ]
  },
  {
   "cell_type": "markdown",
   "metadata": {},
   "source": [
    "# Checkpoint\n",
    "The model has been saved to disk.\n",
    "## Test Model\n",
    "Test your model against the test dataset.  This will be your final accuracy. You should have an accuracy greater than 50%. If you don't, keep tweaking the model architecture and parameters."
   ]
  },
  {
   "cell_type": "code",
   "execution_count": 63,
   "metadata": {},
   "outputs": [
    {
     "name": "stdout",
     "output_type": "stream",
     "text": [
      "INFO:tensorflow:Restoring parameters from ./image_classification\n",
      "Testing Accuracy: 0.6402294303797469\n",
      "\n"
     ]
    },
    {
     "data": {
      "image/png": "[encoded data removed]",
      "text/plain": [
       "<matplotlib.figure.Figure at 0x7f060976a9b0>"
      ]
     },
     "metadata": {
      "image/png": {
       "height": 319,
       "width": 355
      }
     },
     "output_type": "display_data"
    }
   ],
   "source": [
    "\"\"\"\n",
    "DON'T MODIFY ANYTHING IN THIS CELL\n",
    "\"\"\"\n",
    "%matplotlib inline\n",
    "%config InlineBackend.figure_format = 'retina'\n",
    "\n",
    "import tensorflow as tf\n",
    "import pickle\n",
    "import helper\n",
    "import random\n",
    "\n",
    "# Set batch size if not already set\n",
    "try:\n",
    "    if batch_size:\n",
    "        pass\n",
    "except NameError:\n",
    "    batch_size = 64\n",
    "\n",
    "save_model_path = './image_classification'\n",
    "n_samples = 4\n",
    "top_n_predictions = 3\n",
    "\n",
    "def test_model():\n",
    "    \"\"\"\n",
    "    Test the saved model against the test dataset\n",
    "    \"\"\"\n",
    "\n",
    "    test_features, test_labels = pickle.load(open('preprocess_training.p', mode='rb'))\n",
    "    loaded_graph = tf.Graph()\n",
    "\n",
    "    with tf.Session(graph=loaded_graph) as sess:\n",
    "        # Load model\n",
    "        loader = tf.train.import_meta_graph(save_model_path + '.meta')\n",
    "        loader.restore(sess, save_model_path)\n",
    "\n",
    "        # Get Tensors from loaded model\n",
    "        loaded_x = loaded_graph.get_tensor_by_name('x:0')\n",
    "        loaded_y = loaded_graph.get_tensor_by_name('y:0')\n",
    "        loaded_keep_prob = loaded_graph.get_tensor_by_name('keep_prob:0')\n",
    "        loaded_logits = loaded_graph.get_tensor_by_name('logits:0')\n",
    "        loaded_acc = loaded_graph.get_tensor_by_name('accuracy:0')\n",
    "        \n",
    "        # Get accuracy in batches for memory limitations\n",
    "        test_batch_acc_total = 0\n",
    "        test_batch_count = 0\n",
    "        \n",
    "        for train_feature_batch, train_label_batch in helper.batch_features_labels(test_features, test_labels, batch_size):\n",
    "            test_batch_acc_total += sess.run(\n",
    "                loaded_acc,\n",
    "                feed_dict={loaded_x: train_feature_batch, loaded_y: train_label_batch, loaded_keep_prob: 1.0})\n",
    "            test_batch_count += 1\n",
    "\n",
    "        print('Testing Accuracy: {}\\n'.format(test_batch_acc_total/test_batch_count))\n",
    "\n",
    "        # Print Random Samples\n",
    "        random_test_features, random_test_labels = tuple(zip(*random.sample(list(zip(test_features, test_labels)), n_samples)))\n",
    "        random_test_predictions = sess.run(\n",
    "            tf.nn.top_k(tf.nn.softmax(loaded_logits), top_n_predictions),\n",
    "            feed_dict={loaded_x: random_test_features, loaded_y: random_test_labels, loaded_keep_prob: 1.0})\n",
    "        helper.display_image_predictions(random_test_features, random_test_labels, random_test_predictions)\n",
    "\n",
    "\n",
    "test_model()"
   ]
  },
  {
   "cell_type": "markdown",
   "metadata": {},
   "source": [
    "## Why 50-70% Accuracy?\n",
    "You might be wondering why you can't get an accuracy any higher. First things first, 50% isn't bad for a simple CNN.  Pure guessing would get you 10% accuracy. However, you might notice people are getting scores [well above 70%](http://rodrigob.github.io/are_we_there_yet/build/classification_datasets_results.html#43494641522d3130).  That's because we haven't taught you all there is to know about neural networks. We still need to cover a few more techniques.\n",
    "## Submitting This Project\n",
    "When submitting this project, make sure to run all the cells before saving the notebook.  Save the notebook file as \"dlnd_image_classification.ipynb\" and save it as a HTML file under \"File\" -> \"Download as\".  Include the \"helper.py\" and \"problem_unittests.py\" files in your submission."
   ]
  }
 ],
 "metadata": {
  "kernelspec": {
   "display_name": "Python 3",
   "language": "python",
   "name": "python3"
  },
  "language_info": {
   "codemirror_mode": {
    "name": "ipython",
    "version": 3
   },
   "file_extension": ".py",
   "mimetype": "text/x-python",
   "name": "python",
   "nbconvert_exporter": "python",
   "pygments_lexer": "ipython3",
   "version": "3.5.3"
  }
 },
 "nbformat": 4,
 "nbformat_minor": 1
}
