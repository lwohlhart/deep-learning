{
 "cells": [
  {
   "cell_type": "markdown",
   "metadata": {
    "collapsed": true
   },
   "source": [
    "# Image Classification\n",
    "In this project, you'll classify images from the [CIFAR-10 dataset](https://www.cs.toronto.edu/~kriz/cifar.html).  The dataset consists of airplanes, dogs, cats, and other objects. You'll preprocess the images, then train a convolutional neural network on all the samples. The images need to be normalized and the labels need to be one-hot encoded.  You'll get to apply what you learned and build a convolutional, max pooling, dropout, and fully connected layers.  At the end, you'll get to see your neural network's predictions on the sample images.\n",
    "## Get the Data\n",
    "Run the following cell to download the [CIFAR-10 dataset for python](https://www.cs.toronto.edu/~kriz/cifar-10-python.tar.gz)."
   ]
  },
  {
   "cell_type": "code",
   "execution_count": 1,
   "metadata": {},
   "outputs": [
    {
     "name": "stdout",
     "output_type": "stream",
     "text": [
      "All files found!\n"
     ]
    }
   ],
   "source": [
    "\"\"\"\n",
    "DON'T MODIFY ANYTHING IN THIS CELL THAT IS BELOW THIS LINE\n",
    "\"\"\"\n",
    "from urllib.request import urlretrieve\n",
    "from os.path import isfile, isdir\n",
    "from tqdm import tqdm\n",
    "import problem_unittests as tests\n",
    "import tarfile\n",
    "\n",
    "cifar10_dataset_folder_path = 'cifar-10-batches-py'\n",
    "\n",
    "# Use Floyd's cifar-10 dataset if present\n",
    "floyd_cifar10_location = '/input/cifar-10/python.tar.gz'\n",
    "if isfile(floyd_cifar10_location):\n",
    "    tar_gz_path = floyd_cifar10_location\n",
    "else:\n",
    "    tar_gz_path = 'cifar-10-python.tar.gz'\n",
    "\n",
    "class DLProgress(tqdm):\n",
    "    last_block = 0\n",
    "\n",
    "    def hook(self, block_num=1, block_size=1, total_size=None):\n",
    "        self.total = total_size\n",
    "        self.update((block_num - self.last_block) * block_size)\n",
    "        self.last_block = block_num\n",
    "\n",
    "if not isfile(tar_gz_path):\n",
    "    with DLProgress(unit='B', unit_scale=True, miniters=1, desc='CIFAR-10 Dataset') as pbar:\n",
    "        urlretrieve(\n",
    "            'https://www.cs.toronto.edu/~kriz/cifar-10-python.tar.gz',\n",
    "            tar_gz_path,\n",
    "            pbar.hook)\n",
    "\n",
    "if not isdir(cifar10_dataset_folder_path):\n",
    "    with tarfile.open(tar_gz_path) as tar:\n",
    "        tar.extractall()\n",
    "        tar.close()\n",
    "\n",
    "\n",
    "tests.test_folder_path(cifar10_dataset_folder_path)"
   ]
  },
  {
   "cell_type": "markdown",
   "metadata": {},
   "source": [
    "## Explore the Data\n",
    "The dataset is broken into batches to prevent your machine from running out of memory.  The CIFAR-10 dataset consists of 5 batches, named `data_batch_1`, `data_batch_2`, etc.. Each batch contains the labels and images that are one of the following:\n",
    "* airplane\n",
    "* automobile\n",
    "* bird\n",
    "* cat\n",
    "* deer\n",
    "* dog\n",
    "* frog\n",
    "* horse\n",
    "* ship\n",
    "* truck\n",
    "\n",
    "Understanding a dataset is part of making predictions on the data.  Play around with the code cell below by changing the `batch_id` and `sample_id`. The `batch_id` is the id for a batch (1-5). The `sample_id` is the id for a image and label pair in the batch.\n",
    "\n",
    "Ask yourself \"What are all possible labels?\", \"What is the range of values for the image data?\", \"Are the labels in order or random?\".  Answers to questions like these will help you preprocess the data and end up with better predictions."
   ]
  },
  {
   "cell_type": "code",
   "execution_count": 2,
   "metadata": {},
   "outputs": [
    {
     "name": "stdout",
     "output_type": "stream",
     "text": [
      "\n",
      "Stats of batch 1:\n",
      "Samples: 10000\n",
      "Label Counts: {0: 1005, 1: 974, 2: 1032, 3: 1016, 4: 999, 5: 937, 6: 1030, 7: 1001, 8: 1025, 9: 981}\n",
      "First 20 Labels: [6, 9, 9, 4, 1, 1, 2, 7, 8, 3, 4, 7, 7, 2, 9, 9, 9, 3, 2, 6]\n",
      "\n",
      "Example of Image 5:\n",
      "Image - Min Value: 0 Max Value: 252\n",
      "Image - Shape: (32, 32, 3)\n",
      "Label - Label Id: 1 Name: automobile\n"
     ]
    },
    {
     "data": {
      "image/png": "[encoded data removed]",
      "text/plain": [
       "<matplotlib.figure.Figure at 0x7fda7f4fd6a0>"
      ]
     },
     "metadata": {
      "image/png": {
       "height": 250,
       "width": 253
      }
     },
     "output_type": "display_data"
    }
   ],
   "source": [
    "%matplotlib inline\n",
    "%config InlineBackend.figure_format = 'retina'\n",
    "\n",
    "import helper\n",
    "import numpy as np\n",
    "\n",
    "# Explore the dataset\n",
    "batch_id = 1\n",
    "sample_id = 5\n",
    "helper.display_stats(cifar10_dataset_folder_path, batch_id, sample_id)"
   ]
  },
  {
   "cell_type": "code",
   "execution_count": 3,
   "metadata": {},
   "outputs": [
    {
     "name": "stdout",
     "output_type": "stream",
     "text": [
      "batch 1\n",
      "  features dims (32, 32, 3)\n",
      "  features values min:0, max:255\n",
      "  labels histogram (array([1005,  974, 1032, 1016,  999,  937, 1030, 1001, 2006]), array([0, 1, 2, 3, 4, 5, 6, 7, 8, 9]))\n",
      "batch 2\n",
      "  features dims (32, 32, 3)\n",
      "  features values min:0, max:255\n",
      "  labels histogram (array([ 984, 1007, 1010,  995, 1010,  988, 1008, 1026, 1972]), array([0, 1, 2, 3, 4, 5, 6, 7, 8, 9]))\n",
      "batch 3\n",
      "  features dims (32, 32, 3)\n",
      "  features values min:0, max:255\n",
      "  labels histogram (array([ 994, 1042,  965,  997,  990, 1029,  978, 1015, 1990]), array([0, 1, 2, 3, 4, 5, 6, 7, 8, 9]))\n",
      "batch 4\n",
      "  features dims (32, 32, 3)\n",
      "  features values min:0, max:255\n",
      "  labels histogram (array([1003,  963, 1041,  976, 1004, 1021, 1004,  981, 2007]), array([0, 1, 2, 3, 4, 5, 6, 7, 8, 9]))\n",
      "batch 5\n",
      "  features dims (32, 32, 3)\n",
      "  features values min:0, max:255\n",
      "  labels histogram (array([1014, 1014,  952, 1016,  997, 1025,  980,  977, 2025]), array([0, 1, 2, 3, 4, 5, 6, 7, 8, 9]))\n"
     ]
    }
   ],
   "source": [
    " for i in range(1,6):\n",
    "    explore_features, explore_labels = helper.load_cfar10_batch(cifar10_dataset_folder_path, i)\n",
    "    print('batch {}'.format(i))\n",
    "    print ('  features dims {}'.format(explore_features[0].shape) )\n",
    "    print ('  features values min:{}, max:{}'.format(np.min(explore_features), np.max(explore_features)))\n",
    "\n",
    "    hist = np.histogram( explore_labels, bins=list(set(explore_labels)))\n",
    "    print ('  labels histogram', hist)"
   ]
  },
  {
   "cell_type": "markdown",
   "metadata": {},
   "source": [
    "## Implement Preprocess Functions\n",
    "### Normalize\n",
    "In the cell below, implement the `normalize` function to take in image data, `x`, and return it as a normalized Numpy array. The values should be in the range of 0 to 1, inclusive.  The return object should be the same shape as `x`."
   ]
  },
  {
   "cell_type": "code",
   "execution_count": 4,
   "metadata": {},
   "outputs": [
    {
     "name": "stdout",
     "output_type": "stream",
     "text": [
      "Tests Passed\n"
     ]
    }
   ],
   "source": [
    "def normalize(x):\n",
    "    \"\"\"\n",
    "    Normalize a list of sample image data in the range of 0 to 1\n",
    "    : x: List of image data.  The image shape is (32, 32, 3)\n",
    "    : return: Numpy array of normalize data\n",
    "    \"\"\"\n",
    "    # TODO: Implement Function\n",
    "    return (x / 255.0)\n",
    "\n",
    "\n",
    "\"\"\"\n",
    "DON'T MODIFY ANYTHING IN THIS CELL THAT IS BELOW THIS LINE\n",
    "\"\"\"\n",
    "tests.test_normalize(normalize)"
   ]
  },
  {
   "cell_type": "markdown",
   "metadata": {},
   "source": [
    "### One-hot encode\n",
    "Just like the previous code cell, you'll be implementing a function for preprocessing.  This time, you'll implement the `one_hot_encode` function. The input, `x`, are a list of labels.  Implement the function to return the list of labels as One-Hot encoded Numpy array.  The possible values for labels are 0 to 9. The one-hot encoding function should return the same encoding for each value between each call to `one_hot_encode`.  Make sure to save the map of encodings outside the function.\n",
    "\n",
    "Hint: Don't reinvent the wheel."
   ]
  },
  {
   "cell_type": "code",
   "execution_count": 5,
   "metadata": {},
   "outputs": [
    {
     "name": "stdout",
     "output_type": "stream",
     "text": [
      "Tests Passed\n"
     ]
    }
   ],
   "source": [
    "def one_hot_encode(x):\n",
    "    \"\"\"\n",
    "    One hot encode a list of sample labels. Return a one-hot encoded vector for each label.\n",
    "    : x: List of sample Labels\n",
    "    : return: Numpy array of one-hot encoded labels\n",
    "    \"\"\"\n",
    "    # TODO: Implement Function\n",
    "    return np.eye(10)[x]\n",
    "\n",
    "\n",
    "\"\"\"\n",
    "DON'T MODIFY ANYTHING IN THIS CELL THAT IS BELOW THIS LINE\n",
    "\"\"\"\n",
    "tests.test_one_hot_encode(one_hot_encode)"
   ]
  },
  {
   "cell_type": "markdown",
   "metadata": {},
   "source": [
    "### Randomize Data\n",
    "As you saw from exploring the data above, the order of the samples are randomized.  It doesn't hurt to randomize it again, but you don't need to for this dataset."
   ]
  },
  {
   "cell_type": "markdown",
   "metadata": {},
   "source": [
    "## Preprocess all the data and save it\n",
    "Running the code cell below will preprocess all the CIFAR-10 data and save it to file. The code below also uses 10% of the training data for validation."
   ]
  },
  {
   "cell_type": "code",
   "execution_count": 6,
   "metadata": {
    "collapsed": true
   },
   "outputs": [],
   "source": [
    "\"\"\"\n",
    "DON'T MODIFY ANYTHING IN THIS CELL\n",
    "\"\"\"\n",
    "# Preprocess Training, Validation, and Testing Data\n",
    "helper.preprocess_and_save_data(cifar10_dataset_folder_path, normalize, one_hot_encode)"
   ]
  },
  {
   "cell_type": "markdown",
   "metadata": {},
   "source": [
    "# Check Point\n",
    "This is your first checkpoint.  If you ever decide to come back to this notebook or have to restart the notebook, you can start from here.  The preprocessed data has been saved to disk."
   ]
  },
  {
   "cell_type": "code",
   "execution_count": 7,
   "metadata": {
    "collapsed": true
   },
   "outputs": [],
   "source": [
    "\"\"\"\n",
    "DON'T MODIFY ANYTHING IN THIS CELL\n",
    "\"\"\"\n",
    "import pickle\n",
    "import problem_unittests as tests\n",
    "import helper\n",
    "\n",
    "# Load the Preprocessed Validation data\n",
    "valid_features, valid_labels = pickle.load(open('preprocess_validation.p', mode='rb'))"
   ]
  },
  {
   "cell_type": "markdown",
   "metadata": {},
   "source": [
    "## Build the network\n",
    "For the neural network, you'll build each layer into a function.  Most of the code you've seen has been outside of functions. To test your code more thoroughly, we require that you put each layer in a function.  This allows us to give you better feedback and test for simple mistakes using our unittests before you submit your project.\n",
    "\n",
    ">**Note:** If you're finding it hard to dedicate enough time for this course each week, we've provided a small shortcut to this part of the project. In the next couple of problems, you'll have the option to use classes from the [TensorFlow Layers](https://www.tensorflow.org/api_docs/python/tf/layers) or [TensorFlow Layers (contrib)](https://www.tensorflow.org/api_guides/python/contrib.layers) packages to build each layer, except the layers you build in the \"Convolutional and Max Pooling Layer\" section.  TF Layers is similar to Keras's and TFLearn's abstraction to layers, so it's easy to pickup.\n",
    "\n",
    ">However, if you would like to get the most out of this course, try to solve all the problems _without_ using anything from the TF Layers packages. You **can** still use classes from other packages that happen to have the same name as ones you find in TF Layers! For example, instead of using the TF Layers version of the `conv2d` class, [tf.layers.conv2d](https://www.tensorflow.org/api_docs/python/tf/layers/conv2d), you would want to use the TF Neural Network version of `conv2d`, [tf.nn.conv2d](https://www.tensorflow.org/api_docs/python/tf/nn/conv2d). \n",
    "\n",
    "Let's begin!\n",
    "\n",
    "### Input\n",
    "The neural network needs to read the image data, one-hot encoded labels, and dropout keep probability. Implement the following functions\n",
    "* Implement `neural_net_image_input`\n",
    " * Return a [TF Placeholder](https://www.tensorflow.org/api_docs/python/tf/placeholder)\n",
    " * Set the shape using `image_shape` with batch size set to `None`.\n",
    " * Name the TensorFlow placeholder \"x\" using the TensorFlow `name` parameter in the [TF Placeholder](https://www.tensorflow.org/api_docs/python/tf/placeholder).\n",
    "* Implement `neural_net_label_input`\n",
    " * Return a [TF Placeholder](https://www.tensorflow.org/api_docs/python/tf/placeholder)\n",
    " * Set the shape using `n_classes` with batch size set to `None`.\n",
    " * Name the TensorFlow placeholder \"y\" using the TensorFlow `name` parameter in the [TF Placeholder](https://www.tensorflow.org/api_docs/python/tf/placeholder).\n",
    "* Implement `neural_net_keep_prob_input`\n",
    " * Return a [TF Placeholder](https://www.tensorflow.org/api_docs/python/tf/placeholder) for dropout keep probability.\n",
    " * Name the TensorFlow placeholder \"keep_prob\" using the TensorFlow `name` parameter in the [TF Placeholder](https://www.tensorflow.org/api_docs/python/tf/placeholder).\n",
    "\n",
    "These names will be used at the end of the project to load your saved model.\n",
    "\n",
    "Note: `None` for shapes in TensorFlow allow for a dynamic size."
   ]
  },
  {
   "cell_type": "code",
   "execution_count": 8,
   "metadata": {},
   "outputs": [
    {
     "name": "stdout",
     "output_type": "stream",
     "text": [
      "Image Input Tests Passed.\n",
      "Label Input Tests Passed.\n",
      "Keep Prob Tests Passed.\n"
     ]
    }
   ],
   "source": [
    "import tensorflow as tf\n",
    "\n",
    "def neural_net_image_input(image_shape):\n",
    "    \"\"\"\n",
    "    Return a Tensor for a bach of image input\n",
    "    : image_shape: Shape of the images\n",
    "    : return: Tensor for image input.\n",
    "    \"\"\"\n",
    "    # TODO: Implement Function\n",
    "    return tf.placeholder(tf.float32, [None, image_shape[0], image_shape[1], image_shape[2]], name='x')\n",
    "\n",
    "\n",
    "def neural_net_label_input(n_classes):\n",
    "    \"\"\"\n",
    "    Return a Tensor for a batch of label input\n",
    "    : n_classes: Number of classes\n",
    "    : return: Tensor for label input.\n",
    "    \"\"\"\n",
    "    # TODO: Implement Function\n",
    "    return tf.placeholder(tf.float32, [None, n_classes], name='y')\n",
    "\n",
    "\n",
    "def neural_net_keep_prob_input():\n",
    "    \"\"\"\n",
    "    Return a Tensor for keep probability\n",
    "    : return: Tensor for keep probability.\n",
    "    \"\"\"\n",
    "    # TODO: Implement Function\n",
    "    return tf.placeholder(tf.float32, name='keep_prob')\n",
    "\n",
    "\n",
    "\"\"\"\n",
    "DON'T MODIFY ANYTHING IN THIS CELL THAT IS BELOW THIS LINE\n",
    "\"\"\"\n",
    "tf.reset_default_graph()\n",
    "tests.test_nn_image_inputs(neural_net_image_input)\n",
    "tests.test_nn_label_inputs(neural_net_label_input)\n",
    "tests.test_nn_keep_prob_inputs(neural_net_keep_prob_input)"
   ]
  },
  {
   "cell_type": "markdown",
   "metadata": {},
   "source": [
    "### Convolution and Max Pooling Layer\n",
    "Convolution layers have a lot of success with images. For this code cell, you should implement the function `conv2d_maxpool` to apply convolution then max pooling:\n",
    "* Create the weight and bias using `conv_ksize`, `conv_num_outputs` and the shape of `x_tensor`.\n",
    "* Apply a convolution to `x_tensor` using weight and `conv_strides`.\n",
    " * We recommend you use same padding, but you're welcome to use any padding.\n",
    "* Add bias\n",
    "* Add a nonlinear activation to the convolution.\n",
    "* Apply Max Pooling using `pool_ksize` and `pool_strides`.\n",
    " * We recommend you use same padding, but you're welcome to use any padding.\n",
    "\n",
    "**Note:** You **can't** use [TensorFlow Layers](https://www.tensorflow.org/api_docs/python/tf/layers) or [TensorFlow Layers (contrib)](https://www.tensorflow.org/api_guides/python/contrib.layers) for **this** layer, but you can still use TensorFlow's [Neural Network](https://www.tensorflow.org/api_docs/python/tf/nn) package. You may still use the shortcut option for all the **other** layers."
   ]
  },
  {
   "cell_type": "code",
   "execution_count": 9,
   "metadata": {},
   "outputs": [
    {
     "name": "stdout",
     "output_type": "stream",
     "text": [
      "Tests Passed\n"
     ]
    }
   ],
   "source": [
    "def conv2d_maxpool(x_tensor, conv_num_outputs, conv_ksize, conv_strides, pool_ksize, pool_strides):\n",
    "    \"\"\"\n",
    "    Apply convolution then max pooling to x_tensor\n",
    "    :param x_tensor: TensorFlow Tensor\n",
    "    :param conv_num_outputs: Number of outputs for the convolutional layer\n",
    "    :param conv_ksize: kernal size 2-D Tuple for the convolutional layer\n",
    "    :param conv_strides: Stride 2-D Tuple for convolution\n",
    "    :param pool_ksize: kernal size 2-D Tuple for pool\n",
    "    :param pool_strides: Stride 2-D Tuple for pool\n",
    "    : return: A tensor that represents convolution and max pooling of x_tensor\n",
    "    \"\"\"\n",
    "    # TODO: Implement Function    \n",
    "    (batch, in_height, in_width, in_channels) = x_tensor.shape\n",
    "    # convolution kernel weights.shape [filter_height, filter_width, in_channels, out_channels]    \n",
    "    weights_shape = [conv_ksize[0], conv_ksize[1], int(in_channels), conv_num_outputs]\n",
    "    weights_stddev = np.prod(weights_shape[:-1])**-0.5    \n",
    "    conv_weights = tf.Variable(tf.truncated_normal(weights_shape, stddev=weights_stddev), name='conv_weights')    \n",
    "    conv_bias = tf.Variable(tf.zeros([conv_num_outputs]), name='conv_bias')\n",
    "    \n",
    "    conv_layer = tf.nn.conv2d(x_tensor, conv_weights, [1, conv_strides[0], conv_strides[1], 1], 'SAME')        \n",
    "    conv_layer = tf.nn.relu(tf.nn.bias_add(conv_layer, conv_bias), name='conv_layer')\n",
    "    pool_layer = tf.nn.max_pool(conv_layer, [1, pool_ksize[0], pool_ksize[1], 1], \\\n",
    "                                [1, pool_strides[0], pool_strides[1], 1], 'SAME', name='pool_layer')\n",
    "    return pool_layer\n",
    "\n",
    "\n",
    "\"\"\"\n",
    "DON'T MODIFY ANYTHING IN THIS CELL THAT IS BELOW THIS LINE\n",
    "\"\"\"\n",
    "tests.test_con_pool(conv2d_maxpool)"
   ]
  },
  {
   "cell_type": "markdown",
   "metadata": {},
   "source": [
    "### Flatten Layer\n",
    "Implement the `flatten` function to change the dimension of `x_tensor` from a 4-D tensor to a 2-D tensor.  The output should be the shape (*Batch Size*, *Flattened Image Size*). Shortcut option: you can use classes from the [TensorFlow Layers](https://www.tensorflow.org/api_docs/python/tf/layers) or [TensorFlow Layers (contrib)](https://www.tensorflow.org/api_guides/python/contrib.layers) packages for this layer. For more of a challenge, only use other TensorFlow packages."
   ]
  },
  {
   "cell_type": "code",
   "execution_count": 10,
   "metadata": {},
   "outputs": [
    {
     "name": "stdout",
     "output_type": "stream",
     "text": [
      "Tests Passed\n"
     ]
    }
   ],
   "source": [
    "def flatten(x_tensor):\n",
    "    \"\"\"\n",
    "    Flatten x_tensor to (Batch Size, Flattened Image Size)\n",
    "    : x_tensor: A tensor of size (Batch Size, ...), where ... are the image dimensions.\n",
    "    : return: A tensor of size (Batch Size, Flattened Image Size).\n",
    "    \"\"\"\n",
    "    # TODO: Implement Function\n",
    "    dim = int(np.prod(x_tensor.shape[1:]))    \n",
    "    return tf.reshape(x_tensor, [-1, dim])\n",
    "\n",
    "\n",
    "\"\"\"\n",
    "DON'T MODIFY ANYTHING IN THIS CELL THAT IS BELOW THIS LINE\n",
    "\"\"\"\n",
    "tests.test_flatten(flatten)"
   ]
  },
  {
   "cell_type": "markdown",
   "metadata": {},
   "source": [
    "### Fully-Connected Layer\n",
    "Implement the `fully_conn` function to apply a fully connected layer to `x_tensor` with the shape (*Batch Size*, *num_outputs*). Shortcut option: you can use classes from the [TensorFlow Layers](https://www.tensorflow.org/api_docs/python/tf/layers) or [TensorFlow Layers (contrib)](https://www.tensorflow.org/api_guides/python/contrib.layers) packages for this layer. For more of a challenge, only use other TensorFlow packages."
   ]
  },
  {
   "cell_type": "code",
   "execution_count": 11,
   "metadata": {},
   "outputs": [
    {
     "name": "stdout",
     "output_type": "stream",
     "text": [
      "Tests Passed\n"
     ]
    }
   ],
   "source": [
    "def fully_conn(x_tensor, num_outputs):\n",
    "    \"\"\"\n",
    "    Apply a fully connected layer to x_tensor using weight and bias\n",
    "    : x_tensor: A 2-D tensor where the first dimension is batch size.\n",
    "    : num_outputs: The number of output that the new tensor should be.\n",
    "    : return: A 2-D tensor where the second dimension is num_outputs.\n",
    "    \"\"\"\n",
    "    # TODO: Implement Function\n",
    "    n_inputs = int(x_tensor.shape[1])\n",
    "    fc_weights = tf.Variable(tf.truncated_normal((n_inputs, num_outputs), stddev=n_inputs**-0.5), name='fc_weights')\n",
    "    fc_bias = tf.Variable(tf.zeros((num_outputs)), name='fc_bias')\n",
    "    fc_layer = tf.nn.relu(tf.add(tf.matmul(x_tensor, fc_weights), fc_bias), name='fc_layer')\n",
    "    return fc_layer\n",
    "\n",
    "\n",
    "\"\"\"\n",
    "DON'T MODIFY ANYTHING IN THIS CELL THAT IS BELOW THIS LINE\n",
    "\"\"\"\n",
    "tests.test_fully_conn(fully_conn)"
   ]
  },
  {
   "cell_type": "markdown",
   "metadata": {},
   "source": [
    "### Output Layer\n",
    "Implement the `output` function to apply a fully connected layer to `x_tensor` with the shape (*Batch Size*, *num_outputs*). Shortcut option: you can use classes from the [TensorFlow Layers](https://www.tensorflow.org/api_docs/python/tf/layers) or [TensorFlow Layers (contrib)](https://www.tensorflow.org/api_guides/python/contrib.layers) packages for this layer. For more of a challenge, only use other TensorFlow packages.\n",
    "\n",
    "**Note:** Activation, softmax, or cross entropy should **not** be applied to this."
   ]
  },
  {
   "cell_type": "code",
   "execution_count": 12,
   "metadata": {},
   "outputs": [
    {
     "name": "stdout",
     "output_type": "stream",
     "text": [
      "Tests Passed\n"
     ]
    }
   ],
   "source": [
    "def output(x_tensor, num_outputs):\n",
    "    \"\"\"\n",
    "    Apply a output layer to x_tensor using weight and bias\n",
    "    : x_tensor: A 2-D tensor where the first dimension is batch size.\n",
    "    : num_outputs: The number of output that the new tensor should be.\n",
    "    : return: A 2-D tensor where the second dimension is num_outputs.\n",
    "    \"\"\"\n",
    "    # TODO: Implement Function\n",
    "    n_inputs = int(x_tensor.shape[1])\n",
    "    out_weights = tf.Variable(tf.truncated_normal((n_inputs, num_outputs),stddev=n_inputs**-0.5), name='out_weights')\n",
    "    out_bias = tf.Variable(tf.zeros((num_outputs)), name='out_bias')\n",
    "    out_layer = tf.add(tf.matmul(x_tensor, out_weights), out_bias, name='out_layer')\n",
    "    return out_layer\n",
    "\n",
    "\n",
    "\"\"\"\n",
    "DON'T MODIFY ANYTHING IN THIS CELL THAT IS BELOW THIS LINE\n",
    "\"\"\"\n",
    "tests.test_output(output)"
   ]
  },
  {
   "cell_type": "markdown",
   "metadata": {},
   "source": [
    "### Create Convolutional Model\n",
    "Implement the function `conv_net` to create a convolutional neural network model. The function takes in a batch of images, `x`, and outputs logits.  Use the layers you created above to create this model:\n",
    "\n",
    "* Apply 1, 2, or 3 Convolution and Max Pool layers\n",
    "* Apply a Flatten Layer\n",
    "* Apply 1, 2, or 3 Fully Connected Layers\n",
    "* Apply an Output Layer\n",
    "* Return the output\n",
    "* Apply [TensorFlow's Dropout](https://www.tensorflow.org/api_docs/python/tf/nn/dropout) to one or more layers in the model using `keep_prob`. "
   ]
  },
  {
   "cell_type": "code",
   "execution_count": 29,
   "metadata": {},
   "outputs": [
    {
     "name": "stdout",
     "output_type": "stream",
     "text": [
      "Neural Network Built!\n"
     ]
    }
   ],
   "source": [
    "def conv_net(x, keep_prob):\n",
    "    \"\"\"\n",
    "    Create a convolutional neural network model\n",
    "    : x: Placeholder tensor that holds image data.\n",
    "    : keep_prob: Placeholder tensor that hold dropout keep probability.\n",
    "    : return: Tensor that represents logits\n",
    "    \"\"\"\n",
    "    # TODO: Apply 1, 2, or 3 Convolution and Max Pool layers\n",
    "    #    Play around with different number of outputs, kernel size and stride\n",
    "    # Function Definition from Above:\n",
    "    #    conv2d_maxpool(x_tensor, conv_num_outputs, conv_ksize, conv_strides, pool_ksize, pool_strides)\n",
    "    with tf.name_scope('conv'):\n",
    "        conv = tf.identity(conv2d_maxpool(x, 16, (5,5), (1,1), (1,1), (1,1)), name='layer_conv1')\n",
    "        conv = tf.nn.dropout(conv, keep_prob=keep_prob, name='layer_dropout_conv1')\n",
    "        conv = tf.identity(conv2d_maxpool(conv, 32, (5,5), (1,1), (2,2), (1,1)), name='layer_conv2')\n",
    "        conv = tf.nn.dropout(conv, keep_prob=keep_prob, name='layer_dropout_conv2')\n",
    "        conv = tf.identity(conv2d_maxpool(conv, 64, (3,3), (1,1), (2,2), (1,1)), name='layer_conv3')\n",
    "        conv = tf.nn.dropout(conv, keep_prob=keep_prob, name='layer_dropout_conv3')\n",
    "    \n",
    "\n",
    "    # TODO: Apply a Flatten Layer\n",
    "    # Function Definition from Above:\n",
    "    #   flatten(x_tensor)\n",
    "    with tf.name_scope('flatten'):\n",
    "        flat = tf.identity(flatten(conv), name=\"layer_conv_flat\")\n",
    "    \n",
    "\n",
    "    # TODO: Apply 1, 2, or 3 Fully Connected Layers\n",
    "    #    Play around with different number of outputs\n",
    "    # Function Definition from Above:\n",
    "    #   fully_conn(x_tensor, num_outputs)\n",
    "    with tf.name_scope('fully_connected'):\n",
    "        fullyconn = tf.identity(fully_conn(flat, 128), name='layer_fullyconn1')\n",
    "        # fullyconn = tf.nn.dropout(fullyconn, keep_prob=keep_prob, name='layer_dropout_fullyconn1')\n",
    "        # fullyconn = tf.identity(fully_conn(fullyconn, 100), name='layer_fullyconn2')\n",
    "        # fullyconn = tf.nn.dropout(fullyconn, keep_prob=keep_prob, name='layer_dropout_fullyconn2')\n",
    "    \n",
    "    \n",
    "    # TODO: Apply an Output Layer\n",
    "    #    Set this to the number of classes\n",
    "    # Function Definition from Above:\n",
    "    #   output(x_tensor, num_outputs)\n",
    "    with tf.name_scope('output'):\n",
    "        out = tf.identity(output(fullyconn, 10), name='layer_out')\n",
    "    \n",
    "    \n",
    "    # TODO: return output\n",
    "    return out\n",
    "\n",
    "\n",
    "\"\"\"\n",
    "DON'T MODIFY ANYTHING IN THIS CELL THAT IS BELOW THIS LINE\n",
    "\"\"\"\n",
    "\n",
    "##############################\n",
    "## Build the Neural Network ##\n",
    "##############################\n",
    "\n",
    "# Remove previous weights, bias, inputs, etc..\n",
    "tf.reset_default_graph()\n",
    "\n",
    "# Inputs\n",
    "x = neural_net_image_input((32, 32, 3))\n",
    "y = neural_net_label_input(10)\n",
    "keep_prob = neural_net_keep_prob_input()\n",
    "\n",
    "# Model\n",
    "logits = conv_net(x, keep_prob)\n",
    "\n",
    "# Name logits Tensor, so that is can be loaded from disk after training\n",
    "logits = tf.identity(logits, name='logits')\n",
    "\n",
    "# Loss and Optimizer\n",
    "cost = tf.reduce_mean(tf.nn.softmax_cross_entropy_with_logits(logits=logits, labels=y))\n",
    "optimizer = tf.train.AdamOptimizer().minimize(cost)\n",
    "\n",
    "# Accuracy\n",
    "correct_pred = tf.equal(tf.argmax(logits, 1), tf.argmax(y, 1))\n",
    "accuracy = tf.reduce_mean(tf.cast(correct_pred, tf.float32), name='accuracy')\n",
    "\n",
    "tests.test_conv_net(conv_net)"
   ]
  },
  {
   "cell_type": "markdown",
   "metadata": {},
   "source": [
    "## Train the Neural Network\n",
    "### Single Optimization\n",
    "Implement the function `train_neural_network` to do a single optimization.  The optimization should use `optimizer` to optimize in `session` with a `feed_dict` of the following:\n",
    "* `x` for image input\n",
    "* `y` for labels\n",
    "* `keep_prob` for keep probability for dropout\n",
    "\n",
    "This function will be called for each batch, so `tf.global_variables_initializer()` has already been called.\n",
    "\n",
    "Note: Nothing needs to be returned. This function is only optimizing the neural network."
   ]
  },
  {
   "cell_type": "code",
   "execution_count": 30,
   "metadata": {},
   "outputs": [
    {
     "name": "stdout",
     "output_type": "stream",
     "text": [
      "Tests Passed\n"
     ]
    }
   ],
   "source": [
    "def train_neural_network(session, optimizer, keep_probability, feature_batch, label_batch):\n",
    "    \"\"\"\n",
    "    Optimize the session on a batch of images and labels\n",
    "    : session: Current TensorFlow session\n",
    "    : optimizer: TensorFlow optimizer function\n",
    "    : keep_probability: keep probability\n",
    "    : feature_batch: Batch of Numpy image data\n",
    "    : label_batch: Batch of Numpy label data\n",
    "    \"\"\"\n",
    "    # TODO: Implement Function\n",
    "    session.run(optimizer, feed_dict={x:feature_batch, y:label_batch, keep_prob: keep_probability})\n",
    "\n",
    "\n",
    "\"\"\"\n",
    "DON'T MODIFY ANYTHING IN THIS CELL THAT IS BELOW THIS LINE\n",
    "\"\"\"\n",
    "tests.test_train_nn(train_neural_network)"
   ]
  },
  {
   "cell_type": "markdown",
   "metadata": {},
   "source": [
    "### Show Stats\n",
    "Implement the function `print_stats` to print loss and validation accuracy.  Use the global variables `valid_features` and `valid_labels` to calculate validation accuracy.  Use a keep probability of `1.0` to calculate the loss and validation accuracy."
   ]
  },
  {
   "cell_type": "code",
   "execution_count": 31,
   "metadata": {
    "collapsed": true
   },
   "outputs": [],
   "source": [
    "def print_stats(session, feature_batch, label_batch, cost, accuracy):\n",
    "    \"\"\"\n",
    "    Print information about loss and validation accuracy\n",
    "    : session: Current TensorFlow session\n",
    "    : feature_batch: Batch of Numpy image data\n",
    "    : label_batch: Batch of Numpy label data\n",
    "    : cost: TensorFlow cost function\n",
    "    : accuracy: TensorFlow accuracy function\n",
    "    \"\"\"\n",
    "    # TODO: Implement Function\n",
    "    loss, validation_accuracy = session.run([cost, accuracy], feed_dict={x:feature_batch, y:label_batch, keep_prob:1.0})\n",
    "    print('loss: {0:.4f}\\t accuracy: {1:.3f}'.format(loss, validation_accuracy))"
   ]
  },
  {
   "cell_type": "markdown",
   "metadata": {},
   "source": [
    "### Hyperparameters\n",
    "Tune the following parameters:\n",
    "* Set `epochs` to the number of iterations until the network stops learning or start overfitting\n",
    "* Set `batch_size` to the highest number that your machine has memory for.  Most people set them to common sizes of memory:\n",
    " * 64\n",
    " * 128\n",
    " * 256\n",
    " * ...\n",
    "* Set `keep_probability` to the probability of keeping a node using dropout"
   ]
  },
  {
   "cell_type": "code",
   "execution_count": 32,
   "metadata": {
    "collapsed": true
   },
   "outputs": [],
   "source": [
    "# TODO: Tune Parameters\n",
    "epochs = 30\n",
    "batch_size = 128\n",
    "keep_probability = 0.5"
   ]
  },
  {
   "cell_type": "markdown",
   "metadata": {},
   "source": [
    "### Train on a Single CIFAR-10 Batch\n",
    "Instead of training the neural network on all the CIFAR-10 batches of data, let's use a single batch. This should save time while you iterate on the model to get a better accuracy.  Once the final validation accuracy is 50% or greater, run the model on all the data in the next section."
   ]
  },
  {
   "cell_type": "code",
   "execution_count": 28,
   "metadata": {},
   "outputs": [
    {
     "name": "stdout",
     "output_type": "stream",
     "text": [
      "Checking the Training on a Single Batch...\n",
      "Epoch  1, CIFAR-10 Batch 1,   5.0sec:  loss: 2.3027\t accuracy: 0.100\n",
      "Epoch  2, CIFAR-10 Batch 1,   4.9sec:  loss: 2.2315\t accuracy: 0.212\n",
      "Epoch  3, CIFAR-10 Batch 1,   4.9sec:  loss: 2.1050\t accuracy: 0.269\n",
      "Epoch  4, CIFAR-10 Batch 1,   4.9sec:  loss: 1.9896\t accuracy: 0.277\n",
      "Epoch  5, CIFAR-10 Batch 1,   4.9sec:  loss: 1.8676\t accuracy: 0.355\n",
      "Epoch  6, CIFAR-10 Batch 1,   4.9sec:  loss: 1.7730\t accuracy: 0.384\n",
      "Epoch  7, CIFAR-10 Batch 1,   4.9sec:  loss: 1.7034\t accuracy: 0.411\n",
      "Epoch  8, CIFAR-10 Batch 1,   4.9sec:  loss: 1.6527\t accuracy: 0.424\n",
      "Epoch  9, CIFAR-10 Batch 1,   4.9sec:  loss: 1.6223\t accuracy: 0.435\n",
      "Epoch 10, CIFAR-10 Batch 1,   4.9sec:  loss: 1.5880\t accuracy: 0.448\n",
      "Epoch 11, CIFAR-10 Batch 1,   4.9sec:  loss: 1.5595\t accuracy: 0.450\n",
      "Epoch 12, CIFAR-10 Batch 1,   4.9sec:  loss: 1.5381\t accuracy: 0.458\n",
      "Epoch 13, CIFAR-10 Batch 1,   4.9sec:  loss: 1.4790\t accuracy: 0.478\n",
      "Epoch 14, CIFAR-10 Batch 1,   4.9sec:  loss: 1.4568\t accuracy: 0.485\n",
      "Epoch 15, CIFAR-10 Batch 1,   4.9sec:  loss: 1.4433\t accuracy: 0.492\n",
      "Epoch 16, CIFAR-10 Batch 1,   4.9sec:  loss: 1.4089\t accuracy: 0.505\n",
      "Epoch 17, CIFAR-10 Batch 1,   4.9sec:  loss: 1.3875\t accuracy: 0.517\n",
      "Epoch 18, CIFAR-10 Batch 1,   4.9sec:  loss: 1.3569\t accuracy: 0.522\n",
      "Epoch 19, CIFAR-10 Batch 1,   4.9sec:  loss: 1.3638\t accuracy: 0.525\n",
      "Epoch 20, CIFAR-10 Batch 1,   4.9sec:  loss: 1.3623\t accuracy: 0.522\n"
     ]
    }
   ],
   "source": [
    "\"\"\"\n",
    "DON'T MODIFY ANYTHING IN THIS CELL\n",
    "\"\"\"\n",
    "import time\n",
    "print('Checking the Training on a Single Batch...')\n",
    "with tf.Session() as sess:\n",
    "    # Initializing the variables\n",
    "    sess.run(tf.global_variables_initializer())\n",
    "    \n",
    "    # Training cycle\n",
    "    for epoch in range(epochs):\n",
    "        batch_i = 1\n",
    "        batch_start_time = time.time()\n",
    "        for batch_features, batch_labels in helper.load_preprocess_training_batch(batch_i, batch_size):\n",
    "            train_neural_network(sess, optimizer, keep_probability, batch_features, batch_labels)\n",
    "        elapsed_time = float(time.time() - batch_start_time)\n",
    "        print('Epoch {:>2}, CIFAR-10 Batch {}, {:5.1f}sec:  '.format(epoch + 1, batch_i, elapsed_time), end='')\n",
    "        print_stats(sess, valid_features, valid_labels, cost, accuracy)\n",
    "    # print_stats(sess, valid_features, valid_labels, cost, accuracy)"
   ]
  },
  {
   "cell_type": "markdown",
   "metadata": {},
   "source": [
    "### Fully Train the Model\n",
    "Now that you got a good accuracy with a single CIFAR-10 batch, try it with all five batches."
   ]
  },
  {
   "cell_type": "code",
   "execution_count": 33,
   "metadata": {},
   "outputs": [
    {
     "name": "stdout",
     "output_type": "stream",
     "text": [
      "Training...\n",
      "Epoch  1, CIFAR-10 Batch 1,   5.0sec:  loss: 2.2325\t accuracy: 0.175\n",
      "Epoch  1, CIFAR-10 Batch 2,   4.9sec:  loss: 2.0782\t accuracy: 0.251\n",
      "Epoch  1, CIFAR-10 Batch 3,   4.9sec:  loss: 1.9633\t accuracy: 0.291\n",
      "Epoch  1, CIFAR-10 Batch 4,   5.6sec:  loss: 1.8931\t accuracy: 0.316\n",
      "Epoch  1, CIFAR-10 Batch 5,   5.6sec:  loss: 1.7619\t accuracy: 0.367\n",
      "Epoch  2, CIFAR-10 Batch 1,   4.9sec:  loss: 1.7092\t accuracy: 0.391\n",
      "Epoch  2, CIFAR-10 Batch 2,   4.9sec:  loss: 1.6368\t accuracy: 0.413\n",
      "Epoch  2, CIFAR-10 Batch 3,   4.9sec:  loss: 1.5392\t accuracy: 0.463\n",
      "Epoch  2, CIFAR-10 Batch 4,   4.9sec:  loss: 1.5212\t accuracy: 0.462\n",
      "Epoch  2, CIFAR-10 Batch 5,   4.9sec:  loss: 1.4952\t accuracy: 0.474\n",
      "Epoch  3, CIFAR-10 Batch 1,   4.9sec:  loss: 1.4099\t accuracy: 0.505\n",
      "Epoch  3, CIFAR-10 Batch 2,   4.9sec:  loss: 1.5441\t accuracy: 0.430\n",
      "Epoch  3, CIFAR-10 Batch 3,   4.9sec:  loss: 1.3928\t accuracy: 0.517\n",
      "Epoch  3, CIFAR-10 Batch 4,   4.9sec:  loss: 1.3866\t accuracy: 0.507\n",
      "Epoch  3, CIFAR-10 Batch 5,   4.9sec:  loss: 1.4154\t accuracy: 0.506\n",
      "Epoch  4, CIFAR-10 Batch 1,   4.9sec:  loss: 1.3350\t accuracy: 0.537\n",
      "Epoch  4, CIFAR-10 Batch 2,   4.9sec:  loss: 1.4100\t accuracy: 0.496\n",
      "Epoch  4, CIFAR-10 Batch 3,   5.0sec:  loss: 1.3135\t accuracy: 0.541\n",
      "Epoch  4, CIFAR-10 Batch 4,   4.9sec:  loss: 1.3132\t accuracy: 0.542\n",
      "Epoch  4, CIFAR-10 Batch 5,   4.9sec:  loss: 1.3171\t accuracy: 0.537\n",
      "Epoch  5, CIFAR-10 Batch 1,   4.9sec:  loss: 1.2471\t accuracy: 0.563\n",
      "Epoch  5, CIFAR-10 Batch 2,   4.9sec:  loss: 1.2712\t accuracy: 0.564\n",
      "Epoch  5, CIFAR-10 Batch 3,   4.9sec:  loss: 1.2760\t accuracy: 0.560\n",
      "Epoch  5, CIFAR-10 Batch 4,   5.0sec:  loss: 1.2559\t accuracy: 0.570\n",
      "Epoch  5, CIFAR-10 Batch 5,   4.9sec:  loss: 1.2832\t accuracy: 0.556\n",
      "Epoch  6, CIFAR-10 Batch 1,   4.9sec:  loss: 1.2061\t accuracy: 0.576\n",
      "Epoch  6, CIFAR-10 Batch 2,   5.0sec:  loss: 1.2498\t accuracy: 0.567\n",
      "Epoch  6, CIFAR-10 Batch 3,   4.9sec:  loss: 1.2454\t accuracy: 0.569\n",
      "Epoch  6, CIFAR-10 Batch 4,   4.9sec:  loss: 1.2035\t accuracy: 0.583\n",
      "Epoch  6, CIFAR-10 Batch 5,   4.9sec:  loss: 1.2173\t accuracy: 0.575\n",
      "Epoch  7, CIFAR-10 Batch 1,   4.9sec:  loss: 1.1274\t accuracy: 0.605\n",
      "Epoch  7, CIFAR-10 Batch 2,   4.9sec:  loss: 1.1749\t accuracy: 0.592\n",
      "Epoch  7, CIFAR-10 Batch 3,   4.9sec:  loss: 1.2443\t accuracy: 0.565\n",
      "Epoch  7, CIFAR-10 Batch 4,   4.9sec:  loss: 1.1755\t accuracy: 0.599\n",
      "Epoch  7, CIFAR-10 Batch 5,   4.9sec:  loss: 1.1511\t accuracy: 0.608\n",
      "Epoch  8, CIFAR-10 Batch 1,   4.9sec:  loss: 1.0723\t accuracy: 0.624\n",
      "Epoch  8, CIFAR-10 Batch 2,   4.9sec:  loss: 1.0853\t accuracy: 0.627\n",
      "Epoch  8, CIFAR-10 Batch 3,   4.9sec:  loss: 1.1272\t accuracy: 0.607\n",
      "Epoch  8, CIFAR-10 Batch 4,   4.9sec:  loss: 1.0795\t accuracy: 0.627\n",
      "Epoch  8, CIFAR-10 Batch 5,   4.9sec:  loss: 1.0815\t accuracy: 0.635\n",
      "Epoch  9, CIFAR-10 Batch 1,   4.9sec:  loss: 1.0458\t accuracy: 0.637\n",
      "Epoch  9, CIFAR-10 Batch 2,   4.9sec:  loss: 1.0469\t accuracy: 0.641\n",
      "Epoch  9, CIFAR-10 Batch 3,   4.9sec:  loss: 1.0928\t accuracy: 0.619\n",
      "Epoch  9, CIFAR-10 Batch 4,   4.9sec:  loss: 1.0444\t accuracy: 0.644\n",
      "Epoch  9, CIFAR-10 Batch 5,   4.9sec:  loss: 1.0729\t accuracy: 0.629\n",
      "Epoch 10, CIFAR-10 Batch 1,   4.9sec:  loss: 0.9808\t accuracy: 0.668\n",
      "Epoch 10, CIFAR-10 Batch 2,   4.9sec:  loss: 1.0091\t accuracy: 0.655\n",
      "Epoch 10, CIFAR-10 Batch 3,   4.9sec:  loss: 1.0118\t accuracy: 0.653\n",
      "Epoch 10, CIFAR-10 Batch 4,   5.0sec:  loss: 1.0046\t accuracy: 0.651\n",
      "Epoch 10, CIFAR-10 Batch 5,   4.9sec:  loss: 1.0783\t accuracy: 0.630\n",
      "Epoch 11, CIFAR-10 Batch 1,   4.9sec:  loss: 0.9697\t accuracy: 0.667\n",
      "Epoch 11, CIFAR-10 Batch 2,   4.9sec:  loss: 0.9870\t accuracy: 0.659\n",
      "Epoch 11, CIFAR-10 Batch 3,   4.9sec:  loss: 0.9915\t accuracy: 0.659\n",
      "Epoch 11, CIFAR-10 Batch 4,   4.9sec:  loss: 0.9657\t accuracy: 0.668\n",
      "Epoch 11, CIFAR-10 Batch 5,   4.9sec:  loss: 0.9851\t accuracy: 0.656\n",
      "Epoch 12, CIFAR-10 Batch 1,   4.9sec:  loss: 0.9542\t accuracy: 0.666\n",
      "Epoch 12, CIFAR-10 Batch 2,   4.9sec:  loss: 0.9549\t accuracy: 0.668\n",
      "Epoch 12, CIFAR-10 Batch 3,   4.9sec:  loss: 0.9514\t accuracy: 0.674\n",
      "Epoch 12, CIFAR-10 Batch 4,   4.9sec:  loss: 0.9767\t accuracy: 0.659\n",
      "Epoch 12, CIFAR-10 Batch 5,   4.9sec:  loss: 1.0086\t accuracy: 0.649\n",
      "Epoch 13, CIFAR-10 Batch 1,   4.9sec:  loss: 0.9242\t accuracy: 0.686\n",
      "Epoch 13, CIFAR-10 Batch 2,   4.9sec:  loss: 0.9640\t accuracy: 0.670\n",
      "Epoch 13, CIFAR-10 Batch 3,   4.9sec:  loss: 0.9290\t accuracy: 0.684\n",
      "Epoch 13, CIFAR-10 Batch 4,   4.9sec:  loss: 0.9266\t accuracy: 0.682\n",
      "Epoch 13, CIFAR-10 Batch 5,   4.9sec:  loss: 0.9653\t accuracy: 0.668\n",
      "Epoch 14, CIFAR-10 Batch 1,   4.9sec:  loss: 0.9103\t accuracy: 0.687\n",
      "Epoch 14, CIFAR-10 Batch 2,   4.9sec:  loss: 0.9417\t accuracy: 0.673\n",
      "Epoch 14, CIFAR-10 Batch 3,   4.9sec:  loss: 0.9134\t accuracy: 0.686\n",
      "Epoch 14, CIFAR-10 Batch 4,   4.9sec:  loss: 0.8836\t accuracy: 0.695\n",
      "Epoch 14, CIFAR-10 Batch 5,   5.0sec:  loss: 0.9336\t accuracy: 0.683\n",
      "Epoch 15, CIFAR-10 Batch 1,   4.9sec:  loss: 0.8938\t accuracy: 0.693\n",
      "Epoch 15, CIFAR-10 Batch 2,   4.9sec:  loss: 0.9005\t accuracy: 0.692\n",
      "Epoch 15, CIFAR-10 Batch 3,   4.9sec:  loss: 0.9101\t accuracy: 0.687\n",
      "Epoch 15, CIFAR-10 Batch 4,   4.9sec:  loss: 0.9039\t accuracy: 0.685\n",
      "Epoch 15, CIFAR-10 Batch 5,   4.9sec:  loss: 0.9487\t accuracy: 0.678\n",
      "Epoch 16, CIFAR-10 Batch 1,   4.9sec:  loss: 0.8847\t accuracy: 0.696\n",
      "Epoch 16, CIFAR-10 Batch 2,   4.9sec:  loss: 0.8811\t accuracy: 0.699\n",
      "Epoch 16, CIFAR-10 Batch 3,   4.9sec:  loss: 0.9089\t accuracy: 0.683\n",
      "Epoch 16, CIFAR-10 Batch 4,   4.9sec:  loss: 0.8819\t accuracy: 0.694\n",
      "Epoch 16, CIFAR-10 Batch 5,   4.9sec:  loss: 0.9141\t accuracy: 0.683\n",
      "Epoch 17, CIFAR-10 Batch 1,   4.9sec:  loss: 0.8694\t accuracy: 0.702\n",
      "Epoch 17, CIFAR-10 Batch 2,   4.9sec:  loss: 0.9039\t accuracy: 0.691\n",
      "Epoch 17, CIFAR-10 Batch 3,   4.9sec:  loss: 0.8916\t accuracy: 0.694\n",
      "Epoch 17, CIFAR-10 Batch 4,   4.9sec:  loss: 0.9158\t accuracy: 0.681\n",
      "Epoch 17, CIFAR-10 Batch 5,   4.9sec:  loss: 0.8984\t accuracy: 0.688\n",
      "Epoch 18, CIFAR-10 Batch 1,   4.9sec:  loss: 0.8699\t accuracy: 0.697\n",
      "Epoch 18, CIFAR-10 Batch 2,   4.9sec:  loss: 0.9451\t accuracy: 0.669\n",
      "Epoch 18, CIFAR-10 Batch 3,   4.9sec:  loss: 0.8776\t accuracy: 0.693\n",
      "Epoch 18, CIFAR-10 Batch 4,   4.9sec:  loss: 0.8736\t accuracy: 0.697\n",
      "Epoch 18, CIFAR-10 Batch 5,   4.9sec:  loss: 0.9000\t accuracy: 0.685\n",
      "Epoch 19, CIFAR-10 Batch 1,   4.9sec:  loss: 0.8778\t accuracy: 0.695\n",
      "Epoch 19, CIFAR-10 Batch 2,   4.9sec:  loss: 0.8802\t accuracy: 0.693\n",
      "Epoch 19, CIFAR-10 Batch 3,   4.9sec:  loss: 0.8737\t accuracy: 0.693\n",
      "Epoch 19, CIFAR-10 Batch 4,   4.9sec:  loss: 0.8650\t accuracy: 0.700\n",
      "Epoch 19, CIFAR-10 Batch 5,   4.9sec:  loss: 0.8650\t accuracy: 0.704\n",
      "Epoch 20, CIFAR-10 Batch 1,   4.9sec:  loss: 0.8571\t accuracy: 0.702\n",
      "Epoch 20, CIFAR-10 Batch 2,   4.9sec:  loss: 0.8867\t accuracy: 0.695\n",
      "Epoch 20, CIFAR-10 Batch 3,   4.9sec:  loss: 0.8829\t accuracy: 0.689\n",
      "Epoch 20, CIFAR-10 Batch 4,   4.9sec:  loss: 0.8716\t accuracy: 0.698\n",
      "Epoch 20, CIFAR-10 Batch 5,   4.9sec:  loss: 0.8503\t accuracy: 0.704\n",
      "Epoch 21, CIFAR-10 Batch 1,   4.9sec:  loss: 0.8667\t accuracy: 0.700\n",
      "Epoch 21, CIFAR-10 Batch 2,   4.9sec:  loss: 0.8910\t accuracy: 0.696\n",
      "Epoch 21, CIFAR-10 Batch 3,   4.9sec:  loss: 0.8625\t accuracy: 0.698\n",
      "Epoch 21, CIFAR-10 Batch 4,   4.9sec:  loss: 0.8636\t accuracy: 0.699\n",
      "Epoch 21, CIFAR-10 Batch 5,   4.9sec:  loss: 0.8732\t accuracy: 0.695\n",
      "Epoch 22, CIFAR-10 Batch 1,   4.9sec:  loss: 0.8586\t accuracy: 0.704\n",
      "Epoch 22, CIFAR-10 Batch 2,   4.9sec:  loss: 0.9033\t accuracy: 0.692\n",
      "Epoch 22, CIFAR-10 Batch 3,   4.9sec:  loss: 0.8973\t accuracy: 0.688\n",
      "Epoch 22, CIFAR-10 Batch 4,   4.9sec:  loss: 0.8704\t accuracy: 0.698\n",
      "Epoch 22, CIFAR-10 Batch 5,   4.9sec:  loss: 0.8484\t accuracy: 0.702\n",
      "Epoch 23, CIFAR-10 Batch 1,   4.9sec:  loss: 0.8597\t accuracy: 0.701\n",
      "Epoch 23, CIFAR-10 Batch 2,   4.9sec:  loss: 0.9198\t accuracy: 0.691\n",
      "Epoch 23, CIFAR-10 Batch 3,   4.9sec:  loss: 0.8496\t accuracy: 0.698\n",
      "Epoch 23, CIFAR-10 Batch 4,   4.9sec:  loss: 0.8620\t accuracy: 0.695\n",
      "Epoch 23, CIFAR-10 Batch 5,   4.9sec:  loss: 0.8630\t accuracy: 0.694\n",
      "Epoch 24, CIFAR-10 Batch 1,   4.9sec:  loss: 0.8658\t accuracy: 0.703\n",
      "Epoch 24, CIFAR-10 Batch 2,   4.9sec:  loss: 0.9322\t accuracy: 0.685\n",
      "Epoch 24, CIFAR-10 Batch 3,   4.9sec:  loss: 0.8366\t accuracy: 0.705\n"
     ]
    },
    {
     "name": "stdout",
     "output_type": "stream",
     "text": [
      "Epoch 24, CIFAR-10 Batch 4,   4.9sec:  loss: 0.8730\t accuracy: 0.692\n",
      "Epoch 24, CIFAR-10 Batch 5,   4.9sec:  loss: 0.8398\t accuracy: 0.707\n",
      "Epoch 25, CIFAR-10 Batch 1,   4.9sec:  loss: 0.8682\t accuracy: 0.697\n",
      "Epoch 25, CIFAR-10 Batch 2,   4.9sec:  loss: 0.9129\t accuracy: 0.693\n",
      "Epoch 25, CIFAR-10 Batch 3,   4.9sec:  loss: 0.8484\t accuracy: 0.702\n",
      "Epoch 25, CIFAR-10 Batch 4,   4.9sec:  loss: 0.8485\t accuracy: 0.703\n",
      "Epoch 25, CIFAR-10 Batch 5,   4.9sec:  loss: 0.8620\t accuracy: 0.700\n",
      "Epoch 26, CIFAR-10 Batch 1,   4.9sec:  loss: 0.8704\t accuracy: 0.693\n",
      "Epoch 26, CIFAR-10 Batch 2,   4.9sec:  loss: 0.9105\t accuracy: 0.687\n",
      "Epoch 26, CIFAR-10 Batch 3,   4.9sec:  loss: 0.8704\t accuracy: 0.698\n",
      "Epoch 26, CIFAR-10 Batch 4,   4.9sec:  loss: 0.8478\t accuracy: 0.711\n",
      "Epoch 26, CIFAR-10 Batch 5,   4.9sec:  loss: 0.8365\t accuracy: 0.708\n",
      "Epoch 27, CIFAR-10 Batch 1,   4.9sec:  loss: 0.8710\t accuracy: 0.705\n",
      "Epoch 27, CIFAR-10 Batch 2,   4.9sec:  loss: 0.8644\t accuracy: 0.700\n",
      "Epoch 27, CIFAR-10 Batch 3,   4.9sec:  loss: 0.8767\t accuracy: 0.693\n",
      "Epoch 27, CIFAR-10 Batch 4,   4.9sec:  loss: 0.8658\t accuracy: 0.699\n",
      "Epoch 27, CIFAR-10 Batch 5,   4.9sec:  loss: 0.8516\t accuracy: 0.705\n",
      "Epoch 28, CIFAR-10 Batch 1,   4.9sec:  loss: 0.8906\t accuracy: 0.697\n",
      "Epoch 28, CIFAR-10 Batch 2,   4.9sec:  loss: 0.8679\t accuracy: 0.697\n",
      "Epoch 28, CIFAR-10 Batch 3,   4.9sec:  loss: 0.8748\t accuracy: 0.697\n",
      "Epoch 28, CIFAR-10 Batch 4,   4.9sec:  loss: 0.8691\t accuracy: 0.699\n",
      "Epoch 28, CIFAR-10 Batch 5,   4.9sec:  loss: 0.8301\t accuracy: 0.716\n",
      "Epoch 29, CIFAR-10 Batch 1,   4.9sec:  loss: 0.8736\t accuracy: 0.702\n",
      "Epoch 29, CIFAR-10 Batch 2,   4.9sec:  loss: 0.9154\t accuracy: 0.690\n",
      "Epoch 29, CIFAR-10 Batch 3,   4.9sec:  loss: 0.8618\t accuracy: 0.699\n",
      "Epoch 29, CIFAR-10 Batch 4,   4.9sec:  loss: 0.9045\t accuracy: 0.686\n",
      "Epoch 29, CIFAR-10 Batch 5,   4.9sec:  loss: 0.8640\t accuracy: 0.707\n",
      "Epoch 30, CIFAR-10 Batch 1,   4.9sec:  loss: 0.8959\t accuracy: 0.689\n",
      "Epoch 30, CIFAR-10 Batch 2,   4.9sec:  loss: 0.8769\t accuracy: 0.698\n",
      "Epoch 30, CIFAR-10 Batch 3,   4.9sec:  loss: 0.8480\t accuracy: 0.701\n",
      "Epoch 30, CIFAR-10 Batch 4,   5.0sec:  loss: 0.8582\t accuracy: 0.703\n",
      "Epoch 30, CIFAR-10 Batch 5,   4.9sec:  loss: 0.8604\t accuracy: 0.702\n"
     ]
    }
   ],
   "source": [
    "\"\"\"\n",
    "DON'T MODIFY ANYTHING IN THIS CELL\n",
    "\"\"\"\n",
    "save_model_path = './image_classification'\n",
    "\n",
    "print('Training...')\n",
    "with tf.Session() as sess:\n",
    "    # Initializing the variables\n",
    "    sess.run(tf.global_variables_initializer())\n",
    "    \n",
    "    # Training cycle\n",
    "    for epoch in range(epochs):\n",
    "        # Loop over all batches\n",
    "        n_batches = 5\n",
    "        for batch_i in range(1, n_batches + 1):\n",
    "            batch_start_time = time.time()\n",
    "            for batch_features, batch_labels in helper.load_preprocess_training_batch(batch_i, batch_size):\n",
    "                train_neural_network(sess, optimizer, keep_probability, batch_features, batch_labels)\n",
    "            elapsed_time = float(time.time() - batch_start_time)\n",
    "            print('Epoch {:>2}, CIFAR-10 Batch {}, {:5.1f}sec:  '.format(epoch + 1, batch_i, elapsed_time), end='')\n",
    "            print_stats(sess, valid_features, valid_labels, cost, accuracy)\n",
    "            \n",
    "    # Save Model\n",
    "    saver = tf.train.Saver()\n",
    "    save_path = saver.save(sess, save_model_path)"
   ]
  },
  {
   "cell_type": "markdown",
   "metadata": {},
   "source": [
    "# Checkpoint\n",
    "The model has been saved to disk.\n",
    "## Test Model\n",
    "Test your model against the test dataset.  This will be your final accuracy. You should have an accuracy greater than 50%. If you don't, keep tweaking the model architecture and parameters."
   ]
  },
  {
   "cell_type": "code",
   "execution_count": 35,
   "metadata": {},
   "outputs": [
    {
     "name": "stdout",
     "output_type": "stream",
     "text": [
      "INFO:tensorflow:Restoring parameters from ./image_classification\n",
      "Testing Accuracy: 0.700059335443038\n",
      "\n"
     ]
    },
    {
     "data": {
      "image/png": "[encoded data removed]",
      "text/plain": [
       "<matplotlib.figure.Figure at 0x7fdad467f358>"
      ]
     },
     "metadata": {
      "image/png": {
       "height": 319,
       "width": 355
      }
     },
     "output_type": "display_data"
    }
   ],
   "source": [
    "\"\"\"\n",
    "DON'T MODIFY ANYTHING IN THIS CELL\n",
    "\"\"\"\n",
    "%matplotlib inline\n",
    "%config InlineBackend.figure_format = 'retina'\n",
    "\n",
    "import tensorflow as tf\n",
    "import pickle\n",
    "import helper\n",
    "import random\n",
    "\n",
    "# Set batch size if not already set\n",
    "try:\n",
    "    if batch_size:\n",
    "        pass\n",
    "except NameError:\n",
    "    batch_size = 64\n",
    "\n",
    "save_model_path = './image_classification'\n",
    "n_samples = 4\n",
    "top_n_predictions = 3\n",
    "\n",
    "def test_model():\n",
    "    \"\"\"\n",
    "    Test the saved model against the test dataset\n",
    "    \"\"\"\n",
    "\n",
    "    test_features, test_labels = pickle.load(open('preprocess_test.p', mode='rb'))\n",
    "    loaded_graph = tf.Graph()\n",
    "\n",
    "    with tf.Session(graph=loaded_graph) as sess:\n",
    "        # Load model\n",
    "        loader = tf.train.import_meta_graph(save_model_path + '.meta')\n",
    "        loader.restore(sess, save_model_path)\n",
    "\n",
    "        # Get Tensors from loaded model\n",
    "        loaded_x = loaded_graph.get_tensor_by_name('x:0')\n",
    "        loaded_y = loaded_graph.get_tensor_by_name('y:0')\n",
    "        loaded_keep_prob = loaded_graph.get_tensor_by_name('keep_prob:0')\n",
    "        loaded_logits = loaded_graph.get_tensor_by_name('logits:0')\n",
    "        loaded_acc = loaded_graph.get_tensor_by_name('accuracy:0')\n",
    "        \n",
    "        # Get accuracy in batches for memory limitations\n",
    "        test_batch_acc_total = 0\n",
    "        test_batch_count = 0\n",
    "        \n",
    "        for train_feature_batch, train_label_batch in helper.batch_features_labels(test_features, test_labels, batch_size):\n",
    "            test_batch_acc_total += sess.run(\n",
    "                loaded_acc,\n",
    "                feed_dict={loaded_x: train_feature_batch, loaded_y: train_label_batch, loaded_keep_prob: 1.0})\n",
    "            test_batch_count += 1\n",
    "\n",
    "        print('Testing Accuracy: {}\\n'.format(test_batch_acc_total/test_batch_count))\n",
    "\n",
    "        # Print Random Samples\n",
    "        random_test_features, random_test_labels = tuple(zip(*random.sample(list(zip(test_features, test_labels)), n_samples)))\n",
    "        random_test_predictions = sess.run(\n",
    "            tf.nn.top_k(tf.nn.softmax(loaded_logits), top_n_predictions),\n",
    "            feed_dict={loaded_x: random_test_features, loaded_y: random_test_labels, loaded_keep_prob: 1.0})\n",
    "        helper.display_image_predictions(random_test_features, random_test_labels, random_test_predictions)\n",
    "\n",
    "\n",
    "test_model()"
   ]
  },
  {
   "cell_type": "markdown",
   "metadata": {},
   "source": [
    "## Why 50-70% Accuracy?\n",
    "You might be wondering why you can't get an accuracy any higher. First things first, 50% isn't bad for a simple CNN.  Pure guessing would get you 10% accuracy. However, you might notice people are getting scores [well above 70%](http://rodrigob.github.io/are_we_there_yet/build/classification_datasets_results.html#43494641522d3130).  That's because we haven't taught you all there is to know about neural networks. We still need to cover a few more techniques.\n",
    "## Submitting This Project\n",
    "When submitting this project, make sure to run all the cells before saving the notebook.  Save the notebook file as \"dlnd_image_classification.ipynb\" and save it as a HTML file under \"File\" -> \"Download as\".  Include the \"helper.py\" and \"problem_unittests.py\" files in your submission."
   ]
  },
  {
   "cell_type": "code",
   "execution_count": null,
   "metadata": {
    "collapsed": true
   },
   "outputs": [],
   "source": []
  }
 ],
 "metadata": {
  "kernelspec": {
   "display_name": "Python 3",
   "language": "python",
   "name": "python3"
  },
  "language_info": {
   "codemirror_mode": {
    "name": "ipython",
    "version": 3
   },
   "file_extension": ".py",
   "mimetype": "text/x-python",
   "name": "python",
   "nbconvert_exporter": "python",
   "pygments_lexer": "ipython3",
   "version": "3.5.3"
  }
 },
 "nbformat": 4,
 "nbformat_minor": 1
}
