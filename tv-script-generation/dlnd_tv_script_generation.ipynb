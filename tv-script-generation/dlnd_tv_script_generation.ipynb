{
 "cells": [
  {
   "cell_type": "markdown",
   "metadata": {
    "deletable": true,
    "editable": true
   },
   "source": [
    "# TV Script Generation\n",
    "In this project, you'll generate your own [Simpsons](https://en.wikipedia.org/wiki/The_Simpsons) TV scripts using RNNs.  You'll be using part of the [Simpsons dataset](https://www.kaggle.com/wcukierski/the-simpsons-by-the-data) of scripts from 27 seasons.  The Neural Network you'll build will generate a new TV script for a scene at [Moe's Tavern](https://simpsonswiki.com/wiki/Moe's_Tavern).\n",
    "## Get the Data\n",
    "The data is already provided for you.  You'll be using a subset of the original dataset.  It consists of only the scenes in Moe's Tavern.  This doesn't include other versions of the tavern, like \"Moe's Cavern\", \"Flaming Moe's\", \"Uncle Moe's Family Feed-Bag\", etc.."
   ]
  },
  {
   "cell_type": "code",
   "execution_count": 41,
   "metadata": {
    "collapsed": false,
    "deletable": true,
    "editable": true
   },
   "outputs": [],
   "source": [
    "\"\"\"\n",
    "DON'T MODIFY ANYTHING IN THIS CELL\n",
    "\"\"\"\n",
    "import helper\n",
    "\n",
    "data_dir = './data/simpsons/moes_tavern_lines.txt'\n",
    "text = helper.load_data(data_dir)\n",
    "# Ignore notice, since we don't use it for analysing the data\n",
    "text = text[81:]"
   ]
  },
  {
   "cell_type": "markdown",
   "metadata": {
    "deletable": true,
    "editable": true
   },
   "source": [
    "## Explore the Data\n",
    "Play around with `view_sentence_range` to view different parts of the data."
   ]
  },
  {
   "cell_type": "code",
   "execution_count": 42,
   "metadata": {
    "collapsed": false,
    "deletable": true,
    "editable": true
   },
   "outputs": [
    {
     "name": "stdout",
     "output_type": "stream",
     "text": [
      "Dataset Stats\n",
      "Roughly the number of unique words: 11492\n",
      "Number of scenes: 262\n",
      "Average number of sentences in each scene: 15.248091603053435\n",
      "Number of lines: 4257\n",
      "Average number of words in each line: 11.50434578341555\n",
      "\n",
      "The sentences 20 to 30:\n",
      "\n",
      "Moe_Szyslak: Looks like this is the end.\n",
      "Barney_Gumble: That's all right. I couldn't have led a richer life.\n",
      "Barney_Gumble: So the next time somebody tells you county folk are good, honest people, you can spit in their faces for me!\n",
      "Lisa_Simpson: I will, Mr. Gumbel. But if you'll excuse me, I'm profiling my dad for the school paper. I thought it would be neat to follow him around for a day to see what makes him tick.\n",
      "Barney_Gumble: Oh, that's sweet. I used to follow my dad to a lot of bars too. (BELCH)\n",
      "Moe_Szyslak: Here you go. One beer, one chocolate milk.\n",
      "Lisa_Simpson: Uh, excuse me, I have the chocolate milk.\n",
      "Moe_Szyslak: Oh.\n",
      "Moe_Szyslak: What's the matter, Homer? The depressin' effects of alcohol usually don't kick in 'til closing time.\n"
     ]
    }
   ],
   "source": [
    "view_sentence_range = (20, 30)\n",
    "\n",
    "\"\"\"\n",
    "DON'T MODIFY ANYTHING IN THIS CELL\n",
    "\"\"\"\n",
    "import numpy as np\n",
    "\n",
    "print('Dataset Stats')\n",
    "print('Roughly the number of unique words: {}'.format(len({word: None for word in text.split()})))\n",
    "scenes = text.split('\\n\\n')\n",
    "print('Number of scenes: {}'.format(len(scenes)))\n",
    "sentence_count_scene = [scene.count('\\n') for scene in scenes]\n",
    "print('Average number of sentences in each scene: {}'.format(np.average(sentence_count_scene)))\n",
    "\n",
    "sentences = [sentence for scene in scenes for sentence in scene.split('\\n')]\n",
    "print('Number of lines: {}'.format(len(sentences)))\n",
    "word_count_sentence = [len(sentence.split()) for sentence in sentences]\n",
    "print('Average number of words in each line: {}'.format(np.average(word_count_sentence)))\n",
    "\n",
    "print()\n",
    "print('The sentences {} to {}:'.format(*view_sentence_range))\n",
    "print('\\n'.join(text.split('\\n')[view_sentence_range[0]:view_sentence_range[1]]))"
   ]
  },
  {
   "cell_type": "markdown",
   "metadata": {
    "deletable": true,
    "editable": true
   },
   "source": [
    "## Implement Preprocessing Functions\n",
    "The first thing to do to any dataset is preprocessing.  Implement the following preprocessing functions below:\n",
    "- Lookup Table\n",
    "- Tokenize Punctuation\n",
    "\n",
    "### Lookup Table\n",
    "To create a word embedding, you first need to transform the words to ids.  In this function, create two dictionaries:\n",
    "- Dictionary to go from the words to an id, we'll call `vocab_to_int`\n",
    "- Dictionary to go from the id to word, we'll call `int_to_vocab`\n",
    "\n",
    "Return these dictionaries in the following tuple `(vocab_to_int, int_to_vocab)`"
   ]
  },
  {
   "cell_type": "code",
   "execution_count": 43,
   "metadata": {
    "collapsed": false,
    "deletable": true,
    "editable": true
   },
   "outputs": [
    {
     "name": "stdout",
     "output_type": "stream",
     "text": [
      "Tests Passed\n"
     ]
    }
   ],
   "source": [
    "import numpy as np\n",
    "import problem_unittests as tests\n",
    "from collections import Counter\n",
    "\n",
    "def create_lookup_tables(text):\n",
    "    \"\"\"\n",
    "    Create lookup tables for vocabulary\n",
    "    :param text: The text of tv scripts split into words\n",
    "    :return: A tuple of dicts (vocab_to_int, int_to_vocab)\n",
    "    \"\"\"\n",
    "    # TODO: Implement Function    \n",
    "    word_counts = Counter(text)\n",
    "    words = sorted(word_counts, key=word_counts.get, reverse=True)\n",
    "    vocab_to_int = { word:index for index, word in enumerate(words) }\n",
    "    int_to_vocab = { index:word for word, index in vocab_to_int.items() }\n",
    "    return (vocab_to_int, int_to_vocab)\n",
    "\n",
    "\n",
    "\"\"\"\n",
    "DON'T MODIFY ANYTHING IN THIS CELL THAT IS BELOW THIS LINE\n",
    "\"\"\"\n",
    "tests.test_create_lookup_tables(create_lookup_tables)"
   ]
  },
  {
   "cell_type": "markdown",
   "metadata": {
    "deletable": true,
    "editable": true
   },
   "source": [
    "### Tokenize Punctuation\n",
    "We'll be splitting the script into a word array using spaces as delimiters.  However, punctuations like periods and exclamation marks make it hard for the neural network to distinguish between the word \"bye\" and \"bye!\".\n",
    "\n",
    "Implement the function `token_lookup` to return a dict that will be used to tokenize symbols like \"!\" into \"||Exclamation_Mark||\".  Create a dictionary for the following symbols where the symbol is the key and value is the token:\n",
    "- Period ( . )\n",
    "- Comma ( , )\n",
    "- Quotation Mark ( \" )\n",
    "- Semicolon ( ; )\n",
    "- Exclamation mark ( ! )\n",
    "- Question mark ( ? )\n",
    "- Left Parentheses ( ( )\n",
    "- Right Parentheses ( ) )\n",
    "- Dash ( -- )\n",
    "- Return ( \\n )\n",
    "\n",
    "This dictionary will be used to token the symbols and add the delimiter (space) around it.  This separates the symbols as it's own word, making it easier for the neural network to predict on the next word. Make sure you don't use a token that could be confused as a word. Instead of using the token \"dash\", try using something like \"||dash||\"."
   ]
  },
  {
   "cell_type": "code",
   "execution_count": 44,
   "metadata": {
    "collapsed": false,
    "deletable": true,
    "editable": true
   },
   "outputs": [
    {
     "name": "stdout",
     "output_type": "stream",
     "text": [
      "Tests Passed\n"
     ]
    }
   ],
   "source": [
    "def token_lookup():\n",
    "    \"\"\"\n",
    "    Generate a dict to turn punctuation into a token.\n",
    "    :return: Tokenize dictionary where the key is the punctuation and the value is the token\n",
    "    \"\"\"\n",
    "    # TODO: Implement Function\n",
    "    return {\n",
    "        '.':'<PERIOD>',     \n",
    "        ',':'<COMMA>',\n",
    "        '\"': '<QUOTATION_MARK>',\n",
    "        ';': '<SEMICOLON>',\n",
    "        '!': '<EXCLAMATION_MARK>',\n",
    "        '?': '<QUESTION_MARK>',\n",
    "        '(': '<LEFT_PARENTHESES>',\n",
    "        ')': '<RIGHT_PARENTHESES>',\n",
    "        '--': '<DASH>',\n",
    "        '\\n': '<RETURN>'\n",
    "    }\n",
    "\n",
    "\"\"\"\n",
    "DON'T MODIFY ANYTHING IN THIS CELL THAT IS BELOW THIS LINE\n",
    "\"\"\"\n",
    "tests.test_tokenize(token_lookup)"
   ]
  },
  {
   "cell_type": "markdown",
   "metadata": {
    "deletable": true,
    "editable": true
   },
   "source": [
    "## Preprocess all the data and save it\n",
    "Running the code cell below will preprocess all the data and save it to file."
   ]
  },
  {
   "cell_type": "code",
   "execution_count": 45,
   "metadata": {
    "collapsed": false,
    "deletable": true,
    "editable": true
   },
   "outputs": [],
   "source": [
    "\"\"\"\n",
    "DON'T MODIFY ANYTHING IN THIS CELL\n",
    "\"\"\"\n",
    "# Preprocess Training, Validation, and Testing Data\n",
    "helper.preprocess_and_save_data(data_dir, token_lookup, create_lookup_tables)"
   ]
  },
  {
   "cell_type": "markdown",
   "metadata": {
    "deletable": true,
    "editable": true
   },
   "source": [
    "# Check Point\n",
    "This is your first checkpoint. If you ever decide to come back to this notebook or have to restart the notebook, you can start from here. The preprocessed data has been saved to disk."
   ]
  },
  {
   "cell_type": "code",
   "execution_count": 47,
   "metadata": {
    "collapsed": false,
    "deletable": true,
    "editable": true
   },
   "outputs": [],
   "source": [
    "\"\"\"\n",
    "DON'T MODIFY ANYTHING IN THIS CELL\n",
    "\"\"\"\n",
    "import helper\n",
    "import numpy as np\n",
    "import problem_unittests as tests\n",
    "\n",
    "int_text, vocab_to_int, int_to_vocab, token_dict = helper.load_preprocess()"
   ]
  },
  {
   "cell_type": "markdown",
   "metadata": {
    "deletable": true,
    "editable": true
   },
   "source": [
    "## Build the Neural Network\n",
    "You'll build the components necessary to build a RNN by implementing the following functions below:\n",
    "- get_inputs\n",
    "- get_init_cell\n",
    "- get_embed\n",
    "- build_rnn\n",
    "- build_nn\n",
    "- get_batches\n",
    "\n",
    "### Check the Version of TensorFlow and Access to GPU"
   ]
  },
  {
   "cell_type": "code",
   "execution_count": 48,
   "metadata": {
    "collapsed": false,
    "deletable": true,
    "editable": true
   },
   "outputs": [
    {
     "name": "stdout",
     "output_type": "stream",
     "text": [
      "TensorFlow Version: 1.0.0\n"
     ]
    },
    {
     "name": "stderr",
     "output_type": "stream",
     "text": [
      "/home/lwohlhart/anaconda3/envs/dlnd-p4/lib/python3.5/site-packages/ipykernel/__main__.py:14: UserWarning: No GPU found. Please use a GPU to train your neural network.\n"
     ]
    }
   ],
   "source": [
    "\"\"\"\n",
    "DON'T MODIFY ANYTHING IN THIS CELL\n",
    "\"\"\"\n",
    "from distutils.version import LooseVersion\n",
    "import warnings\n",
    "import tensorflow as tf\n",
    "\n",
    "# Check TensorFlow Version\n",
    "assert LooseVersion(tf.__version__) >= LooseVersion('1.0'), 'Please use TensorFlow version 1.0 or newer'\n",
    "print('TensorFlow Version: {}'.format(tf.__version__))\n",
    "\n",
    "# Check for a GPU\n",
    "if not tf.test.gpu_device_name():\n",
    "    warnings.warn('No GPU found. Please use a GPU to train your neural network.')\n",
    "else:\n",
    "    print('Default GPU Device: {}'.format(tf.test.gpu_device_name()))"
   ]
  },
  {
   "cell_type": "markdown",
   "metadata": {
    "deletable": true,
    "editable": true
   },
   "source": [
    "### Input\n",
    "Implement the `get_inputs()` function to create TF Placeholders for the Neural Network.  It should create the following placeholders:\n",
    "- Input text placeholder named \"input\" using the [TF Placeholder](https://www.tensorflow.org/api_docs/python/tf/placeholder) `name` parameter.\n",
    "- Targets placeholder\n",
    "- Learning Rate placeholder\n",
    "\n",
    "Return the placeholders in the following tuple `(Input, Targets, LearningRate)`"
   ]
  },
  {
   "cell_type": "code",
   "execution_count": 49,
   "metadata": {
    "collapsed": false,
    "deletable": true,
    "editable": true
   },
   "outputs": [
    {
     "name": "stdout",
     "output_type": "stream",
     "text": [
      "Tests Passed\n"
     ]
    }
   ],
   "source": [
    "def get_inputs():\n",
    "    \"\"\"\n",
    "    Create TF Placeholders for input, targets, and learning rate.\n",
    "    :return: Tuple (input, targets, learning rate)\n",
    "    \"\"\"\n",
    "    # TODO: Implement Function\n",
    "    input_ = tf.placeholder(tf.int32, (None, None), name=\"input\")\n",
    "    targets_ = tf.placeholder(tf.int32, (None, None), name=\"targets\")\n",
    "    learning_rate_ = tf.placeholder(tf.float32, name=\"learning_rate\")\n",
    "    return input_, targets_, learning_rate_\n",
    "\n",
    "\n",
    "\"\"\"\n",
    "DON'T MODIFY ANYTHING IN THIS CELL THAT IS BELOW THIS LINE\n",
    "\"\"\"\n",
    "tests.test_get_inputs(get_inputs)"
   ]
  },
  {
   "cell_type": "markdown",
   "metadata": {
    "deletable": true,
    "editable": true
   },
   "source": [
    "### Build RNN Cell and Initialize\n",
    "Stack one or more [`BasicLSTMCells`](https://www.tensorflow.org/api_docs/python/tf/contrib/rnn/BasicLSTMCell) in a [`MultiRNNCell`](https://www.tensorflow.org/api_docs/python/tf/contrib/rnn/MultiRNNCell).\n",
    "- The Rnn size should be set using `rnn_size`\n",
    "- Initalize Cell State using the MultiRNNCell's [`zero_state()`](https://www.tensorflow.org/api_docs/python/tf/contrib/rnn/MultiRNNCell#zero_state) function\n",
    "    - Apply the name \"initial_state\" to the initial state using [`tf.identity()`](https://www.tensorflow.org/api_docs/python/tf/identity)\n",
    "\n",
    "Return the cell and initial state in the following tuple `(Cell, InitialState)`"
   ]
  },
  {
   "cell_type": "code",
   "execution_count": 50,
   "metadata": {
    "collapsed": false,
    "deletable": true,
    "editable": true
   },
   "outputs": [
    {
     "name": "stdout",
     "output_type": "stream",
     "text": [
      "Tests Passed\n"
     ]
    }
   ],
   "source": [
    "def get_init_cell(batch_size, rnn_size):\n",
    "    \"\"\"\n",
    "    Create an RNN Cell and initialize it.\n",
    "    :param batch_size: Size of batches\n",
    "    :param rnn_size: Size of RNNs\n",
    "    :return: Tuple (cell, initialize state)\n",
    "    \"\"\"\n",
    "    # TODO: Implement Function\n",
    "    lstm = tf.contrib.rnn.BasicLSTMCell(rnn_size)\n",
    "    \n",
    "    cell = tf.contrib.rnn.MultiRNNCell([lstm])\n",
    "    \n",
    "    initial_state = tf.identity(cell.zero_state(batch_size, tf.float32), name='initial_state')\n",
    "    return cell, initial_state\n",
    "\n",
    "\n",
    "\"\"\"\n",
    "DON'T MODIFY ANYTHING IN THIS CELL THAT IS BELOW THIS LINE\n",
    "\"\"\"\n",
    "tests.test_get_init_cell(get_init_cell)"
   ]
  },
  {
   "cell_type": "markdown",
   "metadata": {
    "deletable": true,
    "editable": true
   },
   "source": [
    "### Word Embedding\n",
    "Apply embedding to `input_data` using TensorFlow.  Return the embedded sequence."
   ]
  },
  {
   "cell_type": "code",
   "execution_count": 51,
   "metadata": {
    "collapsed": false,
    "deletable": true,
    "editable": true
   },
   "outputs": [
    {
     "name": "stdout",
     "output_type": "stream",
     "text": [
      "Tests Passed\n"
     ]
    }
   ],
   "source": [
    "def get_embed(input_data, vocab_size, embed_dim):\n",
    "    \"\"\"\n",
    "    Create embedding for <input_data>.\n",
    "    :param input_data: TF placeholder for text input.\n",
    "    :param vocab_size: Number of words in vocabulary.\n",
    "    :param embed_dim: Number of embedding dimensions\n",
    "    :return: Embedded input.\n",
    "    \"\"\"\n",
    "    # TODO: Implement Function\n",
    "    embedding = tf.Variable(tf.truncated_normal((vocab_size, embed_dim), stddev=0.5), name=\"embedding\")\n",
    "    embed = tf.nn.embedding_lookup(embedding, input_data)\n",
    "    return embed\n",
    "\n",
    "\n",
    "\"\"\"\n",
    "DON'T MODIFY ANYTHING IN THIS CELL THAT IS BELOW THIS LINE\n",
    "\"\"\"\n",
    "tests.test_get_embed(get_embed)"
   ]
  },
  {
   "cell_type": "markdown",
   "metadata": {
    "deletable": true,
    "editable": true
   },
   "source": [
    "### Build RNN\n",
    "You created a RNN Cell in the `get_init_cell()` function.  Time to use the cell to create a RNN.\n",
    "- Build the RNN using the [`tf.nn.dynamic_rnn()`](https://www.tensorflow.org/api_docs/python/tf/nn/dynamic_rnn)\n",
    " - Apply the name \"final_state\" to the final state using [`tf.identity()`](https://www.tensorflow.org/api_docs/python/tf/identity)\n",
    "\n",
    "Return the outputs and final_state state in the following tuple `(Outputs, FinalState)` "
   ]
  },
  {
   "cell_type": "code",
   "execution_count": 52,
   "metadata": {
    "collapsed": false,
    "deletable": true,
    "editable": true
   },
   "outputs": [
    {
     "name": "stdout",
     "output_type": "stream",
     "text": [
      "Tests Passed\n"
     ]
    }
   ],
   "source": [
    "def build_rnn(cell, inputs):\n",
    "    \"\"\"\n",
    "    Create a RNN using a RNN Cell\n",
    "    :param cell: RNN Cell\n",
    "    :param inputs: Input text data\n",
    "    :return: Tuple (Outputs, Final State)\n",
    "    \"\"\"\n",
    "    # TODO: Implement Function\n",
    "    outputs, final_state = tf.nn.dynamic_rnn(cell, inputs, dtype=tf.float32)\n",
    "    final_state = tf.identity(final_state, name=\"final_state\")\n",
    "    return outputs, final_state\n",
    "\n",
    "\n",
    "\"\"\"\n",
    "DON'T MODIFY ANYTHING IN THIS CELL THAT IS BELOW THIS LINE\n",
    "\"\"\"\n",
    "tests.test_build_rnn(build_rnn)"
   ]
  },
  {
   "cell_type": "markdown",
   "metadata": {
    "deletable": true,
    "editable": true
   },
   "source": [
    "### Build the Neural Network\n",
    "Apply the functions you implemented above to:\n",
    "- Apply embedding to `input_data` using your `get_embed(input_data, vocab_size, embed_dim)` function.\n",
    "- Build RNN using `cell` and your `build_rnn(cell, inputs)` function.\n",
    "- Apply a fully connected layer with a linear activation and `vocab_size` as the number of outputs.\n",
    "\n",
    "Return the logits and final state in the following tuple (Logits, FinalState) "
   ]
  },
  {
   "cell_type": "code",
   "execution_count": 53,
   "metadata": {
    "collapsed": false,
    "deletable": true,
    "editable": true
   },
   "outputs": [
    {
     "name": "stdout",
     "output_type": "stream",
     "text": [
      "Tests Passed\n"
     ]
    }
   ],
   "source": [
    "def build_nn(cell, rnn_size, input_data, vocab_size, embed_dim):\n",
    "    \"\"\"\n",
    "    Build part of the neural network\n",
    "    :param cell: RNN cell\n",
    "    :param rnn_size: Size of rnns\n",
    "    :param input_data: Input data\n",
    "    :param vocab_size: Vocabulary size\n",
    "    :param embed_dim: Number of embedding dimensions\n",
    "    :return: Tuple (Logits, FinalState)\n",
    "    \"\"\"\n",
    "    # TODO: Implement Function\n",
    "    embed = get_embed(input_data, vocab_size, embed_dim)\n",
    "    outputs, final_state = build_rnn(cell, embed)    \n",
    "    logits = tf.contrib.layers.fully_connected(outputs, vocab_size, activation_fn=None)    \n",
    "    return logits, final_state\n",
    "\n",
    "\n",
    "\"\"\"\n",
    "DON'T MODIFY ANYTHING IN THIS CELL THAT IS BELOW THIS LINE\n",
    "\"\"\"\n",
    "tests.test_build_nn(build_nn)"
   ]
  },
  {
   "cell_type": "markdown",
   "metadata": {
    "deletable": true,
    "editable": true
   },
   "source": [
    "### Batches\n",
    "Implement `get_batches` to create batches of input and targets using `int_text`.  The batches should be a Numpy array with the shape `(number of batches, 2, batch size, sequence length)`. Each batch contains two elements:\n",
    "- The first element is a single batch of **input** with the shape `[batch size, sequence length]`\n",
    "- The second element is a single batch of **targets** with the shape `[batch size, sequence length]`\n",
    "\n",
    "If you can't fill the last batch with enough data, drop the last batch.\n",
    "\n",
    "For exmple, `get_batches([1, 2, 3, 4, 5, 6, 7, 8, 9, 10, 11, 12, 13, 14, 15, 16, 17, 18, 19, 20], 3, 2)` would return a Numpy array of the following:\n",
    "```\n",
    "[\n",
    "  # First Batch\n",
    "  [\n",
    "    # Batch of Input\n",
    "    [[ 1  2], [ 7  8], [13 14]]\n",
    "    # Batch of targets\n",
    "    [[ 2  3], [ 8  9], [14 15]]\n",
    "  ]\n",
    "\n",
    "  # Second Batch\n",
    "  [\n",
    "    # Batch of Input\n",
    "    [[ 3  4], [ 9 10], [15 16]]\n",
    "    # Batch of targets\n",
    "    [[ 4  5], [10 11], [16 17]]\n",
    "  ]\n",
    "\n",
    "  # Third Batch\n",
    "  [\n",
    "    # Batch of Input\n",
    "    [[ 5  6], [11 12], [17 18]]\n",
    "    # Batch of targets\n",
    "    [[ 6  7], [12 13], [18  1]]\n",
    "  ]\n",
    "]\n",
    "```\n",
    "\n",
    "Notice that the last target value in the last batch is the first input value of the first batch. In this case, `1`. This is a common technique used when creating sequence batches, although it is rather unintuitive."
   ]
  },
  {
   "cell_type": "code",
   "execution_count": 54,
   "metadata": {
    "collapsed": false,
    "deletable": true,
    "editable": true
   },
   "outputs": [
    {
     "name": "stdout",
     "output_type": "stream",
     "text": [
      "5000 1000 7 4480\n",
      "Tests Passed\n"
     ]
    }
   ],
   "source": [
    "def get_batches(int_text, batch_size, seq_length):\n",
    "    \"\"\"\n",
    "    Return batches of input and target\n",
    "    :param int_text: Text with the words replaced by their ids\n",
    "    :param batch_size: The size of batch\n",
    "    :param seq_length: The length of sequence\n",
    "    :return: Batches as a Numpy array\n",
    "    \"\"\"\n",
    "    # TODO: Implement Function\n",
    "    batches = []\n",
    "    text_length = len(int_text)\n",
    "    seq_count = text_length // seq_length\n",
    "    num_batches = seq_count // batch_size\n",
    "    int_text = np.array(int_text[:num_batches * batch_size * seq_length])    \n",
    "    batches = np.zeros((num_batches, 2, batch_size, seq_length))\n",
    "        \n",
    "    for batch_id in range(0, num_batches):\n",
    "        for seq_id in range(0, batch_size):\n",
    "            seq_start = (batch_id + seq_id * num_batches) * seq_length\n",
    "            seq_indices = np.arange(seq_start, seq_start+seq_length)                        \n",
    "            batches[batch_id, 0, seq_id, :] = int_text.take(seq_indices  , mode=\"wrap\")\n",
    "            batches[batch_id, 1, seq_id, :] = int_text.take(seq_indices+1, mode=\"wrap\")\n",
    "            \n",
    "    return batches     \n",
    "\n",
    "\n",
    "\"\"\"\n",
    "DON'T MODIFY ANYTHING IN THIS CELL THAT IS BELOW THIS LINE\n",
    "\"\"\"\n",
    "tests.test_get_batches(get_batches)"
   ]
  },
  {
   "cell_type": "markdown",
   "metadata": {
    "deletable": true,
    "editable": true
   },
   "source": [
    "## Neural Network Training\n",
    "### Hyperparameters\n",
    "Tune the following parameters:\n",
    "\n",
    "- Set `num_epochs` to the number of epochs.\n",
    "- Set `batch_size` to the batch size.\n",
    "- Set `rnn_size` to the size of the RNNs.\n",
    "- Set `embed_dim` to the size of the embedding.\n",
    "- Set `seq_length` to the length of sequence.\n",
    "- Set `learning_rate` to the learning rate.\n",
    "- Set `show_every_n_batches` to the number of batches the neural network should print progress."
   ]
  },
  {
   "cell_type": "code",
   "execution_count": 58,
   "metadata": {
    "collapsed": true,
    "deletable": true,
    "editable": true
   },
   "outputs": [],
   "source": [
    "# Number of Epochs\n",
    "num_epochs = 100\n",
    "# Batch Size\n",
    "batch_size = 128\n",
    "# RNN Size\n",
    "rnn_size = 256\n",
    "# Embedding Dimension Size\n",
    "embed_dim = 200\n",
    "# Sequence Length\n",
    "seq_length = 10\n",
    "# Learning Rate\n",
    "learning_rate = 0.001\n",
    "# Show stats for every n number of batches\n",
    "show_every_n_batches = 10\n",
    "\n",
    "\"\"\"\n",
    "DON'T MODIFY ANYTHING IN THIS CELL THAT IS BELOW THIS LINE\n",
    "\"\"\"\n",
    "save_dir = './save'"
   ]
  },
  {
   "cell_type": "markdown",
   "metadata": {
    "deletable": true,
    "editable": true
   },
   "source": [
    "### Build the Graph\n",
    "Build the graph using the neural network you implemented."
   ]
  },
  {
   "cell_type": "code",
   "execution_count": 59,
   "metadata": {
    "collapsed": false,
    "deletable": true,
    "editable": true
   },
   "outputs": [],
   "source": [
    "\"\"\"\n",
    "DON'T MODIFY ANYTHING IN THIS CELL\n",
    "\"\"\"\n",
    "from tensorflow.contrib import seq2seq\n",
    "\n",
    "train_graph = tf.Graph()\n",
    "with train_graph.as_default():\n",
    "    vocab_size = len(int_to_vocab)\n",
    "    input_text, targets, lr = get_inputs()\n",
    "    input_data_shape = tf.shape(input_text)\n",
    "    cell, initial_state = get_init_cell(input_data_shape[0], rnn_size)\n",
    "    logits, final_state = build_nn(cell, rnn_size, input_text, vocab_size, embed_dim)\n",
    "\n",
    "    # Probabilities for generating words\n",
    "    probs = tf.nn.softmax(logits, name='probs')\n",
    "\n",
    "    # Loss function\n",
    "    cost = seq2seq.sequence_loss(\n",
    "        logits,\n",
    "        targets,\n",
    "        tf.ones([input_data_shape[0], input_data_shape[1]]))\n",
    "\n",
    "    # Optimizer\n",
    "    optimizer = tf.train.AdamOptimizer(lr)\n",
    "\n",
    "    # Gradient Clipping\n",
    "    gradients = optimizer.compute_gradients(cost)\n",
    "    capped_gradients = [(tf.clip_by_value(grad, -1., 1.), var) for grad, var in gradients if grad is not None]\n",
    "    train_op = optimizer.apply_gradients(capped_gradients)"
   ]
  },
  {
   "cell_type": "markdown",
   "metadata": {
    "deletable": true,
    "editable": true
   },
   "source": [
    "## Train\n",
    "Train the neural network on the preprocessed data.  If you have a hard time getting a good loss, check the [forums](https://discussions.udacity.com/) to see if anyone is having the same problem."
   ]
  },
  {
   "cell_type": "code",
   "execution_count": 60,
   "metadata": {
    "collapsed": false,
    "deletable": true,
    "editable": true
   },
   "outputs": [
    {
     "name": "stdout",
     "output_type": "stream",
     "text": [
      "69100 6910 53 67840\n",
      "Epoch   0 Batch    0/53   train_loss = 8.821\n",
      "Epoch   0 Batch   10/53   train_loss = 8.155\n",
      "Epoch   0 Batch   20/53   train_loss = 6.864\n",
      "Epoch   0 Batch   30/53   train_loss = 6.773\n",
      "Epoch   0 Batch   40/53   train_loss = 6.648\n",
      "Epoch   0 Batch   50/53   train_loss = 6.411\n",
      "Epoch   1 Batch    7/53   train_loss = 6.368\n",
      "Epoch   1 Batch   17/53   train_loss = 6.072\n",
      "Epoch   1 Batch   27/53   train_loss = 6.062\n",
      "Epoch   1 Batch   37/53   train_loss = 5.900\n",
      "Epoch   1 Batch   47/53   train_loss = 5.840\n",
      "Epoch   2 Batch    4/53   train_loss = 5.778\n",
      "Epoch   2 Batch   14/53   train_loss = 5.795\n",
      "Epoch   2 Batch   24/53   train_loss = 5.767\n",
      "Epoch   2 Batch   34/53   train_loss = 5.655\n",
      "Epoch   2 Batch   44/53   train_loss = 5.617\n",
      "Epoch   3 Batch    1/53   train_loss = 5.542\n",
      "Epoch   3 Batch   11/53   train_loss = 5.397\n",
      "Epoch   3 Batch   21/53   train_loss = 5.670\n",
      "Epoch   3 Batch   31/53   train_loss = 5.367\n",
      "Epoch   3 Batch   41/53   train_loss = 5.286\n",
      "Epoch   3 Batch   51/53   train_loss = 5.410\n",
      "Epoch   4 Batch    8/53   train_loss = 5.210\n",
      "Epoch   4 Batch   18/53   train_loss = 5.282\n",
      "Epoch   4 Batch   28/53   train_loss = 5.112\n",
      "Epoch   4 Batch   38/53   train_loss = 5.097\n",
      "Epoch   4 Batch   48/53   train_loss = 5.255\n",
      "Epoch   5 Batch    5/53   train_loss = 5.140\n",
      "Epoch   5 Batch   15/53   train_loss = 5.175\n",
      "Epoch   5 Batch   25/53   train_loss = 5.187\n",
      "Epoch   5 Batch   35/53   train_loss = 5.062\n",
      "Epoch   5 Batch   45/53   train_loss = 4.833\n",
      "Epoch   6 Batch    2/53   train_loss = 4.880\n",
      "Epoch   6 Batch   12/53   train_loss = 4.897\n",
      "Epoch   6 Batch   22/53   train_loss = 4.863\n",
      "Epoch   6 Batch   32/53   train_loss = 4.928\n",
      "Epoch   6 Batch   42/53   train_loss = 4.864\n",
      "Epoch   6 Batch   52/53   train_loss = 4.734\n",
      "Epoch   7 Batch    9/53   train_loss = 4.994\n",
      "Epoch   7 Batch   19/53   train_loss = 4.607\n",
      "Epoch   7 Batch   29/53   train_loss = 4.908\n",
      "Epoch   7 Batch   39/53   train_loss = 4.772\n",
      "Epoch   7 Batch   49/53   train_loss = 4.701\n",
      "Epoch   8 Batch    6/53   train_loss = 4.621\n",
      "Epoch   8 Batch   16/53   train_loss = 4.683\n",
      "Epoch   8 Batch   26/53   train_loss = 4.918\n",
      "Epoch   8 Batch   36/53   train_loss = 4.577\n",
      "Epoch   8 Batch   46/53   train_loss = 4.671\n",
      "Epoch   9 Batch    3/53   train_loss = 4.515\n",
      "Epoch   9 Batch   13/53   train_loss = 4.606\n",
      "Epoch   9 Batch   23/53   train_loss = 4.737\n",
      "Epoch   9 Batch   33/53   train_loss = 4.606\n",
      "Epoch   9 Batch   43/53   train_loss = 4.446\n",
      "Epoch  10 Batch    0/53   train_loss = 4.706\n",
      "Epoch  10 Batch   10/53   train_loss = 4.494\n",
      "Epoch  10 Batch   20/53   train_loss = 4.712\n",
      "Epoch  10 Batch   30/53   train_loss = 4.637\n",
      "Epoch  10 Batch   40/53   train_loss = 4.575\n",
      "Epoch  10 Batch   50/53   train_loss = 4.494\n",
      "Epoch  11 Batch    7/53   train_loss = 4.594\n",
      "Epoch  11 Batch   17/53   train_loss = 4.475\n",
      "Epoch  11 Batch   27/53   train_loss = 4.488\n",
      "Epoch  11 Batch   37/53   train_loss = 4.352\n",
      "Epoch  11 Batch   47/53   train_loss = 4.316\n",
      "Epoch  12 Batch    4/53   train_loss = 4.346\n",
      "Epoch  12 Batch   14/53   train_loss = 4.348\n",
      "Epoch  12 Batch   24/53   train_loss = 4.398\n",
      "Epoch  12 Batch   34/53   train_loss = 4.323\n",
      "Epoch  12 Batch   44/53   train_loss = 4.280\n",
      "Epoch  13 Batch    1/53   train_loss = 4.289\n",
      "Epoch  13 Batch   11/53   train_loss = 4.181\n",
      "Epoch  13 Batch   21/53   train_loss = 4.435\n",
      "Epoch  13 Batch   31/53   train_loss = 4.149\n",
      "Epoch  13 Batch   41/53   train_loss = 4.139\n",
      "Epoch  13 Batch   51/53   train_loss = 4.254\n",
      "Epoch  14 Batch    8/53   train_loss = 4.140\n",
      "Epoch  14 Batch   18/53   train_loss = 4.237\n",
      "Epoch  14 Batch   28/53   train_loss = 4.091\n",
      "Epoch  14 Batch   38/53   train_loss = 4.056\n",
      "Epoch  14 Batch   48/53   train_loss = 4.217\n",
      "Epoch  15 Batch    5/53   train_loss = 4.143\n",
      "Epoch  15 Batch   15/53   train_loss = 4.236\n",
      "Epoch  15 Batch   25/53   train_loss = 4.214\n",
      "Epoch  15 Batch   35/53   train_loss = 4.081\n",
      "Epoch  15 Batch   45/53   train_loss = 3.939\n",
      "Epoch  16 Batch    2/53   train_loss = 3.969\n",
      "Epoch  16 Batch   12/53   train_loss = 3.956\n",
      "Epoch  16 Batch   22/53   train_loss = 3.995\n",
      "Epoch  16 Batch   32/53   train_loss = 4.012\n",
      "Epoch  16 Batch   42/53   train_loss = 3.952\n",
      "Epoch  16 Batch   52/53   train_loss = 3.917\n",
      "Epoch  17 Batch    9/53   train_loss = 4.074\n",
      "Epoch  17 Batch   19/53   train_loss = 3.847\n",
      "Epoch  17 Batch   29/53   train_loss = 4.042\n",
      "Epoch  17 Batch   39/53   train_loss = 3.937\n",
      "Epoch  17 Batch   49/53   train_loss = 3.910\n",
      "Epoch  18 Batch    6/53   train_loss = 3.834\n",
      "Epoch  18 Batch   16/53   train_loss = 3.895\n",
      "Epoch  18 Batch   26/53   train_loss = 4.077\n",
      "Epoch  18 Batch   36/53   train_loss = 3.836\n",
      "Epoch  18 Batch   46/53   train_loss = 3.868\n",
      "Epoch  19 Batch    3/53   train_loss = 3.759\n",
      "Epoch  19 Batch   13/53   train_loss = 3.894\n",
      "Epoch  19 Batch   23/53   train_loss = 3.978\n",
      "Epoch  19 Batch   33/53   train_loss = 3.851\n",
      "Epoch  19 Batch   43/53   train_loss = 3.733\n",
      "Epoch  20 Batch    0/53   train_loss = 3.879\n",
      "Epoch  20 Batch   10/53   train_loss = 3.757\n",
      "Epoch  20 Batch   20/53   train_loss = 3.923\n",
      "Epoch  20 Batch   30/53   train_loss = 3.884\n",
      "Epoch  20 Batch   40/53   train_loss = 3.854\n",
      "Epoch  20 Batch   50/53   train_loss = 3.803\n",
      "Epoch  21 Batch    7/53   train_loss = 3.851\n",
      "Epoch  21 Batch   17/53   train_loss = 3.711\n",
      "Epoch  21 Batch   27/53   train_loss = 3.774\n",
      "Epoch  21 Batch   37/53   train_loss = 3.704\n",
      "Epoch  21 Batch   47/53   train_loss = 3.664\n",
      "Epoch  22 Batch    4/53   train_loss = 3.677\n",
      "Epoch  22 Batch   14/53   train_loss = 3.647\n",
      "Epoch  22 Batch   24/53   train_loss = 3.693\n",
      "Epoch  22 Batch   34/53   train_loss = 3.660\n",
      "Epoch  22 Batch   44/53   train_loss = 3.662\n",
      "Epoch  23 Batch    1/53   train_loss = 3.601\n",
      "Epoch  23 Batch   11/53   train_loss = 3.543\n",
      "Epoch  23 Batch   21/53   train_loss = 3.665\n",
      "Epoch  23 Batch   31/53   train_loss = 3.502\n",
      "Epoch  23 Batch   41/53   train_loss = 3.527\n",
      "Epoch  23 Batch   51/53   train_loss = 3.603\n",
      "Epoch  24 Batch    8/53   train_loss = 3.505\n",
      "Epoch  24 Batch   18/53   train_loss = 3.569\n",
      "Epoch  24 Batch   28/53   train_loss = 3.443\n",
      "Epoch  24 Batch   38/53   train_loss = 3.457\n",
      "Epoch  24 Batch   48/53   train_loss = 3.510\n",
      "Epoch  25 Batch    5/53   train_loss = 3.520\n",
      "Epoch  25 Batch   15/53   train_loss = 3.587\n",
      "Epoch  25 Batch   25/53   train_loss = 3.580\n",
      "Epoch  25 Batch   35/53   train_loss = 3.473\n",
      "Epoch  25 Batch   45/53   train_loss = 3.358\n",
      "Epoch  26 Batch    2/53   train_loss = 3.396\n",
      "Epoch  26 Batch   12/53   train_loss = 3.365\n",
      "Epoch  26 Batch   22/53   train_loss = 3.423\n",
      "Epoch  26 Batch   32/53   train_loss = 3.396\n",
      "Epoch  26 Batch   42/53   train_loss = 3.318\n",
      "Epoch  26 Batch   52/53   train_loss = 3.359\n",
      "Epoch  27 Batch    9/53   train_loss = 3.393\n",
      "Epoch  27 Batch   19/53   train_loss = 3.327\n",
      "Epoch  27 Batch   29/53   train_loss = 3.392\n",
      "Epoch  27 Batch   39/53   train_loss = 3.322\n",
      "Epoch  27 Batch   49/53   train_loss = 3.344\n",
      "Epoch  28 Batch    6/53   train_loss = 3.237\n",
      "Epoch  28 Batch   16/53   train_loss = 3.294\n",
      "Epoch  28 Batch   26/53   train_loss = 3.420\n",
      "Epoch  28 Batch   36/53   train_loss = 3.285\n",
      "Epoch  28 Batch   46/53   train_loss = 3.272\n",
      "Epoch  29 Batch    3/53   train_loss = 3.200\n",
      "Epoch  29 Batch   13/53   train_loss = 3.322\n",
      "Epoch  29 Batch   23/53   train_loss = 3.371\n",
      "Epoch  29 Batch   33/53   train_loss = 3.263\n",
      "Epoch  29 Batch   43/53   train_loss = 3.192\n",
      "Epoch  30 Batch    0/53   train_loss = 3.225\n",
      "Epoch  30 Batch   10/53   train_loss = 3.145\n",
      "Epoch  30 Batch   20/53   train_loss = 3.281\n",
      "Epoch  30 Batch   30/53   train_loss = 3.270\n",
      "Epoch  30 Batch   40/53   train_loss = 3.248\n",
      "Epoch  30 Batch   50/53   train_loss = 3.231\n",
      "Epoch  31 Batch    7/53   train_loss = 3.235\n",
      "Epoch  31 Batch   17/53   train_loss = 3.070\n",
      "Epoch  31 Batch   27/53   train_loss = 3.204\n",
      "Epoch  31 Batch   37/53   train_loss = 3.165\n",
      "Epoch  31 Batch   47/53   train_loss = 3.134\n",
      "Epoch  32 Batch    4/53   train_loss = 3.106\n",
      "Epoch  32 Batch   14/53   train_loss = 3.059\n",
      "Epoch  32 Batch   24/53   train_loss = 3.071\n",
      "Epoch  32 Batch   34/53   train_loss = 3.101\n",
      "Epoch  32 Batch   44/53   train_loss = 3.121\n",
      "Epoch  33 Batch    1/53   train_loss = 2.986\n",
      "Epoch  33 Batch   11/53   train_loss = 3.017\n",
      "Epoch  33 Batch   21/53   train_loss = 3.022\n",
      "Epoch  33 Batch   31/53   train_loss = 2.981\n",
      "Epoch  33 Batch   41/53   train_loss = 3.017\n",
      "Epoch  33 Batch   51/53   train_loss = 3.042\n",
      "Epoch  34 Batch    8/53   train_loss = 2.956\n",
      "Epoch  34 Batch   18/53   train_loss = 3.025\n",
      "Epoch  34 Batch   28/53   train_loss = 2.915\n",
      "Epoch  34 Batch   38/53   train_loss = 2.954\n",
      "Epoch  34 Batch   48/53   train_loss = 2.934\n",
      "Epoch  35 Batch    5/53   train_loss = 2.998\n",
      "Epoch  35 Batch   15/53   train_loss = 3.042\n",
      "Epoch  35 Batch   25/53   train_loss = 3.057\n",
      "Epoch  35 Batch   35/53   train_loss = 2.940\n",
      "Epoch  35 Batch   45/53   train_loss = 2.903\n",
      "Epoch  36 Batch    2/53   train_loss = 2.918\n",
      "Epoch  36 Batch   12/53   train_loss = 2.878\n",
      "Epoch  36 Batch   22/53   train_loss = 2.930\n",
      "Epoch  36 Batch   32/53   train_loss = 2.877\n",
      "Epoch  36 Batch   42/53   train_loss = 2.798\n",
      "Epoch  36 Batch   52/53   train_loss = 2.896\n",
      "Epoch  37 Batch    9/53   train_loss = 2.843\n",
      "Epoch  37 Batch   19/53   train_loss = 2.867\n",
      "Epoch  37 Batch   29/53   train_loss = 2.840\n",
      "Epoch  37 Batch   39/53   train_loss = 2.793\n",
      "Epoch  37 Batch   49/53   train_loss = 2.864\n",
      "Epoch  38 Batch    6/53   train_loss = 2.742\n",
      "Epoch  38 Batch   16/53   train_loss = 2.801\n",
      "Epoch  38 Batch   26/53   train_loss = 2.838\n",
      "Epoch  38 Batch   36/53   train_loss = 2.811\n",
      "Epoch  38 Batch   46/53   train_loss = 2.774\n",
      "Epoch  39 Batch    3/53   train_loss = 2.728\n",
      "Epoch  39 Batch   13/53   train_loss = 2.843\n",
      "Epoch  39 Batch   23/53   train_loss = 2.841\n",
      "Epoch  39 Batch   33/53   train_loss = 2.774\n",
      "Epoch  39 Batch   43/53   train_loss = 2.757\n",
      "Epoch  40 Batch    0/53   train_loss = 2.702\n",
      "Epoch  40 Batch   10/53   train_loss = 2.630\n",
      "Epoch  40 Batch   20/53   train_loss = 2.770\n",
      "Epoch  40 Batch   30/53   train_loss = 2.754\n",
      "Epoch  40 Batch   40/53   train_loss = 2.735\n",
      "Epoch  40 Batch   50/53   train_loss = 2.758\n",
      "Epoch  41 Batch    7/53   train_loss = 2.709\n",
      "Epoch  41 Batch   17/53   train_loss = 2.581\n",
      "Epoch  41 Batch   27/53   train_loss = 2.721\n",
      "Epoch  41 Batch   37/53   train_loss = 2.704\n",
      "Epoch  41 Batch   47/53   train_loss = 2.690\n",
      "Epoch  42 Batch    4/53   train_loss = 2.631\n",
      "Epoch  42 Batch   14/53   train_loss = 2.582\n",
      "Epoch  42 Batch   24/53   train_loss = 2.561\n",
      "Epoch  42 Batch   34/53   train_loss = 2.633\n",
      "Epoch  42 Batch   44/53   train_loss = 2.686\n",
      "Epoch  43 Batch    1/53   train_loss = 2.508\n",
      "Epoch  43 Batch   11/53   train_loss = 2.572\n",
      "Epoch  43 Batch   21/53   train_loss = 2.479\n",
      "Epoch  43 Batch   31/53   train_loss = 2.537\n",
      "Epoch  43 Batch   41/53   train_loss = 2.577\n",
      "Epoch  43 Batch   51/53   train_loss = 2.570\n",
      "Epoch  44 Batch    8/53   train_loss = 2.483\n",
      "Epoch  44 Batch   18/53   train_loss = 2.579\n",
      "Epoch  44 Batch   28/53   train_loss = 2.485\n",
      "Epoch  44 Batch   38/53   train_loss = 2.522\n",
      "Epoch  44 Batch   48/53   train_loss = 2.466\n",
      "Epoch  45 Batch    5/53   train_loss = 2.568\n",
      "Epoch  45 Batch   15/53   train_loss = 2.556\n",
      "Epoch  45 Batch   25/53   train_loss = 2.626\n",
      "Epoch  45 Batch   35/53   train_loss = 2.507\n",
      "Epoch  45 Batch   45/53   train_loss = 2.528\n",
      "Epoch  46 Batch    2/53   train_loss = 2.506\n",
      "Epoch  46 Batch   12/53   train_loss = 2.452\n",
      "Epoch  46 Batch   22/53   train_loss = 2.498\n",
      "Epoch  46 Batch   32/53   train_loss = 2.438\n",
      "Epoch  46 Batch   42/53   train_loss = 2.370\n",
      "Epoch  46 Batch   52/53   train_loss = 2.498\n",
      "Epoch  47 Batch    9/53   train_loss = 2.376\n",
      "Epoch  47 Batch   19/53   train_loss = 2.465\n",
      "Epoch  47 Batch   29/53   train_loss = 2.400\n",
      "Epoch  47 Batch   39/53   train_loss = 2.371\n",
      "Epoch  47 Batch   49/53   train_loss = 2.471\n",
      "Epoch  48 Batch    6/53   train_loss = 2.352\n",
      "Epoch  48 Batch   16/53   train_loss = 2.395\n",
      "Epoch  48 Batch   26/53   train_loss = 2.363\n",
      "Epoch  48 Batch   36/53   train_loss = 2.424\n",
      "Epoch  48 Batch   46/53   train_loss = 2.388\n",
      "Epoch  49 Batch    3/53   train_loss = 2.343\n",
      "Epoch  49 Batch   13/53   train_loss = 2.433\n",
      "Epoch  49 Batch   23/53   train_loss = 2.417\n",
      "Epoch  49 Batch   33/53   train_loss = 2.378\n",
      "Epoch  49 Batch   43/53   train_loss = 2.377\n",
      "Epoch  50 Batch    0/53   train_loss = 2.297\n",
      "Epoch  50 Batch   10/53   train_loss = 2.232\n",
      "Epoch  50 Batch   20/53   train_loss = 2.363\n",
      "Epoch  50 Batch   30/53   train_loss = 2.360\n",
      "Epoch  50 Batch   40/53   train_loss = 2.318\n",
      "Epoch  50 Batch   50/53   train_loss = 2.365\n",
      "Epoch  51 Batch    7/53   train_loss = 2.319\n",
      "Epoch  51 Batch   17/53   train_loss = 2.187\n",
      "Epoch  51 Batch   27/53   train_loss = 2.340\n",
      "Epoch  51 Batch   37/53   train_loss = 2.335\n",
      "Epoch  51 Batch   47/53   train_loss = 2.306\n",
      "Epoch  52 Batch    4/53   train_loss = 2.257\n",
      "Epoch  52 Batch   14/53   train_loss = 2.197\n",
      "Epoch  52 Batch   24/53   train_loss = 2.148\n",
      "Epoch  52 Batch   34/53   train_loss = 2.252\n",
      "Epoch  52 Batch   44/53   train_loss = 2.301\n",
      "Epoch  53 Batch    1/53   train_loss = 2.129\n",
      "Epoch  53 Batch   11/53   train_loss = 2.205\n",
      "Epoch  53 Batch   21/53   train_loss = 2.069\n",
      "Epoch  53 Batch   31/53   train_loss = 2.178\n",
      "Epoch  53 Batch   41/53   train_loss = 2.208\n",
      "Epoch  53 Batch   51/53   train_loss = 2.151\n",
      "Epoch  54 Batch    8/53   train_loss = 2.113\n",
      "Epoch  54 Batch   18/53   train_loss = 2.189\n",
      "Epoch  54 Batch   28/53   train_loss = 2.148\n",
      "Epoch  54 Batch   38/53   train_loss = 2.214\n",
      "Epoch  54 Batch   48/53   train_loss = 2.090\n",
      "Epoch  55 Batch    5/53   train_loss = 2.221\n",
      "Epoch  55 Batch   15/53   train_loss = 2.193\n",
      "Epoch  55 Batch   25/53   train_loss = 2.240\n",
      "Epoch  55 Batch   35/53   train_loss = 2.172\n",
      "Epoch  55 Batch   45/53   train_loss = 2.207\n",
      "Epoch  56 Batch    2/53   train_loss = 2.172\n",
      "Epoch  56 Batch   12/53   train_loss = 2.133\n",
      "Epoch  56 Batch   22/53   train_loss = 2.152\n",
      "Epoch  56 Batch   32/53   train_loss = 2.092\n",
      "Epoch  56 Batch   42/53   train_loss = 2.043\n",
      "Epoch  56 Batch   52/53   train_loss = 2.138\n",
      "Epoch  57 Batch    9/53   train_loss = 2.021\n",
      "Epoch  57 Batch   19/53   train_loss = 2.134\n",
      "Epoch  57 Batch   29/53   train_loss = 2.046\n",
      "Epoch  57 Batch   39/53   train_loss = 2.039\n",
      "Epoch  57 Batch   49/53   train_loss = 2.113\n",
      "Epoch  58 Batch    6/53   train_loss = 2.037\n",
      "Epoch  58 Batch   16/53   train_loss = 2.070\n",
      "Epoch  58 Batch   26/53   train_loss = 1.972\n",
      "Epoch  58 Batch   36/53   train_loss = 2.118\n",
      "Epoch  58 Batch   46/53   train_loss = 2.074\n",
      "Epoch  59 Batch    3/53   train_loss = 1.999\n",
      "Epoch  59 Batch   13/53   train_loss = 2.104\n",
      "Epoch  59 Batch   23/53   train_loss = 2.044\n",
      "Epoch  59 Batch   33/53   train_loss = 2.036\n",
      "Epoch  59 Batch   43/53   train_loss = 2.063\n",
      "Epoch  60 Batch    0/53   train_loss = 1.939\n",
      "Epoch  60 Batch   10/53   train_loss = 1.920\n",
      "Epoch  60 Batch   20/53   train_loss = 2.003\n",
      "Epoch  60 Batch   30/53   train_loss = 2.030\n",
      "Epoch  60 Batch   40/53   train_loss = 1.986\n",
      "Epoch  60 Batch   50/53   train_loss = 2.029\n",
      "Epoch  61 Batch    7/53   train_loss = 1.953\n",
      "Epoch  61 Batch   17/53   train_loss = 1.855\n",
      "Epoch  61 Batch   27/53   train_loss = 2.010\n",
      "Epoch  61 Batch   37/53   train_loss = 1.994\n",
      "Epoch  61 Batch   47/53   train_loss = 1.950\n",
      "Epoch  62 Batch    4/53   train_loss = 1.935\n",
      "Epoch  62 Batch   14/53   train_loss = 1.875\n",
      "Epoch  62 Batch   24/53   train_loss = 1.810\n",
      "Epoch  62 Batch   34/53   train_loss = 1.915\n",
      "Epoch  62 Batch   44/53   train_loss = 1.979\n",
      "Epoch  63 Batch    1/53   train_loss = 1.816\n",
      "Epoch  63 Batch   11/53   train_loss = 1.882\n",
      "Epoch  63 Batch   21/53   train_loss = 1.722\n",
      "Epoch  63 Batch   31/53   train_loss = 1.866\n",
      "Epoch  63 Batch   41/53   train_loss = 1.869\n",
      "Epoch  63 Batch   51/53   train_loss = 1.820\n",
      "Epoch  64 Batch    8/53   train_loss = 1.805\n",
      "Epoch  64 Batch   18/53   train_loss = 1.880\n",
      "Epoch  64 Batch   28/53   train_loss = 1.860\n",
      "Epoch  64 Batch   38/53   train_loss = 1.890\n",
      "Epoch  64 Batch   48/53   train_loss = 1.761\n",
      "Epoch  65 Batch    5/53   train_loss = 1.898\n",
      "Epoch  65 Batch   15/53   train_loss = 1.854\n",
      "Epoch  65 Batch   25/53   train_loss = 1.910\n",
      "Epoch  65 Batch   35/53   train_loss = 1.855\n",
      "Epoch  65 Batch   45/53   train_loss = 1.886\n",
      "Epoch  66 Batch    2/53   train_loss = 1.827\n",
      "Epoch  66 Batch   12/53   train_loss = 1.840\n",
      "Epoch  66 Batch   22/53   train_loss = 1.836\n",
      "Epoch  66 Batch   32/53   train_loss = 1.774\n",
      "Epoch  66 Batch   42/53   train_loss = 1.741\n",
      "Epoch  66 Batch   52/53   train_loss = 1.831\n",
      "Epoch  67 Batch    9/53   train_loss = 1.675\n",
      "Epoch  67 Batch   19/53   train_loss = 1.819\n",
      "Epoch  67 Batch   29/53   train_loss = 1.757\n",
      "Epoch  67 Batch   39/53   train_loss = 1.730\n",
      "Epoch  67 Batch   49/53   train_loss = 1.795\n",
      "Epoch  68 Batch    6/53   train_loss = 1.726\n",
      "Epoch  68 Batch   16/53   train_loss = 1.777\n",
      "Epoch  68 Batch   26/53   train_loss = 1.645\n",
      "Epoch  68 Batch   36/53   train_loss = 1.847\n",
      "Epoch  68 Batch   46/53   train_loss = 1.774\n",
      "Epoch  69 Batch    3/53   train_loss = 1.696\n",
      "Epoch  69 Batch   13/53   train_loss = 1.802\n",
      "Epoch  69 Batch   23/53   train_loss = 1.729\n",
      "Epoch  69 Batch   33/53   train_loss = 1.752\n",
      "Epoch  69 Batch   43/53   train_loss = 1.773\n",
      "Epoch  70 Batch    0/53   train_loss = 1.667\n",
      "Epoch  70 Batch   10/53   train_loss = 1.641\n",
      "Epoch  70 Batch   20/53   train_loss = 1.712\n",
      "Epoch  70 Batch   30/53   train_loss = 1.759\n",
      "Epoch  70 Batch   40/53   train_loss = 1.722\n",
      "Epoch  70 Batch   50/53   train_loss = 1.733\n",
      "Epoch  71 Batch    7/53   train_loss = 1.656\n",
      "Epoch  71 Batch   17/53   train_loss = 1.584\n",
      "Epoch  71 Batch   27/53   train_loss = 1.737\n",
      "Epoch  71 Batch   37/53   train_loss = 1.721\n",
      "Epoch  71 Batch   47/53   train_loss = 1.656\n",
      "Epoch  72 Batch    4/53   train_loss = 1.649\n",
      "Epoch  72 Batch   14/53   train_loss = 1.606\n",
      "Epoch  72 Batch   24/53   train_loss = 1.536\n",
      "Epoch  72 Batch   34/53   train_loss = 1.654\n",
      "Epoch  72 Batch   44/53   train_loss = 1.714\n",
      "Epoch  73 Batch    1/53   train_loss = 1.575\n",
      "Epoch  73 Batch   11/53   train_loss = 1.612\n",
      "Epoch  73 Batch   21/53   train_loss = 1.442\n",
      "Epoch  73 Batch   31/53   train_loss = 1.632\n",
      "Epoch  73 Batch   41/53   train_loss = 1.610\n",
      "Epoch  73 Batch   51/53   train_loss = 1.547\n",
      "Epoch  74 Batch    8/53   train_loss = 1.528\n",
      "Epoch  74 Batch   18/53   train_loss = 1.588\n",
      "Epoch  74 Batch   28/53   train_loss = 1.615\n",
      "Epoch  74 Batch   38/53   train_loss = 1.643\n",
      "Epoch  74 Batch   48/53   train_loss = 1.503\n",
      "Epoch  75 Batch    5/53   train_loss = 1.647\n",
      "Epoch  75 Batch   15/53   train_loss = 1.586\n",
      "Epoch  75 Batch   25/53   train_loss = 1.638\n",
      "Epoch  75 Batch   35/53   train_loss = 1.610\n",
      "Epoch  75 Batch   45/53   train_loss = 1.637\n",
      "Epoch  76 Batch    2/53   train_loss = 1.581\n",
      "Epoch  76 Batch   12/53   train_loss = 1.567\n",
      "Epoch  76 Batch   22/53   train_loss = 1.548\n",
      "Epoch  76 Batch   32/53   train_loss = 1.513\n",
      "Epoch  76 Batch   42/53   train_loss = 1.508\n",
      "Epoch  76 Batch   52/53   train_loss = 1.600\n",
      "Epoch  77 Batch    9/53   train_loss = 1.419\n",
      "Epoch  77 Batch   19/53   train_loss = 1.551\n",
      "Epoch  77 Batch   29/53   train_loss = 1.529\n",
      "Epoch  77 Batch   39/53   train_loss = 1.481\n",
      "Epoch  77 Batch   49/53   train_loss = 1.543\n",
      "Epoch  78 Batch    6/53   train_loss = 1.488\n",
      "Epoch  78 Batch   16/53   train_loss = 1.507\n",
      "Epoch  78 Batch   26/53   train_loss = 1.365\n",
      "Epoch  78 Batch   36/53   train_loss = 1.585\n",
      "Epoch  78 Batch   46/53   train_loss = 1.522\n",
      "Epoch  79 Batch    3/53   train_loss = 1.448\n",
      "Epoch  79 Batch   13/53   train_loss = 1.550\n",
      "Epoch  79 Batch   23/53   train_loss = 1.465\n",
      "Epoch  79 Batch   33/53   train_loss = 1.501\n",
      "Epoch  79 Batch   43/53   train_loss = 1.550\n",
      "Epoch  80 Batch    0/53   train_loss = 1.448\n",
      "Epoch  80 Batch   10/53   train_loss = 1.409\n",
      "Epoch  80 Batch   20/53   train_loss = 1.438\n",
      "Epoch  80 Batch   30/53   train_loss = 1.500\n",
      "Epoch  80 Batch   40/53   train_loss = 1.479\n",
      "Epoch  80 Batch   50/53   train_loss = 1.468\n",
      "Epoch  81 Batch    7/53   train_loss = 1.410\n",
      "Epoch  81 Batch   17/53   train_loss = 1.342\n",
      "Epoch  81 Batch   27/53   train_loss = 1.488\n",
      "Epoch  81 Batch   37/53   train_loss = 1.470\n",
      "Epoch  81 Batch   47/53   train_loss = 1.427\n",
      "Epoch  82 Batch    4/53   train_loss = 1.439\n",
      "Epoch  82 Batch   14/53   train_loss = 1.376\n",
      "Epoch  82 Batch   24/53   train_loss = 1.300\n",
      "Epoch  82 Batch   34/53   train_loss = 1.439\n",
      "Epoch  82 Batch   44/53   train_loss = 1.484\n",
      "Epoch  83 Batch    1/53   train_loss = 1.360\n",
      "Epoch  83 Batch   11/53   train_loss = 1.382\n",
      "Epoch  83 Batch   21/53   train_loss = 1.203\n",
      "Epoch  83 Batch   31/53   train_loss = 1.427\n",
      "Epoch  83 Batch   41/53   train_loss = 1.393\n",
      "Epoch  83 Batch   51/53   train_loss = 1.329\n",
      "Epoch  84 Batch    8/53   train_loss = 1.317\n",
      "Epoch  84 Batch   18/53   train_loss = 1.382\n",
      "Epoch  84 Batch   28/53   train_loss = 1.404\n",
      "Epoch  84 Batch   38/53   train_loss = 1.451\n",
      "Epoch  84 Batch   48/53   train_loss = 1.296\n",
      "Epoch  85 Batch    5/53   train_loss = 1.426\n",
      "Epoch  85 Batch   15/53   train_loss = 1.346\n",
      "Epoch  85 Batch   25/53   train_loss = 1.386\n",
      "Epoch  85 Batch   35/53   train_loss = 1.409\n",
      "Epoch  85 Batch   45/53   train_loss = 1.458\n",
      "Epoch  86 Batch    2/53   train_loss = 1.397\n",
      "Epoch  86 Batch   12/53   train_loss = 1.369\n",
      "Epoch  86 Batch   22/53   train_loss = 1.330\n",
      "Epoch  86 Batch   32/53   train_loss = 1.294\n",
      "Epoch  86 Batch   42/53   train_loss = 1.323\n",
      "Epoch  86 Batch   52/53   train_loss = 1.421\n",
      "Epoch  87 Batch    9/53   train_loss = 1.234\n",
      "Epoch  87 Batch   19/53   train_loss = 1.347\n",
      "Epoch  87 Batch   29/53   train_loss = 1.301\n",
      "Epoch  87 Batch   39/53   train_loss = 1.263\n",
      "Epoch  87 Batch   49/53   train_loss = 1.342\n",
      "Epoch  88 Batch    6/53   train_loss = 1.312\n",
      "Epoch  88 Batch   16/53   train_loss = 1.324\n",
      "Epoch  88 Batch   26/53   train_loss = 1.167\n",
      "Epoch  88 Batch   36/53   train_loss = 1.389\n",
      "Epoch  88 Batch   46/53   train_loss = 1.324\n",
      "Epoch  89 Batch    3/53   train_loss = 1.240\n",
      "Epoch  89 Batch   13/53   train_loss = 1.343\n",
      "Epoch  89 Batch   23/53   train_loss = 1.296\n",
      "Epoch  89 Batch   33/53   train_loss = 1.292\n",
      "Epoch  89 Batch   43/53   train_loss = 1.345\n",
      "Epoch  90 Batch    0/53   train_loss = 1.257\n",
      "Epoch  90 Batch   10/53   train_loss = 1.233\n",
      "Epoch  90 Batch   20/53   train_loss = 1.247\n",
      "Epoch  90 Batch   30/53   train_loss = 1.300\n",
      "Epoch  90 Batch   40/53   train_loss = 1.294\n",
      "Epoch  90 Batch   50/53   train_loss = 1.266\n",
      "Epoch  91 Batch    7/53   train_loss = 1.214\n",
      "Epoch  91 Batch   17/53   train_loss = 1.154\n",
      "Epoch  91 Batch   27/53   train_loss = 1.284\n",
      "Epoch  91 Batch   37/53   train_loss = 1.269\n",
      "Epoch  91 Batch   47/53   train_loss = 1.239\n",
      "Epoch  92 Batch    4/53   train_loss = 1.240\n",
      "Epoch  92 Batch   14/53   train_loss = 1.185\n",
      "Epoch  92 Batch   24/53   train_loss = 1.111\n",
      "Epoch  92 Batch   34/53   train_loss = 1.228\n",
      "Epoch  92 Batch   44/53   train_loss = 1.304\n",
      "Epoch  93 Batch    1/53   train_loss = 1.182\n",
      "Epoch  93 Batch   11/53   train_loss = 1.222\n",
      "Epoch  93 Batch   21/53   train_loss = 1.032\n",
      "Epoch  93 Batch   31/53   train_loss = 1.226\n",
      "Epoch  93 Batch   41/53   train_loss = 1.199\n",
      "Epoch  93 Batch   51/53   train_loss = 1.142\n",
      "Epoch  94 Batch    8/53   train_loss = 1.132\n",
      "Epoch  94 Batch   18/53   train_loss = 1.176\n",
      "Epoch  94 Batch   28/53   train_loss = 1.205\n",
      "Epoch  94 Batch   38/53   train_loss = 1.260\n",
      "Epoch  94 Batch   48/53   train_loss = 1.115\n",
      "Epoch  95 Batch    5/53   train_loss = 1.239\n",
      "Epoch  95 Batch   15/53   train_loss = 1.160\n",
      "Epoch  95 Batch   25/53   train_loss = 1.206\n",
      "Epoch  95 Batch   35/53   train_loss = 1.178\n",
      "Epoch  95 Batch   45/53   train_loss = 1.263\n",
      "Epoch  96 Batch    2/53   train_loss = 1.176\n",
      "Epoch  96 Batch   12/53   train_loss = 1.172\n",
      "Epoch  96 Batch   22/53   train_loss = 1.145\n",
      "Epoch  96 Batch   32/53   train_loss = 1.108\n",
      "Epoch  96 Batch   42/53   train_loss = 1.136\n",
      "Epoch  96 Batch   52/53   train_loss = 1.231\n",
      "Epoch  97 Batch    9/53   train_loss = 1.062\n",
      "Epoch  97 Batch   19/53   train_loss = 1.151\n",
      "Epoch  97 Batch   29/53   train_loss = 1.118\n",
      "Epoch  97 Batch   39/53   train_loss = 1.069\n",
      "Epoch  97 Batch   49/53   train_loss = 1.149\n",
      "Epoch  98 Batch    6/53   train_loss = 1.112\n",
      "Epoch  98 Batch   16/53   train_loss = 1.124\n",
      "Epoch  98 Batch   26/53   train_loss = 0.976\n",
      "Epoch  98 Batch   36/53   train_loss = 1.207\n",
      "Epoch  98 Batch   46/53   train_loss = 1.132\n",
      "Epoch  99 Batch    3/53   train_loss = 1.062\n",
      "Epoch  99 Batch   13/53   train_loss = 1.164\n",
      "Epoch  99 Batch   23/53   train_loss = 1.131\n",
      "Epoch  99 Batch   33/53   train_loss = 1.114\n",
      "Epoch  99 Batch   43/53   train_loss = 1.149\n",
      "Model Trained and Saved\n"
     ]
    }
   ],
   "source": [
    "\"\"\"\n",
    "DON'T MODIFY ANYTHING IN THIS CELL\n",
    "\"\"\"\n",
    "batches = get_batches(int_text, batch_size, seq_length)\n",
    "\n",
    "with tf.Session(graph=train_graph) as sess:\n",
    "    sess.run(tf.global_variables_initializer())\n",
    "\n",
    "    for epoch_i in range(num_epochs):\n",
    "        state = sess.run(initial_state, {input_text: batches[0][0]})\n",
    "\n",
    "        for batch_i, (x, y) in enumerate(batches):\n",
    "            feed = {\n",
    "                input_text: x,\n",
    "                targets: y,\n",
    "                initial_state: state,\n",
    "                lr: learning_rate}\n",
    "            train_loss, state, _ = sess.run([cost, final_state, train_op], feed)\n",
    "\n",
    "            # Show every <show_every_n_batches> batches\n",
    "            if (epoch_i * len(batches) + batch_i) % show_every_n_batches == 0:\n",
    "                print('Epoch {:>3} Batch {:>4}/{}   train_loss = {:.3f}'.format(\n",
    "                    epoch_i,\n",
    "                    batch_i,\n",
    "                    len(batches),\n",
    "                    train_loss))\n",
    "\n",
    "    # Save Model\n",
    "    saver = tf.train.Saver()\n",
    "    saver.save(sess, save_dir)\n",
    "    print('Model Trained and Saved')"
   ]
  },
  {
   "cell_type": "markdown",
   "metadata": {
    "deletable": true,
    "editable": true
   },
   "source": [
    "## Save Parameters\n",
    "Save `seq_length` and `save_dir` for generating a new TV script."
   ]
  },
  {
   "cell_type": "code",
   "execution_count": 61,
   "metadata": {
    "collapsed": false,
    "deletable": true,
    "editable": true
   },
   "outputs": [],
   "source": [
    "\"\"\"\n",
    "DON'T MODIFY ANYTHING IN THIS CELL\n",
    "\"\"\"\n",
    "# Save parameters for checkpoint\n",
    "helper.save_params((seq_length, save_dir))"
   ]
  },
  {
   "cell_type": "markdown",
   "metadata": {
    "deletable": true,
    "editable": true
   },
   "source": [
    "# Checkpoint"
   ]
  },
  {
   "cell_type": "code",
   "execution_count": 62,
   "metadata": {
    "collapsed": false,
    "deletable": true,
    "editable": true
   },
   "outputs": [],
   "source": [
    "\"\"\"\n",
    "DON'T MODIFY ANYTHING IN THIS CELL\n",
    "\"\"\"\n",
    "import tensorflow as tf\n",
    "import numpy as np\n",
    "import helper\n",
    "import problem_unittests as tests\n",
    "\n",
    "_, vocab_to_int, int_to_vocab, token_dict = helper.load_preprocess()\n",
    "seq_length, load_dir = helper.load_params()"
   ]
  },
  {
   "cell_type": "markdown",
   "metadata": {
    "deletable": true,
    "editable": true
   },
   "source": [
    "## Implement Generate Functions\n",
    "### Get Tensors\n",
    "Get tensors from `loaded_graph` using the function [`get_tensor_by_name()`](https://www.tensorflow.org/api_docs/python/tf/Graph#get_tensor_by_name).  Get the tensors using the following names:\n",
    "- \"input:0\"\n",
    "- \"initial_state:0\"\n",
    "- \"final_state:0\"\n",
    "- \"probs:0\"\n",
    "\n",
    "Return the tensors in the following tuple `(InputTensor, InitialStateTensor, FinalStateTensor, ProbsTensor)` "
   ]
  },
  {
   "cell_type": "code",
   "execution_count": 63,
   "metadata": {
    "collapsed": false,
    "deletable": true,
    "editable": true
   },
   "outputs": [
    {
     "name": "stdout",
     "output_type": "stream",
     "text": [
      "Tests Passed\n"
     ]
    }
   ],
   "source": [
    "def get_tensors(loaded_graph):\n",
    "    \"\"\"\n",
    "    Get input, initial state, final state, and probabilities tensor from <loaded_graph>\n",
    "    :param loaded_graph: TensorFlow graph loaded from file\n",
    "    :return: Tuple (InputTensor, InitialStateTensor, FinalStateTensor, ProbsTensor)\n",
    "    \"\"\"\n",
    "    # TODO: Implement Function\n",
    "    input_ = loaded_graph.get_tensor_by_name(\"input:0\")\n",
    "    initial_state_ = loaded_graph.get_tensor_by_name(\"initial_state:0\")\n",
    "    final_state_ = loaded_graph.get_tensor_by_name(\"final_state:0\")\n",
    "    probs_ = loaded_graph.get_tensor_by_name(\"probs:0\")\n",
    "    return input_, initial_state_, final_state_, probs_\n",
    "\n",
    "\n",
    "\"\"\"\n",
    "DON'T MODIFY ANYTHING IN THIS CELL THAT IS BELOW THIS LINE\n",
    "\"\"\"\n",
    "tests.test_get_tensors(get_tensors)"
   ]
  },
  {
   "cell_type": "markdown",
   "metadata": {
    "deletable": true,
    "editable": true
   },
   "source": [
    "### Choose Word\n",
    "Implement the `pick_word()` function to select the next word using `probabilities`."
   ]
  },
  {
   "cell_type": "code",
   "execution_count": 64,
   "metadata": {
    "collapsed": false,
    "deletable": true,
    "editable": true
   },
   "outputs": [
    {
     "name": "stdout",
     "output_type": "stream",
     "text": [
      "Tests Passed\n"
     ]
    }
   ],
   "source": [
    "def pick_word(probabilities, int_to_vocab):\n",
    "    \"\"\"\n",
    "    Pick the next word in the generated text\n",
    "    :param probabilities: Probabilites of the next word\n",
    "    :param int_to_vocab: Dictionary of word ids as the keys and words as the values\n",
    "    :return: String of the predicted word\n",
    "    \"\"\"\n",
    "    # TODO: Implement Function    \n",
    "    return int_to_vocab[np.random.choice(len(probabilities), p=probabilities)]\n",
    "\n",
    "\n",
    "\"\"\"\n",
    "DON'T MODIFY ANYTHING IN THIS CELL THAT IS BELOW THIS LINE\n",
    "\"\"\"\n",
    "tests.test_pick_word(pick_word)"
   ]
  },
  {
   "cell_type": "markdown",
   "metadata": {
    "deletable": true,
    "editable": true
   },
   "source": [
    "## Generate TV Script\n",
    "This will generate the TV script for you.  Set `gen_length` to the length of TV script you want to generate."
   ]
  },
  {
   "cell_type": "code",
   "execution_count": 70,
   "metadata": {
    "collapsed": false,
    "deletable": true,
    "editable": true
   },
   "outputs": [
    {
     "name": "stdout",
     "output_type": "stream",
     "text": [
      "moe_szyslak: shut up and thanks a minute. how did it really?\n",
      "barney_gumble:(uneasy) oh, no. an election.\n",
      "moe_szyslak:(happily singing to the camera) it's you, lenny.\n",
      "homer_simpson: oh, i gotta take it.\n",
      "barney_gumble: i know a huge compliment.\n",
      "marge_simpson: awww.\n",
      "moe_szyslak: yeah. / great way!\n",
      "ken:(gasps) when was one other place from now.\n",
      "collette: i said, homer?\n",
      "moe_szyslak: were some guy i would like so much to have some more. you've gotta put your day to get the fireworks smugglers and he invented the bar who door. how am i gotta check to the bar that's the twenty years of my problems. we can love.\n",
      "homer's_brain: not at moe's. that's my bit we all i got a grand, reckless gesture, the brooklyn bridge is every right.\n",
      "moe_szyslak: that's alright, take it easy help, homer. _julius_hibbert: mmm-hmm, i can't stand to the secret ingredient that happened.\n",
      "moe_szyslak: no gotta be so strong. so\n"
     ]
    }
   ],
   "source": [
    "gen_length = 200\n",
    "# homer_simpson, moe_szyslak, or Barney_Gumble\n",
    "prime_word = 'moe_szyslak'\n",
    "\n",
    "\"\"\"\n",
    "DON'T MODIFY ANYTHING IN THIS CELL THAT IS BELOW THIS LINE\n",
    "\"\"\"\n",
    "loaded_graph = tf.Graph()\n",
    "with tf.Session(graph=loaded_graph) as sess:\n",
    "    # Load saved model\n",
    "    loader = tf.train.import_meta_graph(load_dir + '.meta')\n",
    "    loader.restore(sess, load_dir)\n",
    "\n",
    "    # Get Tensors from loaded model\n",
    "    input_text, initial_state, final_state, probs = get_tensors(loaded_graph)\n",
    "\n",
    "    # Sentences generation setup\n",
    "    gen_sentences = [prime_word + ':']\n",
    "    prev_state = sess.run(initial_state, {input_text: np.array([[1]])})\n",
    "\n",
    "    # Generate sentences\n",
    "    for n in range(gen_length):\n",
    "        # Dynamic Input\n",
    "        dyn_input = [[vocab_to_int[word] for word in gen_sentences[-seq_length:]]]\n",
    "        dyn_seq_length = len(dyn_input[0])\n",
    "\n",
    "        # Get Prediction\n",
    "        probabilities, prev_state = sess.run(\n",
    "            [probs, final_state],\n",
    "            {input_text: dyn_input, initial_state: prev_state})\n",
    "        \n",
    "        pred_word = pick_word(probabilities[dyn_seq_length-1], int_to_vocab)\n",
    "\n",
    "        gen_sentences.append(pred_word)\n",
    "    \n",
    "    # Remove tokens\n",
    "    tv_script = ' '.join(gen_sentences)\n",
    "    for key, token in token_dict.items():\n",
    "        ending = ' ' if key in ['\\n', '(', '\"'] else ''\n",
    "        tv_script = tv_script.replace(' ' + token.lower(), key)\n",
    "    tv_script = tv_script.replace('\\n ', '\\n')\n",
    "    tv_script = tv_script.replace('( ', '(')\n",
    "        \n",
    "    print(tv_script)"
   ]
  },
  {
   "cell_type": "markdown",
   "metadata": {
    "deletable": true,
    "editable": true
   },
   "source": [
    "# The TV Script is Nonsensical\n",
    "It's ok if the TV script doesn't make any sense.  We trained on less than a megabyte of text.  In order to get good results, you'll have to use a smaller vocabulary or get more data.  Luckly there's more data!  As we mentioned in the begging of this project, this is a subset of [another dataset](https://www.kaggle.com/wcukierski/the-simpsons-by-the-data).  We didn't have you train on all the data, because that would take too long.  However, you are free to train your neural network on all the data.  After you complete the project, of course.\n",
    "# Submitting This Project\n",
    "When submitting this project, make sure to run all the cells before saving the notebook. Save the notebook file as \"dlnd_tv_script_generation.ipynb\" and save it as a HTML file under \"File\" -> \"Download as\". Include the \"helper.py\" and \"problem_unittests.py\" files in your submission."
   ]
  },
  {
   "cell_type": "code",
   "execution_count": null,
   "metadata": {
    "collapsed": true
   },
   "outputs": [],
   "source": []
  }
 ],
 "metadata": {
  "kernelspec": {
   "display_name": "Python 3",
   "language": "python",
   "name": "python3"
  },
  "language_info": {
   "codemirror_mode": {
    "name": "ipython",
    "version": 3
   },
   "file_extension": ".py",
   "mimetype": "text/x-python",
   "name": "python",
   "nbconvert_exporter": "python",
   "pygments_lexer": "ipython3",
   "version": "3.5.3"
  },
  "widgets": {
   "state": {},
   "version": "1.1.2"
  }
 },
 "nbformat": 4,
 "nbformat_minor": 0
}
